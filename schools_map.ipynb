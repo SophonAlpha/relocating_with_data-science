{
 "cells": [
  {
   "cell_type": "markdown",
   "id": "f7edf257-5b0d-4df4-b22d-8828b18fddfa",
   "metadata": {},
   "source": [
    "## Setup"
   ]
  },
  {
   "cell_type": "code",
   "execution_count": 1,
   "id": "73b8dd44-7b82-47ac-9e60-d37777b1e04a",
   "metadata": {},
   "outputs": [],
   "source": [
    "import json\n",
    "import datetime\n",
    "import pandas as pd\n",
    "import googlemaps\n",
    "from pandas_geojson import to_geojson\n",
    "from ipyleaflet import Map, GeoJSON, FullScreenControl, Marker, MarkerCluster, AwesomeIcon\n",
    "from ipywidgets import Layout, HTML\n",
    "\n",
    "cfg = json.load(open('secure/config.json'))\n",
    "gmaps = googlemaps.Client(key=cfg['google_maps_api_key'])"
   ]
  },
  {
   "cell_type": "markdown",
   "id": "8bda8e67-f2ba-4121-bb0d-bfa1547f1b49",
   "metadata": {},
   "source": [
    "## Add markers and show schools on map"
   ]
  },
  {
   "cell_type": "code",
   "execution_count": 2,
   "id": "43ce4a98-6049-45e7-93d3-4373f3f4384b",
   "metadata": {
    "tags": []
   },
   "outputs": [
    {
     "data": {
      "application/vnd.jupyter.widget-view+json": {
       "model_id": "a46e80482b024798908f94be9d594d9d",
       "version_major": 2,
       "version_minor": 0
      },
      "text/plain": [
       "Map(center=[48.144227, 11.560515], controls=(ZoomControl(options=['position', 'zoom_in_text', 'zoom_in_title',…"
      ]
     },
     "metadata": {},
     "output_type": "display_data"
    }
   ],
   "source": [
    "def add_school_map_marker(row):\n",
    "    icon_type = {\n",
    "        'Gymnasium': AwesomeIcon(\n",
    "            name='fa-graduation-cap',\n",
    "            marker_color='blue',\n",
    "            icon_color='black',\n",
    "            spin=False\n",
    "        ),\n",
    "        'Freie Waldorfschule': AwesomeIcon(\n",
    "            name='fa-graduation-cap',\n",
    "            marker_color='green',\n",
    "            icon_color='black',\n",
    "            spin=False\n",
    "        )\n",
    "    }\n",
    "    icon_no_public_transport = AwesomeIcon(\n",
    "            name='fa-graduation-cap',\n",
    "            marker_color='black',\n",
    "            icon_color='white',\n",
    "            spin=False\n",
    "        )\n",
    "    marker_icon = icon_type[row.Schultyp] if not(pd.isna(row.travel_duration_min)) else icon_no_public_transport\n",
    "    marker = Marker(icon=marker_icon, location=(row.latitude, row.longitude), draggable=False, title=row.Name)\n",
    "    message = HTML()\n",
    "    message.value = f'<a href=\"https://{row.Homepage}\">{row.Name}</a><p>travel time: {row.travel_duration_min} min</p>'\n",
    "    marker.popup = message\n",
    "    return marker\n",
    "\n",
    "# Load previously saved data\n",
    "schools_of_interest = pd.read_parquet('parquet/schools_gps_travel.parquet', engine=\"pyarrow\")\n",
    "\n",
    "# Add map markers\n",
    "schools_of_interest[['marker']] = pd.DataFrame(\n",
    "    schools_of_interest.apply(\n",
    "        lambda row: add_school_map_marker(row), axis=1\n",
    "    ).tolist(), index=schools_of_interest.index)\n",
    "\n",
    "munich = (48.144227, 11.560515)\n",
    "m = Map(center=munich, zoom=9, layout=Layout(width='100%', height='900px'))\n",
    "m.add_control(FullScreenControl())\n",
    "\n",
    "waldorf_cluster = MarkerCluster(\n",
    "    markers=(schools_of_interest[schools_of_interest.Schultyp=='Freie Waldorfschule']['marker'].tolist())\n",
    ")\n",
    "m.add_layer(waldorf_cluster);\n",
    "gymnasium_cluster = MarkerCluster(\n",
    "    markers=(schools_of_interest[schools_of_interest.Schultyp=='Gymnasium']['marker'].tolist())\n",
    ")\n",
    "m.add_layer(gymnasium_cluster);\n",
    "\n",
    "display(m)"
   ]
  }
 ],
 "metadata": {
  "kernelspec": {
   "display_name": "default:Python",
   "language": "python",
   "name": "conda-env-default-py"
  },
  "language_info": {
   "codemirror_mode": {
    "name": "ipython",
    "version": 3
   },
   "file_extension": ".py",
   "mimetype": "text/x-python",
   "name": "python",
   "nbconvert_exporter": "python",
   "pygments_lexer": "ipython3",
   "version": "3.9.13"
  }
 },
 "nbformat": 4,
 "nbformat_minor": 5
}
