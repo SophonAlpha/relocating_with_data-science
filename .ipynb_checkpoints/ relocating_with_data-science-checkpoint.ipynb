{
 "cells": [
  {
   "cell_type": "markdown",
   "id": "f7edf257-5b0d-4df4-b22d-8828b18fddfa",
   "metadata": {},
   "source": [
    "## Setup"
   ]
  },
  {
   "cell_type": "code",
   "execution_count": 5,
   "id": "6957e84f-4faf-4eb9-823e-d978e00268ac",
   "metadata": {
    "collapsed": true,
    "jupyter": {
     "outputs_hidden": true
    },
    "tags": []
   },
   "outputs": [
    {
     "name": "stdout",
     "output_type": "stream",
     "text": [
      "Requirement already satisfied: geopandas in /home/studio-lab-user/.conda/envs/default/lib/python3.9/site-packages (0.11.1)\n",
      "Requirement already satisfied: shapely<2,>=1.7 in /home/studio-lab-user/.conda/envs/default/lib/python3.9/site-packages (from geopandas) (1.8.4)\n",
      "Requirement already satisfied: packaging in /home/studio-lab-user/.conda/envs/default/lib/python3.9/site-packages (from geopandas) (21.3)\n",
      "Requirement already satisfied: pyproj>=2.6.1.post1 in /home/studio-lab-user/.conda/envs/default/lib/python3.9/site-packages (from geopandas) (3.3.1)\n",
      "Requirement already satisfied: pandas>=1.0.0 in /home/studio-lab-user/.conda/envs/default/lib/python3.9/site-packages (from geopandas) (1.4.3)\n",
      "Requirement already satisfied: fiona>=1.8 in /home/studio-lab-user/.conda/envs/default/lib/python3.9/site-packages (from geopandas) (1.8.21)\n",
      "Requirement already satisfied: setuptools in /home/studio-lab-user/.conda/envs/default/lib/python3.9/site-packages (from fiona>=1.8->geopandas) (63.4.2)\n",
      "Requirement already satisfied: six>=1.7 in /home/studio-lab-user/.conda/envs/default/lib/python3.9/site-packages (from fiona>=1.8->geopandas) (1.16.0)\n",
      "Requirement already satisfied: attrs>=17 in /home/studio-lab-user/.conda/envs/default/lib/python3.9/site-packages (from fiona>=1.8->geopandas) (22.1.0)\n",
      "Requirement already satisfied: cligj>=0.5 in /home/studio-lab-user/.conda/envs/default/lib/python3.9/site-packages (from fiona>=1.8->geopandas) (0.7.2)\n",
      "Requirement already satisfied: certifi in /home/studio-lab-user/.conda/envs/default/lib/python3.9/site-packages (from fiona>=1.8->geopandas) (2022.6.15)\n",
      "Requirement already satisfied: click>=4.0 in /home/studio-lab-user/.conda/envs/default/lib/python3.9/site-packages (from fiona>=1.8->geopandas) (8.1.3)\n",
      "Requirement already satisfied: munch in /home/studio-lab-user/.conda/envs/default/lib/python3.9/site-packages (from fiona>=1.8->geopandas) (2.5.0)\n",
      "Requirement already satisfied: click-plugins>=1.0 in /home/studio-lab-user/.conda/envs/default/lib/python3.9/site-packages (from fiona>=1.8->geopandas) (1.1.1)\n",
      "Requirement already satisfied: numpy>=1.18.5 in /home/studio-lab-user/.conda/envs/default/lib/python3.9/site-packages (from pandas>=1.0.0->geopandas) (1.23.2)\n",
      "Requirement already satisfied: python-dateutil>=2.8.1 in /home/studio-lab-user/.conda/envs/default/lib/python3.9/site-packages (from pandas>=1.0.0->geopandas) (2.8.2)\n",
      "Requirement already satisfied: pytz>=2020.1 in /home/studio-lab-user/.conda/envs/default/lib/python3.9/site-packages (from pandas>=1.0.0->geopandas) (2022.2.1)\n",
      "Requirement already satisfied: pyparsing!=3.0.5,>=2.0.2 in /home/studio-lab-user/.conda/envs/default/lib/python3.9/site-packages (from packaging->geopandas) (3.0.9)\n",
      "Note: you may need to restart the kernel to use updated packages.\n",
      "Requirement already satisfied: geopy in /home/studio-lab-user/.conda/envs/default/lib/python3.9/site-packages (2.2.0)\n",
      "Requirement already satisfied: geographiclib<2,>=1.49 in /home/studio-lab-user/.conda/envs/default/lib/python3.9/site-packages (from geopy) (1.52)\n",
      "Note: you may need to restart the kernel to use updated packages.\n",
      "Requirement already satisfied: gmaps in /home/studio-lab-user/.conda/envs/default/lib/python3.9/site-packages (0.9.0)\n",
      "Requirement already satisfied: six in /home/studio-lab-user/.conda/envs/default/lib/python3.9/site-packages (from gmaps) (1.16.0)\n",
      "Requirement already satisfied: ipywidgets>=7.0.0 in /home/studio-lab-user/.conda/envs/default/lib/python3.9/site-packages (from gmaps) (7.7.1)\n",
      "Requirement already satisfied: ipython>=5.3.0 in /home/studio-lab-user/.conda/envs/default/lib/python3.9/site-packages (from gmaps) (7.33.0)\n",
      "Requirement already satisfied: geojson>=2.0.0 in /home/studio-lab-user/.conda/envs/default/lib/python3.9/site-packages (from gmaps) (2.5.0)\n",
      "Requirement already satisfied: traitlets>=4.3.0 in /home/studio-lab-user/.conda/envs/default/lib/python3.9/site-packages (from gmaps) (5.3.0)\n",
      "Requirement already satisfied: matplotlib-inline in /home/studio-lab-user/.conda/envs/default/lib/python3.9/site-packages (from ipython>=5.3.0->gmaps) (0.1.3)\n",
      "Requirement already satisfied: backcall in /home/studio-lab-user/.conda/envs/default/lib/python3.9/site-packages (from ipython>=5.3.0->gmaps) (0.2.0)\n",
      "Requirement already satisfied: jedi>=0.16 in /home/studio-lab-user/.conda/envs/default/lib/python3.9/site-packages (from ipython>=5.3.0->gmaps) (0.18.1)\n",
      "Requirement already satisfied: setuptools>=18.5 in /home/studio-lab-user/.conda/envs/default/lib/python3.9/site-packages (from ipython>=5.3.0->gmaps) (63.4.2)\n",
      "Requirement already satisfied: pickleshare in /home/studio-lab-user/.conda/envs/default/lib/python3.9/site-packages (from ipython>=5.3.0->gmaps) (0.7.5)\n",
      "Requirement already satisfied: prompt-toolkit!=3.0.0,!=3.0.1,<3.1.0,>=2.0.0 in /home/studio-lab-user/.conda/envs/default/lib/python3.9/site-packages (from ipython>=5.3.0->gmaps) (3.0.30)\n",
      "Requirement already satisfied: pexpect>4.3 in /home/studio-lab-user/.conda/envs/default/lib/python3.9/site-packages (from ipython>=5.3.0->gmaps) (4.8.0)\n",
      "Requirement already satisfied: pygments in /home/studio-lab-user/.conda/envs/default/lib/python3.9/site-packages (from ipython>=5.3.0->gmaps) (2.12.0)\n",
      "Requirement already satisfied: decorator in /home/studio-lab-user/.conda/envs/default/lib/python3.9/site-packages (from ipython>=5.3.0->gmaps) (5.1.1)\n",
      "Requirement already satisfied: widgetsnbextension~=3.6.0 in /home/studio-lab-user/.conda/envs/default/lib/python3.9/site-packages (from ipywidgets>=7.0.0->gmaps) (3.6.1)\n",
      "Requirement already satisfied: jupyterlab-widgets>=1.0.0 in /home/studio-lab-user/.conda/envs/default/lib/python3.9/site-packages (from ipywidgets>=7.0.0->gmaps) (1.1.1)\n",
      "Requirement already satisfied: ipython-genutils~=0.2.0 in /home/studio-lab-user/.conda/envs/default/lib/python3.9/site-packages (from ipywidgets>=7.0.0->gmaps) (0.2.0)\n",
      "Requirement already satisfied: ipykernel>=4.5.1 in /home/studio-lab-user/.conda/envs/default/lib/python3.9/site-packages (from ipywidgets>=7.0.0->gmaps) (6.4.2)\n",
      "Requirement already satisfied: debugpy<2.0,>=1.0.0 in /home/studio-lab-user/.conda/envs/default/lib/python3.9/site-packages (from ipykernel>=4.5.1->ipywidgets>=7.0.0->gmaps) (1.6.0)\n",
      "Requirement already satisfied: jupyter-client<8.0 in /home/studio-lab-user/.conda/envs/default/lib/python3.9/site-packages (from ipykernel>=4.5.1->ipywidgets>=7.0.0->gmaps) (7.3.4)\n",
      "Requirement already satisfied: tornado<7.0,>=4.2 in /home/studio-lab-user/.conda/envs/default/lib/python3.9/site-packages (from ipykernel>=4.5.1->ipywidgets>=7.0.0->gmaps) (6.2)\n",
      "Requirement already satisfied: parso<0.9.0,>=0.8.0 in /home/studio-lab-user/.conda/envs/default/lib/python3.9/site-packages (from jedi>=0.16->ipython>=5.3.0->gmaps) (0.8.3)\n",
      "Requirement already satisfied: python-dateutil>=2.8.2 in /home/studio-lab-user/.conda/envs/default/lib/python3.9/site-packages (from jupyter-client<8.0->ipykernel>=4.5.1->ipywidgets>=7.0.0->gmaps) (2.8.2)\n",
      "Requirement already satisfied: pyzmq>=23.0 in /home/studio-lab-user/.conda/envs/default/lib/python3.9/site-packages (from jupyter-client<8.0->ipykernel>=4.5.1->ipywidgets>=7.0.0->gmaps) (23.2.0)\n",
      "Requirement already satisfied: entrypoints in /home/studio-lab-user/.conda/envs/default/lib/python3.9/site-packages (from jupyter-client<8.0->ipykernel>=4.5.1->ipywidgets>=7.0.0->gmaps) (0.4)\n",
      "Requirement already satisfied: jupyter-core>=4.9.2 in /home/studio-lab-user/.conda/envs/default/lib/python3.9/site-packages (from jupyter-client<8.0->ipykernel>=4.5.1->ipywidgets>=7.0.0->gmaps) (4.11.1)\n",
      "Requirement already satisfied: nest-asyncio>=1.5.4 in /home/studio-lab-user/.conda/envs/default/lib/python3.9/site-packages (from jupyter-client<8.0->ipykernel>=4.5.1->ipywidgets>=7.0.0->gmaps) (1.5.5)\n",
      "Requirement already satisfied: ptyprocess>=0.5 in /home/studio-lab-user/.conda/envs/default/lib/python3.9/site-packages (from pexpect>4.3->ipython>=5.3.0->gmaps) (0.7.0)\n",
      "Requirement already satisfied: wcwidth in /home/studio-lab-user/.conda/envs/default/lib/python3.9/site-packages (from prompt-toolkit!=3.0.0,!=3.0.1,<3.1.0,>=2.0.0->ipython>=5.3.0->gmaps) (0.2.5)\n",
      "Requirement already satisfied: notebook>=4.4.1 in /home/studio-lab-user/.conda/envs/default/lib/python3.9/site-packages (from widgetsnbextension~=3.6.0->ipywidgets>=7.0.0->gmaps) (6.4.12)\n",
      "Requirement already satisfied: nbformat in /home/studio-lab-user/.conda/envs/default/lib/python3.9/site-packages (from notebook>=4.4.1->widgetsnbextension~=3.6.0->ipywidgets>=7.0.0->gmaps) (5.4.0)\n",
      "Requirement already satisfied: Send2Trash>=1.8.0 in /home/studio-lab-user/.conda/envs/default/lib/python3.9/site-packages (from notebook>=4.4.1->widgetsnbextension~=3.6.0->ipywidgets>=7.0.0->gmaps) (1.8.0)\n",
      "Requirement already satisfied: prometheus-client in /home/studio-lab-user/.conda/envs/default/lib/python3.9/site-packages (from notebook>=4.4.1->widgetsnbextension~=3.6.0->ipywidgets>=7.0.0->gmaps) (0.14.1)\n",
      "Requirement already satisfied: nbconvert>=5 in /home/studio-lab-user/.conda/envs/default/lib/python3.9/site-packages (from notebook>=4.4.1->widgetsnbextension~=3.6.0->ipywidgets>=7.0.0->gmaps) (6.5.0)\n",
      "Requirement already satisfied: argon2-cffi in /home/studio-lab-user/.conda/envs/default/lib/python3.9/site-packages (from notebook>=4.4.1->widgetsnbextension~=3.6.0->ipywidgets>=7.0.0->gmaps) (21.3.0)\n",
      "Requirement already satisfied: terminado>=0.8.3 in /home/studio-lab-user/.conda/envs/default/lib/python3.9/site-packages (from notebook>=4.4.1->widgetsnbextension~=3.6.0->ipywidgets>=7.0.0->gmaps) (0.15.0)\n",
      "Requirement already satisfied: jinja2 in /home/studio-lab-user/.conda/envs/default/lib/python3.9/site-packages (from notebook>=4.4.1->widgetsnbextension~=3.6.0->ipywidgets>=7.0.0->gmaps) (3.1.2)\n",
      "Requirement already satisfied: beautifulsoup4 in /home/studio-lab-user/.conda/envs/default/lib/python3.9/site-packages (from nbconvert>=5->notebook>=4.4.1->widgetsnbextension~=3.6.0->ipywidgets>=7.0.0->gmaps) (4.11.1)\n",
      "Requirement already satisfied: defusedxml in /home/studio-lab-user/.conda/envs/default/lib/python3.9/site-packages (from nbconvert>=5->notebook>=4.4.1->widgetsnbextension~=3.6.0->ipywidgets>=7.0.0->gmaps) (0.7.1)\n",
      "Requirement already satisfied: nbclient>=0.5.0 in /home/studio-lab-user/.conda/envs/default/lib/python3.9/site-packages (from nbconvert>=5->notebook>=4.4.1->widgetsnbextension~=3.6.0->ipywidgets>=7.0.0->gmaps) (0.6.6)\n",
      "Requirement already satisfied: bleach in /home/studio-lab-user/.conda/envs/default/lib/python3.9/site-packages (from nbconvert>=5->notebook>=4.4.1->widgetsnbextension~=3.6.0->ipywidgets>=7.0.0->gmaps) (5.0.1)\n",
      "Requirement already satisfied: mistune<2,>=0.8.1 in /home/studio-lab-user/.conda/envs/default/lib/python3.9/site-packages (from nbconvert>=5->notebook>=4.4.1->widgetsnbextension~=3.6.0->ipywidgets>=7.0.0->gmaps) (0.8.4)\n",
      "Requirement already satisfied: tinycss2 in /home/studio-lab-user/.conda/envs/default/lib/python3.9/site-packages (from nbconvert>=5->notebook>=4.4.1->widgetsnbextension~=3.6.0->ipywidgets>=7.0.0->gmaps) (1.1.1)\n",
      "Requirement already satisfied: MarkupSafe>=2.0 in /home/studio-lab-user/.conda/envs/default/lib/python3.9/site-packages (from nbconvert>=5->notebook>=4.4.1->widgetsnbextension~=3.6.0->ipywidgets>=7.0.0->gmaps) (2.1.1)\n",
      "Requirement already satisfied: packaging in /home/studio-lab-user/.conda/envs/default/lib/python3.9/site-packages (from nbconvert>=5->notebook>=4.4.1->widgetsnbextension~=3.6.0->ipywidgets>=7.0.0->gmaps) (21.3)\n",
      "Requirement already satisfied: jupyterlab-pygments in /home/studio-lab-user/.conda/envs/default/lib/python3.9/site-packages (from nbconvert>=5->notebook>=4.4.1->widgetsnbextension~=3.6.0->ipywidgets>=7.0.0->gmaps) (0.2.2)\n",
      "Requirement already satisfied: pandocfilters>=1.4.1 in /home/studio-lab-user/.conda/envs/default/lib/python3.9/site-packages (from nbconvert>=5->notebook>=4.4.1->widgetsnbextension~=3.6.0->ipywidgets>=7.0.0->gmaps) (1.5.0)\n",
      "Requirement already satisfied: fastjsonschema in /home/studio-lab-user/.conda/envs/default/lib/python3.9/site-packages (from nbformat->notebook>=4.4.1->widgetsnbextension~=3.6.0->ipywidgets>=7.0.0->gmaps) (2.16.1)\n",
      "Requirement already satisfied: jsonschema>=2.6 in /home/studio-lab-user/.conda/envs/default/lib/python3.9/site-packages (from nbformat->notebook>=4.4.1->widgetsnbextension~=3.6.0->ipywidgets>=7.0.0->gmaps) (4.9.1)\n",
      "Requirement already satisfied: attrs>=17.4.0 in /home/studio-lab-user/.conda/envs/default/lib/python3.9/site-packages (from jsonschema>=2.6->nbformat->notebook>=4.4.1->widgetsnbextension~=3.6.0->ipywidgets>=7.0.0->gmaps) (22.1.0)\n",
      "Requirement already satisfied: pyrsistent!=0.17.0,!=0.17.1,!=0.17.2,>=0.14.0 in /home/studio-lab-user/.conda/envs/default/lib/python3.9/site-packages (from jsonschema>=2.6->nbformat->notebook>=4.4.1->widgetsnbextension~=3.6.0->ipywidgets>=7.0.0->gmaps) (0.18.1)\n",
      "Requirement already satisfied: argon2-cffi-bindings in /home/studio-lab-user/.conda/envs/default/lib/python3.9/site-packages (from argon2-cffi->notebook>=4.4.1->widgetsnbextension~=3.6.0->ipywidgets>=7.0.0->gmaps) (21.2.0)\n",
      "Requirement already satisfied: cffi>=1.0.1 in /home/studio-lab-user/.conda/envs/default/lib/python3.9/site-packages (from argon2-cffi-bindings->argon2-cffi->notebook>=4.4.1->widgetsnbextension~=3.6.0->ipywidgets>=7.0.0->gmaps) (1.15.1)\n",
      "Requirement already satisfied: pycparser in /home/studio-lab-user/.conda/envs/default/lib/python3.9/site-packages (from cffi>=1.0.1->argon2-cffi-bindings->argon2-cffi->notebook>=4.4.1->widgetsnbextension~=3.6.0->ipywidgets>=7.0.0->gmaps) (2.21)\n",
      "Requirement already satisfied: soupsieve>1.2 in /home/studio-lab-user/.conda/envs/default/lib/python3.9/site-packages (from beautifulsoup4->nbconvert>=5->notebook>=4.4.1->widgetsnbextension~=3.6.0->ipywidgets>=7.0.0->gmaps) (2.3.2.post1)\n",
      "Requirement already satisfied: webencodings in /home/studio-lab-user/.conda/envs/default/lib/python3.9/site-packages (from bleach->nbconvert>=5->notebook>=4.4.1->widgetsnbextension~=3.6.0->ipywidgets>=7.0.0->gmaps) (0.5.1)\n",
      "Requirement already satisfied: pyparsing!=3.0.5,>=2.0.2 in /home/studio-lab-user/.conda/envs/default/lib/python3.9/site-packages (from packaging->nbconvert>=5->notebook>=4.4.1->widgetsnbextension~=3.6.0->ipywidgets>=7.0.0->gmaps) (3.0.9)\n",
      "Note: you may need to restart the kernel to use updated packages.\n",
      "Requirement already satisfied: pyarrow in /home/studio-lab-user/.conda/envs/default/lib/python3.9/site-packages (9.0.0)\n",
      "Requirement already satisfied: numpy>=1.16.6 in /home/studio-lab-user/.conda/envs/default/lib/python3.9/site-packages (from pyarrow) (1.23.2)\n",
      "Note: you may need to restart the kernel to use updated packages.\n",
      "Requirement already satisfied: pandas-geojson in /home/studio-lab-user/.conda/envs/default/lib/python3.9/site-packages (1.2.0)\n",
      "Requirement already satisfied: pandas in /home/studio-lab-user/.conda/envs/default/lib/python3.9/site-packages (from pandas-geojson) (1.4.3)\n",
      "Requirement already satisfied: pytz>=2020.1 in /home/studio-lab-user/.conda/envs/default/lib/python3.9/site-packages (from pandas->pandas-geojson) (2022.2.1)\n",
      "Requirement already satisfied: numpy>=1.18.5 in /home/studio-lab-user/.conda/envs/default/lib/python3.9/site-packages (from pandas->pandas-geojson) (1.23.2)\n",
      "Requirement already satisfied: python-dateutil>=2.8.1 in /home/studio-lab-user/.conda/envs/default/lib/python3.9/site-packages (from pandas->pandas-geojson) (2.8.2)\n",
      "Requirement already satisfied: six>=1.5 in /home/studio-lab-user/.conda/envs/default/lib/python3.9/site-packages (from python-dateutil>=2.8.1->pandas->pandas-geojson) (1.16.0)\n",
      "Note: you may need to restart the kernel to use updated packages.\n",
      "Requirement already satisfied: python-google-places in /home/studio-lab-user/.conda/envs/default/lib/python3.9/site-packages (1.4.2)\n",
      "Requirement already satisfied: six in /home/studio-lab-user/.conda/envs/default/lib/python3.9/site-packages (from python-google-places) (1.16.0)\n",
      "Note: you may need to restart the kernel to use updated packages.\n",
      "Collecting googlemaps\n",
      "  Using cached googlemaps-4.6.0-py3-none-any.whl\n",
      "Collecting requests<3.0,>=2.20.0\n",
      "  Downloading requests-2.28.1-py3-none-any.whl (62 kB)\n",
      "\u001b[K     |████████████████████████████████| 62 kB 1.9 MB/s eta 0:00:011\n",
      "\u001b[?25hCollecting urllib3<1.27,>=1.21.1\n",
      "  Downloading urllib3-1.26.12-py2.py3-none-any.whl (140 kB)\n",
      "\u001b[K     |████████████████████████████████| 140 kB 9.3 MB/s eta 0:00:01\n",
      "\u001b[?25hRequirement already satisfied: certifi>=2017.4.17 in /home/studio-lab-user/.conda/envs/default/lib/python3.9/site-packages (from requests<3.0,>=2.20.0->googlemaps) (2022.6.15)\n",
      "Collecting charset-normalizer<3,>=2\n",
      "  Downloading charset_normalizer-2.1.1-py3-none-any.whl (39 kB)\n",
      "Collecting idna<4,>=2.5\n",
      "  Downloading idna-3.4-py3-none-any.whl (61 kB)\n",
      "\u001b[K     |████████████████████████████████| 61 kB 226 kB/s  eta 0:00:01\n",
      "\u001b[?25hInstalling collected packages: urllib3, idna, charset-normalizer, requests, googlemaps\n",
      "Successfully installed charset-normalizer-2.1.1 googlemaps-4.6.0 idna-3.4 requests-2.28.1 urllib3-1.26.12\n",
      "Note: you may need to restart the kernel to use updated packages.\n"
     ]
    }
   ],
   "source": [
    "%pip install geopandas\n",
    "%pip install geopy\n",
    "%pip install gmaps\n",
    "%pip install pyarrow\n",
    "%pip install pandas-geojson\n",
    "%pip install python-google-places\n",
    "%pip install googlemaps\n",
    "%pip install ipyleaflet"
   ]
  },
  {
   "cell_type": "code",
   "execution_count": 1,
   "id": "3cc0db36-4be9-481f-8ac3-29d17c59c7f4",
   "metadata": {},
   "outputs": [],
   "source": [
    "import json\n",
    "import datetime\n",
    "import pandas as pd\n",
    "import googlemaps\n",
    "from pandas_geojson import to_geojson\n",
    "from IPython.display import GeoJSON\n",
    "from IPython.display import display, HTML\n",
    "\n",
    "cfg = json.load(open('secure/config.json'))\n",
    "gmaps = googlemaps.Client(key=cfg['google_maps_api_key'])"
   ]
  },
  {
   "cell_type": "markdown",
   "id": "fa27f91a-1de9-4b92-835a-94d36f84e078",
   "metadata": {},
   "source": [
    "## Load school list and add GPS coordinates"
   ]
  },
  {
   "cell_type": "code",
   "execution_count": 2,
   "id": "1fa4fe9b-e4c5-462c-b6a1-d283c3889b67",
   "metadata": {
    "tags": []
   },
   "outputs": [],
   "source": [
    "df = pd.read_csv('schulsuche_export.csv', delimiter=';', encoding='ISO-8859-1')"
   ]
  },
  {
   "cell_type": "code",
   "execution_count": 3,
   "id": "5fe5585d-c112-42ca-abd6-642c9ed2c0d9",
   "metadata": {
    "collapsed": true,
    "jupyter": {
     "outputs_hidden": true
    },
    "tags": []
   },
   "outputs": [
    {
     "data": {
      "text/plain": [
       "array(['Gymnasium', 'Realschule',\n",
       "       'Volksschule zur sonderp?dagog. F?rderung',\n",
       "       'Sonstige Berufsfachschule',\n",
       "       'Berufsfachschule des Gesundheitswesens', 'Gewerbliche Fachschule',\n",
       "       'Berufsfachschule f. Fremdsprachenberufe',\n",
       "       'Kaufm?nnische Berufsfachschule', 'Grund- u. Mittelschule',\n",
       "       'Fachoberschule', 'Berufsoberschule', 'Wirtschaftsschule',\n",
       "       'Hauswirtschaftliche Fachschule', 'Berufsschule',\n",
       "       'Berufsfachs. f. Hauswirtschaft u. Sozialberufe', 'Fachakademie',\n",
       "       'Berufsschule zur sonderp?dagog. F?rderung',\n",
       "       'Gewerbliche Berufsfachschule',\n",
       "       'Berufsfachschule f. techn. Assistenzberufe', 'Abendrealschule',\n",
       "       nan, 'Freie Waldorfschule',\n",
       "       'Realschule zur sonderp?dagog. F?rderung', 'Ausl?ndische Schule',\n",
       "       'Schule besonderer Art', 'Berufsfachschule f. Musik',\n",
       "       'Abendgymnasium', 'Kolleg', 'Sonstige Fachschule',\n",
       "       'Landwirtschaftliche Fachschule',\n",
       "       'Fachakademie f?r Landwirtschaft', 'Kaufm?nnische Fachschule'],\n",
       "      dtype=object)"
      ]
     },
     "execution_count": 3,
     "metadata": {},
     "output_type": "execute_result"
    }
   ],
   "source": [
    "df.Schultyp.unique()"
   ]
  },
  {
   "cell_type": "code",
   "execution_count": 4,
   "id": "95a9f8f1-0a94-4061-a092-aa0e51133507",
   "metadata": {},
   "outputs": [],
   "source": [
    "schools_of_interest = pd.concat([df[df.Schultyp=='Gymnasium'], df[df.Schultyp=='Freie Waldorfschule']], ignore_index=True)"
   ]
  },
  {
   "cell_type": "code",
   "execution_count": 5,
   "id": "6cc91c9d-23fa-44f0-bacc-130b61c08388",
   "metadata": {
    "collapsed": true,
    "jupyter": {
     "outputs_hidden": true
    },
    "tags": []
   },
   "outputs": [
    {
     "data": {
      "text/html": [
       "<div>\n",
       "<style scoped>\n",
       "    .dataframe tbody tr th:only-of-type {\n",
       "        vertical-align: middle;\n",
       "    }\n",
       "\n",
       "    .dataframe tbody tr th {\n",
       "        vertical-align: top;\n",
       "    }\n",
       "\n",
       "    .dataframe thead th {\n",
       "        text-align: right;\n",
       "    }\n",
       "</style>\n",
       "<table border=\"1\" class=\"dataframe\">\n",
       "  <thead>\n",
       "    <tr style=\"text-align: right;\">\n",
       "      <th></th>\n",
       "      <th>Schulnummer</th>\n",
       "      <th>Schultyp</th>\n",
       "      <th>Name</th>\n",
       "      <th>Strasse</th>\n",
       "      <th>PLZ</th>\n",
       "      <th>Ort</th>\n",
       "      <th>Homepage</th>\n",
       "      <th>Link</th>\n",
       "    </tr>\n",
       "  </thead>\n",
       "  <tbody>\n",
       "    <tr>\n",
       "      <th>0</th>\n",
       "      <td>13</td>\n",
       "      <td>Gymnasium</td>\n",
       "      <td>Kronberg-Gymnasium Aschaffenburg</td>\n",
       "      <td>Fasaneriestr. 33</td>\n",
       "      <td>63739</td>\n",
       "      <td>Aschaffenburg</td>\n",
       "      <td>kronberg-gymnasium.de</td>\n",
       "      <td>/schule/0013.html</td>\n",
       "    </tr>\n",
       "    <tr>\n",
       "      <th>1</th>\n",
       "      <td>15</td>\n",
       "      <td>Gymnasium</td>\n",
       "      <td>Karl-Theodor-von-Dalberg-Gymnasium Aschaffenbu...</td>\n",
       "      <td>Grünewaldstr. 18</td>\n",
       "      <td>63739</td>\n",
       "      <td>Aschaffenburg</td>\n",
       "      <td>www.dalberg-gymnasium.de/</td>\n",
       "      <td>/schule/0015.html</td>\n",
       "    </tr>\n",
       "    <tr>\n",
       "      <th>2</th>\n",
       "      <td>16</td>\n",
       "      <td>Gymnasium</td>\n",
       "      <td>Maria-Ward-Schule Mädchengymnasium der Maria-W...</td>\n",
       "      <td>Brentanoplatz 8</td>\n",
       "      <td>63739</td>\n",
       "      <td>Aschaffenburg</td>\n",
       "      <td>mws-ab.de</td>\n",
       "      <td>/schule/0016.html</td>\n",
       "    </tr>\n",
       "    <tr>\n",
       "      <th>3</th>\n",
       "      <td>14</td>\n",
       "      <td>Gymnasium</td>\n",
       "      <td>Friedrich-Dessauer-Gymnasium Aschaffenburg</td>\n",
       "      <td>Stadtbadstr. 4</td>\n",
       "      <td>63741</td>\n",
       "      <td>Aschaffenburg</td>\n",
       "      <td>https://www.fdg-online.de</td>\n",
       "      <td>/schule/0014.html</td>\n",
       "    </tr>\n",
       "    <tr>\n",
       "      <th>4</th>\n",
       "      <td>3</td>\n",
       "      <td>Gymnasium</td>\n",
       "      <td>Spessart-Gymnasium Alzenau</td>\n",
       "      <td>Brentanostr. 55</td>\n",
       "      <td>63755</td>\n",
       "      <td>Alzenau</td>\n",
       "      <td>www.spessart-gymnasium.de</td>\n",
       "      <td>/schule/0003.html</td>\n",
       "    </tr>\n",
       "    <tr>\n",
       "      <th>...</th>\n",
       "      <td>...</td>\n",
       "      <td>...</td>\n",
       "      <td>...</td>\n",
       "      <td>...</td>\n",
       "      <td>...</td>\n",
       "      <td>...</td>\n",
       "      <td>...</td>\n",
       "      <td>...</td>\n",
       "    </tr>\n",
       "    <tr>\n",
       "      <th>454</th>\n",
       "      <td>1041</td>\n",
       "      <td>Freie Waldorfschule</td>\n",
       "      <td>Priv. Waldorfschule Hof</td>\n",
       "      <td>Kolpingshöhe 3</td>\n",
       "      <td>95032</td>\n",
       "      <td>Hof</td>\n",
       "      <td>www.waldorfschule-hof.de</td>\n",
       "      <td>/schule/1041.html</td>\n",
       "    </tr>\n",
       "    <tr>\n",
       "      <th>455</th>\n",
       "      <td>1022</td>\n",
       "      <td>Freie Waldorfschule</td>\n",
       "      <td>Freie Waldorfschule Wernstein des Junger Main ...</td>\n",
       "      <td>Am Eisweiher 1</td>\n",
       "      <td>95336</td>\n",
       "      <td>Mainleus</td>\n",
       "      <td>www.schule-wernstein.de</td>\n",
       "      <td>/schule/1022.html</td>\n",
       "    </tr>\n",
       "    <tr>\n",
       "      <th>456</th>\n",
       "      <td>1037</td>\n",
       "      <td>Freie Waldorfschule</td>\n",
       "      <td>Rudolf-Steiner-Schule Coburg</td>\n",
       "      <td>Callenberg 12</td>\n",
       "      <td>96450</td>\n",
       "      <td>Coburg</td>\n",
       "      <td>www.waldorfschule-coburg.de</td>\n",
       "      <td>/schule/1037.html</td>\n",
       "    </tr>\n",
       "    <tr>\n",
       "      <th>457</th>\n",
       "      <td>1018</td>\n",
       "      <td>Freie Waldorfschule</td>\n",
       "      <td>Freie Waldorfschule Würzburg Schule nach der P...</td>\n",
       "      <td>Oberer Neubergweg 14</td>\n",
       "      <td>97074</td>\n",
       "      <td>Würzburg</td>\n",
       "      <td>www.waldorfschule-wuerzburg.de</td>\n",
       "      <td>/schule/1018.html</td>\n",
       "    </tr>\n",
       "    <tr>\n",
       "      <th>458</th>\n",
       "      <td>1045</td>\n",
       "      <td>Freie Waldorfschule</td>\n",
       "      <td>Freie Waldorfschule in den Mainauen Haßfurt de...</td>\n",
       "      <td>Am Ziegelbrunn 10</td>\n",
       "      <td>97437</td>\n",
       "      <td>Haßfurt</td>\n",
       "      <td>www.waldorfschule-hassfurt.de</td>\n",
       "      <td>/schule/1045.html</td>\n",
       "    </tr>\n",
       "  </tbody>\n",
       "</table>\n",
       "<p>459 rows × 8 columns</p>\n",
       "</div>"
      ],
      "text/plain": [
       "     Schulnummer             Schultyp  \\\n",
       "0             13            Gymnasium   \n",
       "1             15            Gymnasium   \n",
       "2             16            Gymnasium   \n",
       "3             14            Gymnasium   \n",
       "4              3            Gymnasium   \n",
       "..           ...                  ...   \n",
       "454         1041  Freie Waldorfschule   \n",
       "455         1022  Freie Waldorfschule   \n",
       "456         1037  Freie Waldorfschule   \n",
       "457         1018  Freie Waldorfschule   \n",
       "458         1045  Freie Waldorfschule   \n",
       "\n",
       "                                                  Name               Strasse  \\\n",
       "0                  Kronberg-Gymnasium Aschaffenburg         Fasaneriestr. 33   \n",
       "1    Karl-Theodor-von-Dalberg-Gymnasium Aschaffenbu...      Grünewaldstr. 18   \n",
       "2    Maria-Ward-Schule Mädchengymnasium der Maria-W...       Brentanoplatz 8   \n",
       "3         Friedrich-Dessauer-Gymnasium Aschaffenburg          Stadtbadstr. 4   \n",
       "4                        Spessart-Gymnasium Alzenau          Brentanostr. 55   \n",
       "..                                                 ...                   ...   \n",
       "454                         Priv. Waldorfschule Hof           Kolpingshöhe 3   \n",
       "455  Freie Waldorfschule Wernstein des Junger Main ...        Am Eisweiher 1   \n",
       "456                    Rudolf-Steiner-Schule Coburg            Callenberg 12   \n",
       "457  Freie Waldorfschule Würzburg Schule nach der P...  Oberer Neubergweg 14   \n",
       "458  Freie Waldorfschule in den Mainauen Haßfurt de...     Am Ziegelbrunn 10   \n",
       "\n",
       "       PLZ            Ort                        Homepage               Link  \n",
       "0    63739  Aschaffenburg           kronberg-gymnasium.de  /schule/0013.html  \n",
       "1    63739  Aschaffenburg       www.dalberg-gymnasium.de/  /schule/0015.html  \n",
       "2    63739  Aschaffenburg                       mws-ab.de  /schule/0016.html  \n",
       "3    63741  Aschaffenburg       https://www.fdg-online.de  /schule/0014.html  \n",
       "4    63755        Alzenau       www.spessart-gymnasium.de  /schule/0003.html  \n",
       "..     ...            ...                             ...                ...  \n",
       "454  95032            Hof        www.waldorfschule-hof.de  /schule/1041.html  \n",
       "455  95336       Mainleus         www.schule-wernstein.de  /schule/1022.html  \n",
       "456  96450         Coburg     www.waldorfschule-coburg.de  /schule/1037.html  \n",
       "457  97074       Würzburg  www.waldorfschule-wuerzburg.de  /schule/1018.html  \n",
       "458  97437        Haßfurt   www.waldorfschule-hassfurt.de  /schule/1045.html  \n",
       "\n",
       "[459 rows x 8 columns]"
      ]
     },
     "execution_count": 5,
     "metadata": {},
     "output_type": "execute_result"
    }
   ],
   "source": [
    "schools_of_interest"
   ]
  },
  {
   "cell_type": "markdown",
   "id": "cb68f975-ed2d-4718-ad90-cc1f58ab0fc4",
   "metadata": {},
   "source": [
    "## Add the GPS coordinates"
   ]
  },
  {
   "cell_type": "code",
   "execution_count": 6,
   "id": "fff6fe50-347e-4e1f-95b3-dde7b37d9ae8",
   "metadata": {
    "collapsed": true,
    "jupyter": {
     "outputs_hidden": true
    },
    "tags": []
   },
   "outputs": [
    {
     "data": {
      "text/html": [
       "<div>\n",
       "<style scoped>\n",
       "    .dataframe tbody tr th:only-of-type {\n",
       "        vertical-align: middle;\n",
       "    }\n",
       "\n",
       "    .dataframe tbody tr th {\n",
       "        vertical-align: top;\n",
       "    }\n",
       "\n",
       "    .dataframe thead th {\n",
       "        text-align: right;\n",
       "    }\n",
       "</style>\n",
       "<table border=\"1\" class=\"dataframe\">\n",
       "  <thead>\n",
       "    <tr style=\"text-align: right;\">\n",
       "      <th></th>\n",
       "      <th>Schulnummer</th>\n",
       "      <th>Schultyp</th>\n",
       "      <th>Name</th>\n",
       "      <th>Strasse</th>\n",
       "      <th>PLZ</th>\n",
       "      <th>Ort</th>\n",
       "      <th>Homepage</th>\n",
       "      <th>Link</th>\n",
       "      <th>latitude</th>\n",
       "      <th>longitude</th>\n",
       "    </tr>\n",
       "  </thead>\n",
       "  <tbody>\n",
       "    <tr>\n",
       "      <th>0</th>\n",
       "      <td>13</td>\n",
       "      <td>Gymnasium</td>\n",
       "      <td>Kronberg-Gymnasium Aschaffenburg</td>\n",
       "      <td>Fasaneriestr. 33</td>\n",
       "      <td>63739</td>\n",
       "      <td>Aschaffenburg</td>\n",
       "      <td>kronberg-gymnasium.de</td>\n",
       "      <td>/schule/0013.html</td>\n",
       "      <td>49.978355</td>\n",
       "      <td>9.163006</td>\n",
       "    </tr>\n",
       "    <tr>\n",
       "      <th>1</th>\n",
       "      <td>15</td>\n",
       "      <td>Gymnasium</td>\n",
       "      <td>Karl-Theodor-von-Dalberg-Gymnasium Aschaffenbu...</td>\n",
       "      <td>Grünewaldstr. 18</td>\n",
       "      <td>63739</td>\n",
       "      <td>Aschaffenburg</td>\n",
       "      <td>www.dalberg-gymnasium.de/</td>\n",
       "      <td>/schule/0015.html</td>\n",
       "      <td>49.974711</td>\n",
       "      <td>9.160044</td>\n",
       "    </tr>\n",
       "    <tr>\n",
       "      <th>2</th>\n",
       "      <td>16</td>\n",
       "      <td>Gymnasium</td>\n",
       "      <td>Maria-Ward-Schule Mädchengymnasium der Maria-W...</td>\n",
       "      <td>Brentanoplatz 8</td>\n",
       "      <td>63739</td>\n",
       "      <td>Aschaffenburg</td>\n",
       "      <td>mws-ab.de</td>\n",
       "      <td>/schule/0016.html</td>\n",
       "      <td>49.970230</td>\n",
       "      <td>9.153378</td>\n",
       "    </tr>\n",
       "    <tr>\n",
       "      <th>3</th>\n",
       "      <td>14</td>\n",
       "      <td>Gymnasium</td>\n",
       "      <td>Friedrich-Dessauer-Gymnasium Aschaffenburg</td>\n",
       "      <td>Stadtbadstr. 4</td>\n",
       "      <td>63741</td>\n",
       "      <td>Aschaffenburg</td>\n",
       "      <td>https://www.fdg-online.de</td>\n",
       "      <td>/schule/0014.html</td>\n",
       "      <td>49.973891</td>\n",
       "      <td>9.132169</td>\n",
       "    </tr>\n",
       "    <tr>\n",
       "      <th>4</th>\n",
       "      <td>3</td>\n",
       "      <td>Gymnasium</td>\n",
       "      <td>Spessart-Gymnasium Alzenau</td>\n",
       "      <td>Brentanostr. 55</td>\n",
       "      <td>63755</td>\n",
       "      <td>Alzenau</td>\n",
       "      <td>www.spessart-gymnasium.de</td>\n",
       "      <td>/schule/0003.html</td>\n",
       "      <td>50.091880</td>\n",
       "      <td>9.069813</td>\n",
       "    </tr>\n",
       "    <tr>\n",
       "      <th>...</th>\n",
       "      <td>...</td>\n",
       "      <td>...</td>\n",
       "      <td>...</td>\n",
       "      <td>...</td>\n",
       "      <td>...</td>\n",
       "      <td>...</td>\n",
       "      <td>...</td>\n",
       "      <td>...</td>\n",
       "      <td>...</td>\n",
       "      <td>...</td>\n",
       "    </tr>\n",
       "    <tr>\n",
       "      <th>454</th>\n",
       "      <td>1041</td>\n",
       "      <td>Freie Waldorfschule</td>\n",
       "      <td>Priv. Waldorfschule Hof</td>\n",
       "      <td>Kolpingshöhe 3</td>\n",
       "      <td>95032</td>\n",
       "      <td>Hof</td>\n",
       "      <td>www.waldorfschule-hof.de</td>\n",
       "      <td>/schule/1041.html</td>\n",
       "      <td>50.295264</td>\n",
       "      <td>11.917269</td>\n",
       "    </tr>\n",
       "    <tr>\n",
       "      <th>455</th>\n",
       "      <td>1022</td>\n",
       "      <td>Freie Waldorfschule</td>\n",
       "      <td>Freie Waldorfschule Wernstein des Junger Main ...</td>\n",
       "      <td>Am Eisweiher 1</td>\n",
       "      <td>95336</td>\n",
       "      <td>Mainleus</td>\n",
       "      <td>www.schule-wernstein.de</td>\n",
       "      <td>/schule/1022.html</td>\n",
       "      <td>50.120499</td>\n",
       "      <td>11.395754</td>\n",
       "    </tr>\n",
       "    <tr>\n",
       "      <th>456</th>\n",
       "      <td>1037</td>\n",
       "      <td>Freie Waldorfschule</td>\n",
       "      <td>Rudolf-Steiner-Schule Coburg</td>\n",
       "      <td>Callenberg 12</td>\n",
       "      <td>96450</td>\n",
       "      <td>Coburg</td>\n",
       "      <td>www.waldorfschule-coburg.de</td>\n",
       "      <td>/schule/1037.html</td>\n",
       "      <td>50.281828</td>\n",
       "      <td>10.923013</td>\n",
       "    </tr>\n",
       "    <tr>\n",
       "      <th>457</th>\n",
       "      <td>1018</td>\n",
       "      <td>Freie Waldorfschule</td>\n",
       "      <td>Freie Waldorfschule Würzburg Schule nach der P...</td>\n",
       "      <td>Oberer Neubergweg 14</td>\n",
       "      <td>97074</td>\n",
       "      <td>Würzburg</td>\n",
       "      <td>www.waldorfschule-wuerzburg.de</td>\n",
       "      <td>/schule/1018.html</td>\n",
       "      <td>49.775292</td>\n",
       "      <td>9.951761</td>\n",
       "    </tr>\n",
       "    <tr>\n",
       "      <th>458</th>\n",
       "      <td>1045</td>\n",
       "      <td>Freie Waldorfschule</td>\n",
       "      <td>Freie Waldorfschule in den Mainauen Haßfurt de...</td>\n",
       "      <td>Am Ziegelbrunn 10</td>\n",
       "      <td>97437</td>\n",
       "      <td>Haßfurt</td>\n",
       "      <td>www.waldorfschule-hassfurt.de</td>\n",
       "      <td>/schule/1045.html</td>\n",
       "      <td>50.030300</td>\n",
       "      <td>10.514490</td>\n",
       "    </tr>\n",
       "  </tbody>\n",
       "</table>\n",
       "<p>459 rows × 10 columns</p>\n",
       "</div>"
      ],
      "text/plain": [
       "     Schulnummer             Schultyp  \\\n",
       "0             13            Gymnasium   \n",
       "1             15            Gymnasium   \n",
       "2             16            Gymnasium   \n",
       "3             14            Gymnasium   \n",
       "4              3            Gymnasium   \n",
       "..           ...                  ...   \n",
       "454         1041  Freie Waldorfschule   \n",
       "455         1022  Freie Waldorfschule   \n",
       "456         1037  Freie Waldorfschule   \n",
       "457         1018  Freie Waldorfschule   \n",
       "458         1045  Freie Waldorfschule   \n",
       "\n",
       "                                                  Name               Strasse  \\\n",
       "0                  Kronberg-Gymnasium Aschaffenburg         Fasaneriestr. 33   \n",
       "1    Karl-Theodor-von-Dalberg-Gymnasium Aschaffenbu...      Grünewaldstr. 18   \n",
       "2    Maria-Ward-Schule Mädchengymnasium der Maria-W...       Brentanoplatz 8   \n",
       "3         Friedrich-Dessauer-Gymnasium Aschaffenburg          Stadtbadstr. 4   \n",
       "4                        Spessart-Gymnasium Alzenau          Brentanostr. 55   \n",
       "..                                                 ...                   ...   \n",
       "454                         Priv. Waldorfschule Hof           Kolpingshöhe 3   \n",
       "455  Freie Waldorfschule Wernstein des Junger Main ...        Am Eisweiher 1   \n",
       "456                    Rudolf-Steiner-Schule Coburg            Callenberg 12   \n",
       "457  Freie Waldorfschule Würzburg Schule nach der P...  Oberer Neubergweg 14   \n",
       "458  Freie Waldorfschule in den Mainauen Haßfurt de...     Am Ziegelbrunn 10   \n",
       "\n",
       "       PLZ            Ort                        Homepage               Link  \\\n",
       "0    63739  Aschaffenburg           kronberg-gymnasium.de  /schule/0013.html   \n",
       "1    63739  Aschaffenburg       www.dalberg-gymnasium.de/  /schule/0015.html   \n",
       "2    63739  Aschaffenburg                       mws-ab.de  /schule/0016.html   \n",
       "3    63741  Aschaffenburg       https://www.fdg-online.de  /schule/0014.html   \n",
       "4    63755        Alzenau       www.spessart-gymnasium.de  /schule/0003.html   \n",
       "..     ...            ...                             ...                ...   \n",
       "454  95032            Hof        www.waldorfschule-hof.de  /schule/1041.html   \n",
       "455  95336       Mainleus         www.schule-wernstein.de  /schule/1022.html   \n",
       "456  96450         Coburg     www.waldorfschule-coburg.de  /schule/1037.html   \n",
       "457  97074       Würzburg  www.waldorfschule-wuerzburg.de  /schule/1018.html   \n",
       "458  97437        Haßfurt   www.waldorfschule-hassfurt.de  /schule/1045.html   \n",
       "\n",
       "      latitude  longitude  \n",
       "0    49.978355   9.163006  \n",
       "1    49.974711   9.160044  \n",
       "2    49.970230   9.153378  \n",
       "3    49.973891   9.132169  \n",
       "4    50.091880   9.069813  \n",
       "..         ...        ...  \n",
       "454  50.295264  11.917269  \n",
       "455  50.120499  11.395754  \n",
       "456  50.281828  10.923013  \n",
       "457  49.775292   9.951761  \n",
       "458  50.030300  10.514490  \n",
       "\n",
       "[459 rows x 10 columns]"
      ]
     },
     "execution_count": 6,
     "metadata": {},
     "output_type": "execute_result"
    }
   ],
   "source": [
    "def address_to_gps(strasse, plz, ort):\n",
    "    address_joined = ', '.join([strasse, str(plz), ort])\n",
    "    geocode_result = gmaps.geocode(address_joined)\n",
    "    res = (None, None)\n",
    "    if geocode_result:\n",
    "        res = (geocode_result[0]['geometry']['location']['lat'],\n",
    "               geocode_result[0]['geometry']['location']['lng'])\n",
    "    # location = geolocator.geocode(address_joined)\n",
    "    return res\n",
    "\n",
    "schools_of_interest[['latitude', 'longitude']] = pd.DataFrame(\n",
    "    schools_of_interest.apply(\n",
    "        lambda row: address_to_gps(row.Strasse, row.PLZ, row.Ort), axis=1\n",
    "    ).tolist(), index=schools_of_interest.index)\n",
    "schools_of_interest"
   ]
  },
  {
   "cell_type": "code",
   "execution_count": 7,
   "id": "79432f31-09ac-4876-80ff-59df019751c5",
   "metadata": {},
   "outputs": [],
   "source": [
    "# Write to file to preserve GPS coordinates\n",
    "schools_of_interest.to_parquet('parquet/schools_gps.parquet', engine='pyarrow')"
   ]
  },
  {
   "cell_type": "markdown",
   "id": "6b55cff3-8d93-4c03-a924-4758261e13da",
   "metadata": {},
   "source": [
    "## Load saved school list with GPS data already added"
   ]
  },
  {
   "cell_type": "code",
   "execution_count": 21,
   "id": "c03edc5b-1d9e-49e4-9075-893be319cfc7",
   "metadata": {},
   "outputs": [],
   "source": [
    "schools_of_interest = pd.read_parquet('parquet/schools_gps.parquet', engine=\"pyarrow\")"
   ]
  },
  {
   "cell_type": "code",
   "execution_count": 22,
   "id": "9858714c-b85a-45c1-8484-ad78ec14b067",
   "metadata": {},
   "outputs": [
    {
     "data": {
      "text/plain": [
       "(459, 10)"
      ]
     },
     "execution_count": 22,
     "metadata": {},
     "output_type": "execute_result"
    }
   ],
   "source": [
    "schools_of_interest.shape"
   ]
  },
  {
   "cell_type": "code",
   "execution_count": 23,
   "id": "0c12ad70-a6fe-4c3d-b92d-3e8e2c4b8607",
   "metadata": {},
   "outputs": [
    {
     "data": {
      "text/html": [
       "<div>\n",
       "<style scoped>\n",
       "    .dataframe tbody tr th:only-of-type {\n",
       "        vertical-align: middle;\n",
       "    }\n",
       "\n",
       "    .dataframe tbody tr th {\n",
       "        vertical-align: top;\n",
       "    }\n",
       "\n",
       "    .dataframe thead th {\n",
       "        text-align: right;\n",
       "    }\n",
       "</style>\n",
       "<table border=\"1\" class=\"dataframe\">\n",
       "  <thead>\n",
       "    <tr style=\"text-align: right;\">\n",
       "      <th></th>\n",
       "      <th>Schulnummer</th>\n",
       "      <th>Schultyp</th>\n",
       "      <th>Name</th>\n",
       "      <th>Strasse</th>\n",
       "      <th>PLZ</th>\n",
       "      <th>Ort</th>\n",
       "      <th>Homepage</th>\n",
       "      <th>Link</th>\n",
       "      <th>latitude</th>\n",
       "      <th>longitude</th>\n",
       "    </tr>\n",
       "  </thead>\n",
       "  <tbody>\n",
       "  </tbody>\n",
       "</table>\n",
       "</div>"
      ],
      "text/plain": [
       "Empty DataFrame\n",
       "Columns: [Schulnummer, Schultyp, Name, Strasse, PLZ, Ort, Homepage, Link, latitude, longitude]\n",
       "Index: []"
      ]
     },
     "execution_count": 23,
     "metadata": {},
     "output_type": "execute_result"
    }
   ],
   "source": [
    "schools_of_interest[schools_of_interest.isna().any(axis=1)]"
   ]
  },
  {
   "cell_type": "code",
   "execution_count": 24,
   "id": "414a0551-036e-486c-a835-978c26ceb856",
   "metadata": {},
   "outputs": [
    {
     "data": {
      "text/plain": [
       "(459, 10)"
      ]
     },
     "execution_count": 24,
     "metadata": {},
     "output_type": "execute_result"
    }
   ],
   "source": [
    "schools_of_interest = schools_of_interest.dropna()\n",
    "schools_of_interest.shape"
   ]
  },
  {
   "cell_type": "code",
   "execution_count": 25,
   "id": "0cd60402-3a5b-4636-9a50-b223df7c7662",
   "metadata": {},
   "outputs": [
    {
     "data": {
      "text/html": [
       "<div>\n",
       "<style scoped>\n",
       "    .dataframe tbody tr th:only-of-type {\n",
       "        vertical-align: middle;\n",
       "    }\n",
       "\n",
       "    .dataframe tbody tr th {\n",
       "        vertical-align: top;\n",
       "    }\n",
       "\n",
       "    .dataframe thead th {\n",
       "        text-align: right;\n",
       "    }\n",
       "</style>\n",
       "<table border=\"1\" class=\"dataframe\">\n",
       "  <thead>\n",
       "    <tr style=\"text-align: right;\">\n",
       "      <th></th>\n",
       "      <th>Schulnummer</th>\n",
       "      <th>Schultyp</th>\n",
       "      <th>Name</th>\n",
       "      <th>Strasse</th>\n",
       "      <th>PLZ</th>\n",
       "      <th>Ort</th>\n",
       "      <th>Homepage</th>\n",
       "      <th>Link</th>\n",
       "      <th>latitude</th>\n",
       "      <th>longitude</th>\n",
       "      <th>marker-symbol</th>\n",
       "      <th>marker-color</th>\n",
       "    </tr>\n",
       "  </thead>\n",
       "  <tbody>\n",
       "    <tr>\n",
       "      <th>0</th>\n",
       "      <td>13</td>\n",
       "      <td>Gymnasium</td>\n",
       "      <td>Kronberg-Gymnasium Aschaffenburg</td>\n",
       "      <td>Fasaneriestr. 33</td>\n",
       "      <td>63739</td>\n",
       "      <td>Aschaffenburg</td>\n",
       "      <td>kronberg-gymnasium.de</td>\n",
       "      <td>/schule/0013.html</td>\n",
       "      <td>49.978355</td>\n",
       "      <td>9.163006</td>\n",
       "      <td>star</td>\n",
       "      <td>#FF0000</td>\n",
       "    </tr>\n",
       "    <tr>\n",
       "      <th>1</th>\n",
       "      <td>15</td>\n",
       "      <td>Gymnasium</td>\n",
       "      <td>Karl-Theodor-von-Dalberg-Gymnasium Aschaffenbu...</td>\n",
       "      <td>Grünewaldstr. 18</td>\n",
       "      <td>63739</td>\n",
       "      <td>Aschaffenburg</td>\n",
       "      <td>www.dalberg-gymnasium.de/</td>\n",
       "      <td>/schule/0015.html</td>\n",
       "      <td>49.974711</td>\n",
       "      <td>9.160044</td>\n",
       "      <td>star</td>\n",
       "      <td>#FF0000</td>\n",
       "    </tr>\n",
       "    <tr>\n",
       "      <th>2</th>\n",
       "      <td>16</td>\n",
       "      <td>Gymnasium</td>\n",
       "      <td>Maria-Ward-Schule Mädchengymnasium der Maria-W...</td>\n",
       "      <td>Brentanoplatz 8</td>\n",
       "      <td>63739</td>\n",
       "      <td>Aschaffenburg</td>\n",
       "      <td>mws-ab.de</td>\n",
       "      <td>/schule/0016.html</td>\n",
       "      <td>49.970230</td>\n",
       "      <td>9.153378</td>\n",
       "      <td>star</td>\n",
       "      <td>#FF0000</td>\n",
       "    </tr>\n",
       "    <tr>\n",
       "      <th>3</th>\n",
       "      <td>14</td>\n",
       "      <td>Gymnasium</td>\n",
       "      <td>Friedrich-Dessauer-Gymnasium Aschaffenburg</td>\n",
       "      <td>Stadtbadstr. 4</td>\n",
       "      <td>63741</td>\n",
       "      <td>Aschaffenburg</td>\n",
       "      <td>https://www.fdg-online.de</td>\n",
       "      <td>/schule/0014.html</td>\n",
       "      <td>49.973891</td>\n",
       "      <td>9.132169</td>\n",
       "      <td>star</td>\n",
       "      <td>#FF0000</td>\n",
       "    </tr>\n",
       "    <tr>\n",
       "      <th>4</th>\n",
       "      <td>3</td>\n",
       "      <td>Gymnasium</td>\n",
       "      <td>Spessart-Gymnasium Alzenau</td>\n",
       "      <td>Brentanostr. 55</td>\n",
       "      <td>63755</td>\n",
       "      <td>Alzenau</td>\n",
       "      <td>www.spessart-gymnasium.de</td>\n",
       "      <td>/schule/0003.html</td>\n",
       "      <td>50.091880</td>\n",
       "      <td>9.069813</td>\n",
       "      <td>star</td>\n",
       "      <td>#FF0000</td>\n",
       "    </tr>\n",
       "    <tr>\n",
       "      <th>...</th>\n",
       "      <td>...</td>\n",
       "      <td>...</td>\n",
       "      <td>...</td>\n",
       "      <td>...</td>\n",
       "      <td>...</td>\n",
       "      <td>...</td>\n",
       "      <td>...</td>\n",
       "      <td>...</td>\n",
       "      <td>...</td>\n",
       "      <td>...</td>\n",
       "      <td>...</td>\n",
       "      <td>...</td>\n",
       "    </tr>\n",
       "    <tr>\n",
       "      <th>454</th>\n",
       "      <td>1041</td>\n",
       "      <td>Freie Waldorfschule</td>\n",
       "      <td>Priv. Waldorfschule Hof</td>\n",
       "      <td>Kolpingshöhe 3</td>\n",
       "      <td>95032</td>\n",
       "      <td>Hof</td>\n",
       "      <td>www.waldorfschule-hof.de</td>\n",
       "      <td>/schule/1041.html</td>\n",
       "      <td>50.295264</td>\n",
       "      <td>11.917269</td>\n",
       "      <td>star</td>\n",
       "      <td>#FF0000</td>\n",
       "    </tr>\n",
       "    <tr>\n",
       "      <th>455</th>\n",
       "      <td>1022</td>\n",
       "      <td>Freie Waldorfschule</td>\n",
       "      <td>Freie Waldorfschule Wernstein des Junger Main ...</td>\n",
       "      <td>Am Eisweiher 1</td>\n",
       "      <td>95336</td>\n",
       "      <td>Mainleus</td>\n",
       "      <td>www.schule-wernstein.de</td>\n",
       "      <td>/schule/1022.html</td>\n",
       "      <td>50.120499</td>\n",
       "      <td>11.395754</td>\n",
       "      <td>star</td>\n",
       "      <td>#FF0000</td>\n",
       "    </tr>\n",
       "    <tr>\n",
       "      <th>456</th>\n",
       "      <td>1037</td>\n",
       "      <td>Freie Waldorfschule</td>\n",
       "      <td>Rudolf-Steiner-Schule Coburg</td>\n",
       "      <td>Callenberg 12</td>\n",
       "      <td>96450</td>\n",
       "      <td>Coburg</td>\n",
       "      <td>www.waldorfschule-coburg.de</td>\n",
       "      <td>/schule/1037.html</td>\n",
       "      <td>50.281828</td>\n",
       "      <td>10.923013</td>\n",
       "      <td>star</td>\n",
       "      <td>#FF0000</td>\n",
       "    </tr>\n",
       "    <tr>\n",
       "      <th>457</th>\n",
       "      <td>1018</td>\n",
       "      <td>Freie Waldorfschule</td>\n",
       "      <td>Freie Waldorfschule Würzburg Schule nach der P...</td>\n",
       "      <td>Oberer Neubergweg 14</td>\n",
       "      <td>97074</td>\n",
       "      <td>Würzburg</td>\n",
       "      <td>www.waldorfschule-wuerzburg.de</td>\n",
       "      <td>/schule/1018.html</td>\n",
       "      <td>49.775292</td>\n",
       "      <td>9.951761</td>\n",
       "      <td>star</td>\n",
       "      <td>#FF0000</td>\n",
       "    </tr>\n",
       "    <tr>\n",
       "      <th>458</th>\n",
       "      <td>1045</td>\n",
       "      <td>Freie Waldorfschule</td>\n",
       "      <td>Freie Waldorfschule in den Mainauen Haßfurt de...</td>\n",
       "      <td>Am Ziegelbrunn 10</td>\n",
       "      <td>97437</td>\n",
       "      <td>Haßfurt</td>\n",
       "      <td>www.waldorfschule-hassfurt.de</td>\n",
       "      <td>/schule/1045.html</td>\n",
       "      <td>50.030300</td>\n",
       "      <td>10.514490</td>\n",
       "      <td>star</td>\n",
       "      <td>#FF0000</td>\n",
       "    </tr>\n",
       "  </tbody>\n",
       "</table>\n",
       "<p>459 rows × 12 columns</p>\n",
       "</div>"
      ],
      "text/plain": [
       "     Schulnummer             Schultyp  \\\n",
       "0             13            Gymnasium   \n",
       "1             15            Gymnasium   \n",
       "2             16            Gymnasium   \n",
       "3             14            Gymnasium   \n",
       "4              3            Gymnasium   \n",
       "..           ...                  ...   \n",
       "454         1041  Freie Waldorfschule   \n",
       "455         1022  Freie Waldorfschule   \n",
       "456         1037  Freie Waldorfschule   \n",
       "457         1018  Freie Waldorfschule   \n",
       "458         1045  Freie Waldorfschule   \n",
       "\n",
       "                                                  Name               Strasse  \\\n",
       "0                  Kronberg-Gymnasium Aschaffenburg         Fasaneriestr. 33   \n",
       "1    Karl-Theodor-von-Dalberg-Gymnasium Aschaffenbu...      Grünewaldstr. 18   \n",
       "2    Maria-Ward-Schule Mädchengymnasium der Maria-W...       Brentanoplatz 8   \n",
       "3         Friedrich-Dessauer-Gymnasium Aschaffenburg          Stadtbadstr. 4   \n",
       "4                        Spessart-Gymnasium Alzenau          Brentanostr. 55   \n",
       "..                                                 ...                   ...   \n",
       "454                         Priv. Waldorfschule Hof           Kolpingshöhe 3   \n",
       "455  Freie Waldorfschule Wernstein des Junger Main ...        Am Eisweiher 1   \n",
       "456                    Rudolf-Steiner-Schule Coburg            Callenberg 12   \n",
       "457  Freie Waldorfschule Würzburg Schule nach der P...  Oberer Neubergweg 14   \n",
       "458  Freie Waldorfschule in den Mainauen Haßfurt de...     Am Ziegelbrunn 10   \n",
       "\n",
       "       PLZ            Ort                        Homepage               Link  \\\n",
       "0    63739  Aschaffenburg           kronberg-gymnasium.de  /schule/0013.html   \n",
       "1    63739  Aschaffenburg       www.dalberg-gymnasium.de/  /schule/0015.html   \n",
       "2    63739  Aschaffenburg                       mws-ab.de  /schule/0016.html   \n",
       "3    63741  Aschaffenburg       https://www.fdg-online.de  /schule/0014.html   \n",
       "4    63755        Alzenau       www.spessart-gymnasium.de  /schule/0003.html   \n",
       "..     ...            ...                             ...                ...   \n",
       "454  95032            Hof        www.waldorfschule-hof.de  /schule/1041.html   \n",
       "455  95336       Mainleus         www.schule-wernstein.de  /schule/1022.html   \n",
       "456  96450         Coburg     www.waldorfschule-coburg.de  /schule/1037.html   \n",
       "457  97074       Würzburg  www.waldorfschule-wuerzburg.de  /schule/1018.html   \n",
       "458  97437        Haßfurt   www.waldorfschule-hassfurt.de  /schule/1045.html   \n",
       "\n",
       "      latitude  longitude marker-symbol marker-color  \n",
       "0    49.978355   9.163006          star      #FF0000  \n",
       "1    49.974711   9.160044          star      #FF0000  \n",
       "2    49.970230   9.153378          star      #FF0000  \n",
       "3    49.973891   9.132169          star      #FF0000  \n",
       "4    50.091880   9.069813          star      #FF0000  \n",
       "..         ...        ...           ...          ...  \n",
       "454  50.295264  11.917269          star      #FF0000  \n",
       "455  50.120499  11.395754          star      #FF0000  \n",
       "456  50.281828  10.923013          star      #FF0000  \n",
       "457  49.775292   9.951761          star      #FF0000  \n",
       "458  50.030300  10.514490          star      #FF0000  \n",
       "\n",
       "[459 rows x 12 columns]"
      ]
     },
     "execution_count": 25,
     "metadata": {},
     "output_type": "execute_result"
    }
   ],
   "source": [
    "schools_of_interest['marker-symbol'] = 'star'\n",
    "schools_of_interest['marker-color'] = '#FF0000'\n",
    "schools_of_interest"
   ]
  },
  {
   "cell_type": "code",
   "execution_count": 26,
   "id": "772cf481-c702-49f9-9a20-b16de8a0fec5",
   "metadata": {},
   "outputs": [
    {
     "data": {
      "application/geo+json": {
       "features": [
        {
         "geometry": {
          "coordinates": [
           9.1630056,
           49.9783546
          ],
          "type": "Point"
         },
         "properties": {
          "Name": "Kronberg-Gymnasium Aschaffenburg   ",
          "marker-color": "#FF0000",
          "marker-symbol": "star"
         },
         "type": "Feature"
        },
        {
         "geometry": {
          "coordinates": [
           9.160044,
           49.9747107
          ],
          "type": "Point"
         },
         "properties": {
          "Name": "Karl-Theodor-von-Dalberg-Gymnasium Aschaffenburg  ",
          "marker-color": "#FF0000",
          "marker-symbol": "star"
         },
         "type": "Feature"
        },
        {
         "geometry": {
          "coordinates": [
           9.1533777,
           49.9702298
          ],
          "type": "Point"
         },
         "properties": {
          "Name": "Maria-Ward-Schule Mädchengymnasium der Maria-Ward-Stiftung Aschaffenburg",
          "marker-color": "#FF0000",
          "marker-symbol": "star"
         },
         "type": "Feature"
        },
        {
         "geometry": {
          "coordinates": [
           9.132169099999999,
           49.9738906
          ],
          "type": "Point"
         },
         "properties": {
          "Name": "Friedrich-Dessauer-Gymnasium Aschaffenburg  ",
          "marker-color": "#FF0000",
          "marker-symbol": "star"
         },
         "type": "Feature"
        },
        {
         "geometry": {
          "coordinates": [
           9.0698132,
           50.0918802
          ],
          "type": "Point"
         },
         "properties": {
          "Name": "Spessart-Gymnasium Alzenau   ",
          "marker-color": "#FF0000",
          "marker-symbol": "star"
         },
         "type": "Feature"
        },
        {
         "geometry": {
          "coordinates": [
           9.2083514,
           50.0085481
          ],
          "type": "Point"
         },
         "properties": {
          "Name": "Hanns-Seidel-Gymnasium Hösbach   ",
          "marker-color": "#FF0000",
          "marker-symbol": "star"
         },
         "type": "Feature"
        },
        {
         "geometry": {
          "coordinates": [
           9.1664481,
           49.8351249
          ],
          "type": "Point"
         },
         "properties": {
          "Name": "Julius-Echter-Gymnasium Elsenfeld   ",
          "marker-color": "#FF0000",
          "marker-symbol": "star"
         },
         "type": "Feature"
        },
        {
         "geometry": {
          "coordinates": [
           9.2490727,
           49.7078666
          ],
          "type": "Point"
         },
         "properties": {
          "Name": "Johannes-Butzbach-Gymnasium Miltenberg  ",
          "marker-color": "#FF0000",
          "marker-symbol": "star"
         },
         "type": "Feature"
        },
        {
         "geometry": {
          "coordinates": [
           9.1547158,
           49.8100218
          ],
          "type": "Point"
         },
         "properties": {
          "Name": "Hermann-Staudinger-Gymnasium Erlenbach a.Main  ",
          "marker-color": "#FF0000",
          "marker-symbol": "star"
         },
         "type": "Feature"
        },
        {
         "geometry": {
          "coordinates": [
           9.2237122,
           49.6425121
          ],
          "type": "Point"
         },
         "properties": {
          "Name": "Karl-Ernst-Gymnasium Amorbach   ",
          "marker-color": "#FF0000",
          "marker-symbol": "star"
         },
         "type": "Feature"
        },
        {
         "geometry": {
          "coordinates": [
           11.5725601,
           48.133215
          ],
          "type": "Point"
         },
         "properties": {
          "Name": "Theresia-Gerhardinger-Gymnasium am Anger München  ",
          "marker-color": "#FF0000",
          "marker-symbol": "star"
         },
         "type": "Feature"
        },
        {
         "geometry": {
          "coordinates": [
           11.5607475,
           48.1425961
          ],
          "type": "Point"
         },
         "properties": {
          "Name": "Städtisches Luisengymnasium München  ",
          "marker-color": "#FF0000",
          "marker-symbol": "star"
         },
         "type": "Feature"
        },
        {
         "geometry": {
          "coordinates": [
           11.5481517,
           48.1457631
          ],
          "type": "Point"
         },
         "properties": {
          "Name": "Wittelsbacher-Gymnasium München   ",
          "marker-color": "#FF0000",
          "marker-symbol": "star"
         },
         "type": "Feature"
        },
        {
         "geometry": {
          "coordinates": [
           11.5564987,
           48.1320207
          ],
          "type": "Point"
         },
         "properties": {
          "Name": "Theresien-Gymnasium München   ",
          "marker-color": "#FF0000",
          "marker-symbol": "star"
         },
         "type": "Feature"
        },
        {
         "geometry": {
          "coordinates": [
           11.5809137,
           48.1318756
          ],
          "type": "Point"
         },
         "properties": {
          "Name": "Isar-Gymnasium München - Schule in freier Trägerschaft -  ",
          "marker-color": "#FF0000",
          "marker-symbol": "star"
         },
         "type": "Feature"
        },
        {
         "geometry": {
          "coordinates": [
           11.5809137,
           48.1318756
          ],
          "type": "Point"
         },
         "properties": {
          "Name": "Gymnasium Huber München - Schule in freier Trägerschaft -  ",
          "marker-color": "#FF0000",
          "marker-symbol": "star"
         },
         "type": "Feature"
        },
        {
         "geometry": {
          "coordinates": [
           11.5959593,
           48.150076
          ],
          "type": "Point"
         },
         "properties": {
          "Name": "Maximiliansgymnasium München   ",
          "marker-color": "#FF0000",
          "marker-symbol": "star"
         },
         "type": "Feature"
        },
        {
         "geometry": {
          "coordinates": [
           11.5886377,
           48.13829140000001
          ],
          "type": "Point"
         },
         "properties": {
          "Name": "Wilhelmsgymnasium München   ",
          "marker-color": "#FF0000",
          "marker-symbol": "star"
         },
         "type": "Feature"
        },
        {
         "geometry": {
          "coordinates": [
           11.5922565,
           48.1450074
          ],
          "type": "Point"
         },
         "properties": {
          "Name": "Luitpold-Gymnasium München   ",
          "marker-color": "#FF0000",
          "marker-symbol": "star"
         },
         "type": "Feature"
        },
        {
         "geometry": {
          "coordinates": [
           11.5873451,
           48.1409886
          ],
          "type": "Point"
         },
         "properties": {
          "Name": "Städtisches St.-Anna-Gymnasium München  ",
          "marker-color": "#FF0000",
          "marker-symbol": "star"
         },
         "type": "Feature"
        },
        {
         "geometry": {
          "coordinates": [
           11.5442024,
           48.1514327
          ],
          "type": "Point"
         },
         "properties": {
          "Name": "Rupprecht-Gymnasium München   ",
          "marker-color": "#FF0000",
          "marker-symbol": "star"
         },
         "type": "Feature"
        },
        {
         "geometry": {
          "coordinates": [
           11.543047,
           48.1534893
          ],
          "type": "Point"
         },
         "properties": {
          "Name": "Städtisches Adolf-Weber-Gymnasium München  ",
          "marker-color": "#FF0000",
          "marker-symbol": "star"
         },
         "type": "Feature"
        },
        {
         "geometry": {
          "coordinates": [
           11.5049031,
           48.1620212
          ],
          "type": "Point"
         },
         "properties": {
          "Name": "Erzbischöfliches Maria-Ward-Gymnasium Nymphenburg, München ",
          "marker-color": "#FF0000",
          "marker-symbol": "star"
         },
         "type": "Feature"
        },
        {
         "geometry": {
          "coordinates": [
           11.5216432,
           48.1660094
          ],
          "type": "Point"
         },
         "properties": {
          "Name": "Nymphenburger Gymnasium München des Schulvereins Ernst Adam e.V.  ",
          "marker-color": "#FF0000",
          "marker-symbol": "star"
         },
         "type": "Feature"
        },
        {
         "geometry": {
          "coordinates": [
           11.5184266,
           48.15208029999999
          ],
          "type": "Point"
         },
         "properties": {
          "Name": "Städtisches Käthe-Kollwitz- Gymnasium München  ",
          "marker-color": "#FF0000",
          "marker-symbol": "star"
         },
         "type": "Feature"
        },
        {
         "geometry": {
          "coordinates": [
           11.4995172,
           48.1367684
          ],
          "type": "Point"
         },
         "properties": {
          "Name": "Privates evangelisches Lukas-Gymnasium der Lukas-Schulen gGmbH München ",
          "marker-color": "#FF0000",
          "marker-symbol": "star"
         },
         "type": "Feature"
        },
        {
         "geometry": {
          "coordinates": [
           11.5722183,
           48.1676987
          ],
          "type": "Point"
         },
         "properties": {
          "Name": "Städtisches Sophie-Scholl- Gymnasium München  ",
          "marker-color": "#FF0000",
          "marker-symbol": "star"
         },
         "type": "Feature"
        },
        {
         "geometry": {
          "coordinates": [
           11.5726041,
           48.1568826
          ],
          "type": "Point"
         },
         "properties": {
          "Name": "Gisela-Gymnasium München   ",
          "marker-color": "#FF0000",
          "marker-symbol": "star"
         },
         "type": "Feature"
        },
        {
         "geometry": {
          "coordinates": [
           11.5716014,
           48.1702837
          ],
          "type": "Point"
         },
         "properties": {
          "Name": "Städtisches Willi-Graf-Gymnasium München  ",
          "marker-color": "#FF0000",
          "marker-symbol": "star"
         },
         "type": "Feature"
        },
        {
         "geometry": {
          "coordinates": [
           11.6040687,
           48.1798108
          ],
          "type": "Point"
         },
         "properties": {
          "Name": "Oskar-von-Miller-Gymnasium München   ",
          "marker-color": "#FF0000",
          "marker-symbol": "star"
         },
         "type": "Feature"
        },
        {
         "geometry": {
          "coordinates": [
           11.580861,
           48.17791250000001
          ],
          "type": "Point"
         },
         "properties": {
          "Name": "Städtisches Lion-Feuchtwanger- Gymnasium München  ",
          "marker-color": "#FF0000",
          "marker-symbol": "star"
         },
         "type": "Feature"
        },
        {
         "geometry": {
          "coordinates": [
           11.5723829,
           48.1997495
          ],
          "type": "Point"
         },
         "properties": {
          "Name": "Gymnasium München-Nord   ",
          "marker-color": "#FF0000",
          "marker-symbol": "star"
         },
         "type": "Feature"
        },
        {
         "geometry": {
          "coordinates": [
           11.5183951,
           48.1847673
          ],
          "type": "Point"
         },
         "properties": {
          "Name": "Gymnasium München/Moosach   ",
          "marker-color": "#FF0000",
          "marker-symbol": "star"
         },
         "type": "Feature"
        },
        {
         "geometry": {
          "coordinates": [
           11.5314403,
           48.20871959999999
          ],
          "type": "Point"
         },
         "properties": {
          "Name": "Gymnasium München Feldmoching   ",
          "marker-color": "#FF0000",
          "marker-symbol": "star"
         },
         "type": "Feature"
        },
        {
         "geometry": {
          "coordinates": [
           11.4638199,
           48.1794348
          ],
          "type": "Point"
         },
         "properties": {
          "Name": "Städtisches Louise-Schroeder Gymnasium München  ",
          "marker-color": "#FF0000",
          "marker-symbol": "star"
         },
         "type": "Feature"
        },
        {
         "geometry": {
          "coordinates": [
           11.4706141,
           48.1395364
          ],
          "type": "Point"
         },
         "properties": {
          "Name": "Max-Planck-Gymnasium München   ",
          "marker-color": "#FF0000",
          "marker-symbol": "star"
         },
         "type": "Feature"
        },
        {
         "geometry": {
          "coordinates": [
           11.4644854,
           48.1454215
          ],
          "type": "Point"
         },
         "properties": {
          "Name": "Städtisches Elsa-Brändström- Gymnasium München  ",
          "marker-color": "#FF0000",
          "marker-symbol": "star"
         },
         "type": "Feature"
        },
        {
         "geometry": {
          "coordinates": [
           11.452381,
           48.1415703
          ],
          "type": "Point"
         },
         "properties": {
          "Name": "Karlsgymnasium München-Pasing   ",
          "marker-color": "#FF0000",
          "marker-symbol": "star"
         },
         "type": "Feature"
        },
        {
         "geometry": {
          "coordinates": [
           11.44735,
           48.14118999999999
          ],
          "type": "Point"
         },
         "properties": {
          "Name": "Städtisches Bertolt-Brecht- Gymnasium München  ",
          "marker-color": "#FF0000",
          "marker-symbol": "star"
         },
         "type": "Feature"
        },
        {
         "geometry": {
          "coordinates": [
           11.4768721,
           48.169186
          ],
          "type": "Point"
         },
         "properties": {
          "Name": "Obermenzinger Gymnasium München   ",
          "marker-color": "#FF0000",
          "marker-symbol": "star"
         },
         "type": "Feature"
        },
        {
         "geometry": {
          "coordinates": [
           11.407273,
           48.1415076
          ],
          "type": "Point"
         },
         "properties": {
          "Name": "Gymnasium München-Freiham   ",
          "marker-color": "#FF0000",
          "marker-symbol": "star"
         },
         "type": "Feature"
        },
        {
         "geometry": {
          "coordinates": [
           11.5407122,
           48.1021842
          ],
          "type": "Point"
         },
         "properties": {
          "Name": "Privates staatlich anerkanntes neuhof pro Gymnasium München der neuhof Bildungswerk gGmbH ",
          "marker-color": "#FF0000",
          "marker-symbol": "star"
         },
         "type": "Feature"
        },
        {
         "geometry": {
          "coordinates": [
           11.5407122,
           48.1021842
          ],
          "type": "Point"
         },
         "properties": {
          "Name": "Privates staatlich genehmigtes neuhof neo Gymnasium München der neuhof Bildungswerk gGmbH ",
          "marker-color": "#FF0000",
          "marker-symbol": "star"
         },
         "type": "Feature"
        },
        {
         "geometry": {
          "coordinates": [
           11.5441234,
           48.1154351
          ],
          "type": "Point"
         },
         "properties": {
          "Name": "Klenze-Gymnasium München   ",
          "marker-color": "#FF0000",
          "marker-symbol": "star"
         },
         "type": "Feature"
        },
        {
         "geometry": {
          "coordinates": [
           11.5435267,
           48.1156725
          ],
          "type": "Point"
         },
         "properties": {
          "Name": "Dante-Gymnasium München   ",
          "marker-color": "#FF0000",
          "marker-symbol": "star"
         },
         "type": "Feature"
        },
        {
         "geometry": {
          "coordinates": [
           11.50473,
           48.12233
          ],
          "type": "Point"
         },
         "properties": {
          "Name": "Ludwigsgymnasium München   ",
          "marker-color": "#FF0000",
          "marker-symbol": "star"
         },
         "type": "Feature"
        },
        {
         "geometry": {
          "coordinates": [
           11.5040826,
           48.1221207
          ],
          "type": "Point"
         },
         "properties": {
          "Name": "Erasmus-Grasser-Gymnasium München   ",
          "marker-color": "#FF0000",
          "marker-symbol": "star"
         },
         "type": "Feature"
        },
        {
         "geometry": {
          "coordinates": [
           11.4793996,
           48.1084719
          ],
          "type": "Point"
         },
         "properties": {
          "Name": "Kleines privates Lehrinstitut Derksen München -Gymnasium-  ",
          "marker-color": "#FF0000",
          "marker-symbol": "star"
         },
         "type": "Feature"
        },
        {
         "geometry": {
          "coordinates": [
           11.5394737,
           48.0933569
          ],
          "type": "Point"
         },
         "properties": {
          "Name": "Bilinguales Deutsch-Italienisches Gymnasium Leonardo da Vinci - München d.Bilingualen Deutsch-Ital. Bildungsvereins München e.V.",
          "marker-color": "#FF0000",
          "marker-symbol": "star"
         },
         "type": "Feature"
        },
        {
         "geometry": {
          "coordinates": [
           11.4820015,
           48.0903382
          ],
          "type": "Point"
         },
         "properties": {
          "Name": "Gymnasium München - Fürstenried   ",
          "marker-color": "#FF0000",
          "marker-symbol": "star"
         },
         "type": "Feature"
        },
        {
         "geometry": {
          "coordinates": [
           11.5068906,
           48.0978372
          ],
          "type": "Point"
         },
         "properties": {
          "Name": "Städtisches Thomas-Mann-Gymnasium München  ",
          "marker-color": "#FF0000",
          "marker-symbol": "star"
         },
         "type": "Feature"
        },
        {
         "geometry": {
          "coordinates": [
           11.5914007,
           48.1143855
          ],
          "type": "Point"
         },
         "properties": {
          "Name": "Asam-Gymnasium München   ",
          "marker-color": "#FF0000",
          "marker-symbol": "star"
         },
         "type": "Feature"
        },
        {
         "geometry": {
          "coordinates": [
           11.5886141,
           48.1242712
          ],
          "type": "Point"
         },
         "properties": {
          "Name": "Maria-Theresia-Gymnasium München   ",
          "marker-color": "#FF0000",
          "marker-symbol": "star"
         },
         "type": "Feature"
        },
        {
         "geometry": {
          "coordinates": [
           11.5823988,
           48.12774350000001
          ],
          "type": "Point"
         },
         "properties": {
          "Name": "Pestalozzi-Gymnasium München   ",
          "marker-color": "#FF0000",
          "marker-symbol": "star"
         },
         "type": "Feature"
        },
        {
         "geometry": {
          "coordinates": [
           11.5607587,
           48.0951225
          ],
          "type": "Point"
         },
         "properties": {
          "Name": "Albert-Einstein-Gymnasium München   ",
          "marker-color": "#FF0000",
          "marker-symbol": "star"
         },
         "type": "Feature"
        },
        {
         "geometry": {
          "coordinates": [
           11.5757601,
           48.0978387
          ],
          "type": "Point"
         },
         "properties": {
          "Name": "Städtisches Theodolinden-Gymnasium München  ",
          "marker-color": "#FF0000",
          "marker-symbol": "star"
         },
         "type": "Feature"
        },
        {
         "geometry": {
          "coordinates": [
           11.6031991,
           48.09689650000001
          ],
          "type": "Point"
         },
         "properties": {
          "Name": "Helene-Habermann-Gymnasium München in Trägerschaft der Israelitischen Kultusgemeinde München und Oberbayern K.d.ö.R.",
          "marker-color": "#FF0000",
          "marker-symbol": "star"
         },
         "type": "Feature"
        },
        {
         "geometry": {
          "coordinates": [
           11.6018517,
           48.1317656
          ],
          "type": "Point"
         },
         "properties": {
          "Name": "Erzbischöfliches Edith-Stein-Gymnasium München ",
          "marker-color": "#FF0000",
          "marker-symbol": "star"
         },
         "type": "Feature"
        },
        {
         "geometry": {
          "coordinates": [
           11.599203,
           48.1275348
          ],
          "type": "Point"
         },
         "properties": {
          "Name": "Privatgymnasium Dr. Florian Überreiter München  ",
          "marker-color": "#FF0000",
          "marker-symbol": "star"
         },
         "type": "Feature"
        },
        {
         "geometry": {
          "coordinates": [
           11.6384431,
           48.1212252
          ],
          "type": "Point"
         },
         "properties": {
          "Name": "Michaeli-Gymnasium München   ",
          "marker-color": "#FF0000",
          "marker-symbol": "star"
         },
         "type": "Feature"
        },
        {
         "geometry": {
          "coordinates": [
           11.6012042,
           48.1472832
          ],
          "type": "Point"
         },
         "properties": {
          "Name": "Bilinguales Gymnasium Phorms München  ",
          "marker-color": "#FF0000",
          "marker-symbol": "star"
         },
         "type": "Feature"
        },
        {
         "geometry": {
          "coordinates": [
           11.60974,
           48.1416
          ],
          "type": "Point"
         },
         "properties": {
          "Name": "Max-Josef-Stift München   ",
          "marker-color": "#FF0000",
          "marker-symbol": "star"
         },
         "type": "Feature"
        },
        {
         "geometry": {
          "coordinates": [
           11.6488074,
           48.1100626
          ],
          "type": "Point"
         },
         "properties": {
          "Name": "Städtisches Werner-von-Siemens- Gymnasium München  ",
          "marker-color": "#FF0000",
          "marker-symbol": "star"
         },
         "type": "Feature"
        },
        {
         "geometry": {
          "coordinates": [
           11.6298931,
           48.0911352
          ],
          "type": "Point"
         },
         "properties": {
          "Name": "Privates Jules Verne Gymnasium der Jules Verne Campus gGmbH in München ",
          "marker-color": "#FF0000",
          "marker-symbol": "star"
         },
         "type": "Feature"
        },
        {
         "geometry": {
          "coordinates": [
           11.6674998,
           48.0900706
          ],
          "type": "Point"
         },
         "properties": {
          "Name": "Städtisches Heinrich-Heine- Gymnasium München  ",
          "marker-color": "#FF0000",
          "marker-symbol": "star"
         },
         "type": "Feature"
        },
        {
         "geometry": {
          "coordinates": [
           11.6752629,
           48.1089991
          ],
          "type": "Point"
         },
         "properties": {
          "Name": "Gymnasium München-Trudering   ",
          "marker-color": "#FF0000",
          "marker-symbol": "star"
         },
         "type": "Feature"
        },
        {
         "geometry": {
          "coordinates": [
           11.6849323,
           48.13589469999999
          ],
          "type": "Point"
         },
         "properties": {
          "Name": "Gymnasium Messestadt Riem, München   ",
          "marker-color": "#FF0000",
          "marker-symbol": "star"
         },
         "type": "Feature"
        },
        {
         "geometry": {
          "coordinates": [
           11.6273074,
           48.1516099
          ],
          "type": "Point"
         },
         "properties": {
          "Name": "Wilhelm-Hausenstein-Gymnasium München  ",
          "marker-color": "#FF0000",
          "marker-symbol": "star"
         },
         "type": "Feature"
        },
        {
         "geometry": {
          "coordinates": [
           11.6132901,
           48.0608256
          ],
          "type": "Point"
         },
         "properties": {
          "Name": "Lise-Meitner-Gymnasium Unterhaching   ",
          "marker-color": "#FF0000",
          "marker-symbol": "star"
         },
         "type": "Feature"
        },
        {
         "geometry": {
          "coordinates": [
           11.5270271,
           48.0378931
          ],
          "type": "Point"
         },
         "properties": {
          "Name": "Gymnasium Grünwald   ",
          "marker-color": "#FF0000",
          "marker-symbol": "star"
         },
         "type": "Feature"
        },
        {
         "geometry": {
          "coordinates": [
           11.5914374,
           48.02345709999999
          ],
          "type": "Point"
         },
         "properties": {
          "Name": "Gymnasium Oberhaching   ",
          "marker-color": "#FF0000",
          "marker-symbol": "star"
         },
         "type": "Feature"
        },
        {
         "geometry": {
          "coordinates": [
           11.525938,
           48.066261
          ],
          "type": "Point"
         },
         "properties": {
          "Name": "Otfried-Preußler-Gymnasium Pullach  ",
          "marker-color": "#FF0000",
          "marker-symbol": "star"
         },
         "type": "Feature"
        },
        {
         "geometry": {
          "coordinates": [
           11.512609,
           48.0602864
          ],
          "type": "Point"
         },
         "properties": {
          "Name": "Erzbischöfliches Pater-Rupert-Mayer-Gymnasium Pullach ",
          "marker-color": "#FF0000",
          "marker-symbol": "star"
         },
         "type": "Feature"
        },
        {
         "geometry": {
          "coordinates": [
           11.43373,
           47.95697
          ],
          "type": "Point"
         },
         "properties": {
          "Name": "Rainer-Maria-Rilke-Gymnasium Icking   ",
          "marker-color": "#FF0000",
          "marker-symbol": "star"
         },
         "type": "Feature"
        },
        {
         "geometry": {
          "coordinates": [
           11.4415874,
           47.9740273
          ],
          "type": "Point"
         },
         "properties": {
          "Name": "Privates Gymnasium Eggenberg der St. Anna Colleg gemeinnützigen GmbH Icking ",
          "marker-color": "#FF0000",
          "marker-symbol": "star"
         },
         "type": "Feature"
        },
        {
         "geometry": {
          "coordinates": [
           11.4672394,
           47.9786263
          ],
          "type": "Point"
         },
         "properties": {
          "Name": "Gymnasium der Benediktiner Schäftlarn  ",
          "marker-color": "#FF0000",
          "marker-symbol": "star"
         },
         "type": "Feature"
        },
        {
         "geometry": {
          "coordinates": [
           11.3713427,
           48.1340198
          ],
          "type": "Point"
         },
         "properties": {
          "Name": "Max-Born-Gymnasium Germering   ",
          "marker-color": "#FF0000",
          "marker-symbol": "star"
         },
         "type": "Feature"
        },
        {
         "geometry": {
          "coordinates": [
           11.3569847,
           48.1220963
          ],
          "type": "Point"
         },
         "properties": {
          "Name": "Carl-Spitzweg-Gymnasium Unterpfaffenhofen in Germering  ",
          "marker-color": "#FF0000",
          "marker-symbol": "star"
         },
         "type": "Feature"
        },
        {
         "geometry": {
          "coordinates": [
           11.3757434,
           48.0782842
          ],
          "type": "Point"
         },
         "properties": {
          "Name": "Otto-von-Taube-Gymnasium Gauting   ",
          "marker-color": "#FF0000",
          "marker-symbol": "star"
         },
         "type": "Feature"
        },
        {
         "geometry": {
          "coordinates": [
           11.3451414,
           48.2146084
          ],
          "type": "Point"
         },
         "properties": {
          "Name": "Gymnasium Olching   ",
          "marker-color": "#FF0000",
          "marker-symbol": "star"
         },
         "type": "Feature"
        },
        {
         "geometry": {
          "coordinates": [
           11.4357116,
           48.1056849
          ],
          "type": "Point"
         },
         "properties": {
          "Name": "Feodor-Lynen-Gymnasium Planegg   ",
          "marker-color": "#FF0000",
          "marker-symbol": "star"
         },
         "type": "Feature"
        },
        {
         "geometry": {
          "coordinates": [
           11.432091,
           48.1254162
          ],
          "type": "Point"
         },
         "properties": {
          "Name": "Kurt-Huber-Gymnasium Gräfelfing   ",
          "marker-color": "#FF0000",
          "marker-symbol": "star"
         },
         "type": "Feature"
        },
        {
         "geometry": {
          "coordinates": [
           11.3570933,
           48.1809433
          ],
          "type": "Point"
         },
         "properties": {
          "Name": "Gymnasium Puchheim   ",
          "marker-color": "#FF0000",
          "marker-symbol": "star"
         },
         "type": "Feature"
        },
        {
         "geometry": {
          "coordinates": [
           11.3839585,
           48.1922113
          ],
          "type": "Point"
         },
         "properties": {
          "Name": "Gymnasium Gröbenzell   ",
          "marker-color": "#FF0000",
          "marker-symbol": "star"
         },
         "type": "Feature"
        },
        {
         "geometry": {
          "coordinates": [
           11.2866447,
           48.1048362
          ],
          "type": "Point"
         },
         "properties": {
          "Name": "Christoph-Probst-Gymnasium Gilching  ",
          "marker-color": "#FF0000",
          "marker-symbol": "star"
         },
         "type": "Feature"
        },
        {
         "geometry": {
          "coordinates": [
           11.2682793,
           48.1734354
          ],
          "type": "Point"
         },
         "properties": {
          "Name": "Graf-Rasso-Gymnasium Fürstenfeldbruck  ",
          "marker-color": "#FF0000",
          "marker-symbol": "star"
         },
         "type": "Feature"
        },
        {
         "geometry": {
          "coordinates": [
           11.2247106,
           48.16708819999999
          ],
          "type": "Point"
         },
         "properties": {
          "Name": "Viscardi-Gymnasium Fürstenfeldbruck  ",
          "marker-color": "#FF0000",
          "marker-symbol": "star"
         },
         "type": "Feature"
        },
        {
         "geometry": {
          "coordinates": [
           11.3444191,
           48.0030447
          ],
          "type": "Point"
         },
         "properties": {
          "Name": "Gymnasium Starnberg   ",
          "marker-color": "#FF0000",
          "marker-symbol": "star"
         },
         "type": "Feature"
        },
        {
         "geometry": {
          "coordinates": [
           11.2792163,
           47.9074409
          ],
          "type": "Point"
         },
         "properties": {
          "Name": "Gymnasium Tutzing   ",
          "marker-color": "#FF0000",
          "marker-symbol": "star"
         },
         "type": "Feature"
        },
        {
         "geometry": {
          "coordinates": [
           11.36022,
           47.99296
          ],
          "type": "Point"
         },
         "properties": {
          "Name": "Landschulheim Kempfenhausen des Zweckverbandes Bayerische Landschulheime - Gymnasium - ",
          "marker-color": "#FF0000",
          "marker-symbol": "star"
         },
         "type": "Feature"
        },
        {
         "geometry": {
          "coordinates": [
           11.37975,
           47.94347
          ],
          "type": "Point"
         },
         "properties": {
          "Name": "Montessori-Schule Gut Biberkor Gymnasium Berg-Höhenrain  ",
          "marker-color": "#FF0000",
          "marker-symbol": "star"
         },
         "type": "Feature"
        },
        {
         "geometry": {
          "coordinates": [
           11.142678,
           47.8356659
          ],
          "type": "Point"
         },
         "properties": {
          "Name": "Gymnasium Weilheim i.OB   ",
          "marker-color": "#FF0000",
          "marker-symbol": "star"
         },
         "type": "Feature"
        },
        {
         "geometry": {
          "coordinates": [
           11.1481579,
           47.8514975
          ],
          "type": "Point"
         },
         "properties": {
          "Name": "Privates Gymnasium des Private Oberlandschulen e.V. Weilheim ",
          "marker-color": "#FF0000",
          "marker-symbol": "star"
         },
         "type": "Feature"
        },
        {
         "geometry": {
          "coordinates": [
           11.3737104,
           47.753683
          ],
          "type": "Point"
         },
         "properties": {
          "Name": "Gymnasium Penzberg   ",
          "marker-color": "#FF0000",
          "marker-symbol": "star"
         },
         "type": "Feature"
        },
        {
         "geometry": {
          "coordinates": [
           11.2069757,
           47.6808332
          ],
          "type": "Point"
         },
         "properties": {
          "Name": "Staffelsee-Gymnasium Murnau   ",
          "marker-color": "#FF0000",
          "marker-symbol": "star"
         },
         "type": "Feature"
        },
        {
         "geometry": {
          "coordinates": [
           11.1019921,
           47.4933451
          ],
          "type": "Point"
         },
         "properties": {
          "Name": "Werdenfels-Gymnasium Garmisch-Partenkirchen  ",
          "marker-color": "#FF0000",
          "marker-symbol": "star"
         },
         "type": "Feature"
        },
        {
         "geometry": {
          "coordinates": [
           11.1033123,
           47.49637810000001
          ],
          "type": "Point"
         },
         "properties": {
          "Name": "Erzbischöfliches St.-Irmengard-Gymnasium Garmisch-Partenkirchen ",
          "marker-color": "#FF0000",
          "marker-symbol": "star"
         },
         "type": "Feature"
        },
        {
         "geometry": {
          "coordinates": [
           11.0935683,
           47.5700521
          ],
          "type": "Point"
         },
         "properties": {
          "Name": "Benediktinergymnasium Ettal   ",
          "marker-color": "#FF0000",
          "marker-symbol": "star"
         },
         "type": "Feature"
        },
        {
         "geometry": {
          "coordinates": [
           11.4456426,
           47.8999297
          ],
          "type": "Point"
         },
         "properties": {
          "Name": "Spätberufenengymnasium der Erzbischöflichen Stiftung St. Matth Wolfratshausen-Waldram ",
          "marker-color": "#FF0000",
          "marker-symbol": "star"
         },
         "type": "Feature"
        },
        {
         "geometry": {
          "coordinates": [
           11.4727245,
           47.86801730000001
          ],
          "type": "Point"
         },
         "properties": {
          "Name": "Gymnasium Geretsried   ",
          "marker-color": "#FF0000",
          "marker-symbol": "star"
         },
         "type": "Feature"
        },
        {
         "geometry": {
          "coordinates": [
           12.1209853,
           47.8576992
          ],
          "type": "Point"
         },
         "properties": {
          "Name": "Ignaz-Günther-Gymnasium Rosenheim   ",
          "marker-color": "#FF0000",
          "marker-symbol": "star"
         },
         "type": "Feature"
        },
        {
         "geometry": {
          "coordinates": [
           12.1310224,
           47.8524898
          ],
          "type": "Point"
         },
         "properties": {
          "Name": "Sebastian-Finsterwalder-Gymnasium Rosenheim  ",
          "marker-color": "#FF0000",
          "marker-symbol": "star"
         },
         "type": "Feature"
        },
        {
         "geometry": {
          "coordinates": [
           12.1254075,
           47.8614699
          ],
          "type": "Point"
         },
         "properties": {
          "Name": "Karolinen-Gymnasium Rosenheim   ",
          "marker-color": "#FF0000",
          "marker-symbol": "star"
         },
         "type": "Feature"
        },
        {
         "geometry": {
          "coordinates": [
           11.9980793,
           47.8663523
          ],
          "type": "Point"
         },
         "properties": {
          "Name": "Gymnasium Bad Aibling   ",
          "marker-color": "#FF0000",
          "marker-symbol": "star"
         },
         "type": "Feature"
        },
        {
         "geometry": {
          "coordinates": [
           11.913666,
           47.8855258
          ],
          "type": "Point"
         },
         "properties": {
          "Name": "Gymnasium Bruckmühl   ",
          "marker-color": "#FF0000",
          "marker-symbol": "star"
         },
         "type": "Feature"
        },
        {
         "geometry": {
          "coordinates": [
           12.103898,
           47.781984
          ],
          "type": "Point"
         },
         "properties": {
          "Name": "Inntal-Gymnasium Raubling   ",
          "marker-color": "#FF0000",
          "marker-symbol": "star"
         },
         "type": "Feature"
        },
        {
         "geometry": {
          "coordinates": [
           12.1392141,
           47.7753159
          ],
          "type": "Point"
         },
         "properties": {
          "Name": "Schloss Neubeuern - Gymnasium Internatsschule für Mädchen und Jungen ",
          "marker-color": "#FF0000",
          "marker-symbol": "star"
         },
         "type": "Feature"
        },
        {
         "geometry": {
          "coordinates": [
           12.348673,
           47.856804
          ],
          "type": "Point"
         },
         "properties": {
          "Name": "Ludwig-Thoma-Gymnasium Prien   ",
          "marker-color": "#FF0000",
          "marker-symbol": "star"
         },
         "type": "Feature"
        },
        {
         "geometry": {
          "coordinates": [
           12.4672239,
           47.7518145
          ],
          "type": "Point"
         },
         "properties": {
          "Name": "Gymnasium Landschulheim Marquartstein  ",
          "marker-color": "#FF0000",
          "marker-symbol": "star"
         },
         "type": "Feature"
        },
        {
         "geometry": {
          "coordinates": [
           12.6461919,
           47.8716652
          ],
          "type": "Point"
         },
         "properties": {
          "Name": "Chiemgau-Gymnasium Traunstein   ",
          "marker-color": "#FF0000",
          "marker-symbol": "star"
         },
         "type": "Feature"
        },
        {
         "geometry": {
          "coordinates": [
           12.6373922,
           47.8702352
          ],
          "type": "Point"
         },
         "properties": {
          "Name": "Annette-Kolb-Gymnasium Traunstein   ",
          "marker-color": "#FF0000",
          "marker-symbol": "star"
         },
         "type": "Feature"
        },
        {
         "geometry": {
          "coordinates": [
           12.5962606,
           47.9589805
          ],
          "type": "Point"
         },
         "properties": {
          "Name": "Johannes-Heidenhain-Gymnasium Traunreut  ",
          "marker-color": "#FF0000",
          "marker-symbol": "star"
         },
         "type": "Feature"
        },
        {
         "geometry": {
          "coordinates": [
           12.5491486,
           48.0234691
          ],
          "type": "Point"
         },
         "properties": {
          "Name": "Hertzhaimer-Gymnasium Trostberg   ",
          "marker-color": "#FF0000",
          "marker-symbol": "star"
         },
         "type": "Feature"
        },
        {
         "geometry": {
          "coordinates": [
           12.5047921,
           47.9236053
          ],
          "type": "Point"
         },
         "properties": {
          "Name": "Landschulheim Schloß Ising am Chiemsee des Zweckverbands Bayer. Landschulheime - Gymnasium ",
          "marker-color": "#FF0000",
          "marker-symbol": "star"
         },
         "type": "Feature"
        },
        {
         "geometry": {
          "coordinates": [
           12.5466083,
           47.9878158
          ],
          "type": "Point"
         },
         "properties": {
          "Name": "Schule Schloss Stein e.V. Staatl. anerk. neusprachl. und wirtschaftswiss. Gymnasium Internat für Jungen und Mädchen",
          "marker-color": "#FF0000",
          "marker-symbol": "star"
         },
         "type": "Feature"
        },
        {
         "geometry": {
          "coordinates": [
           12.9336741,
           47.9340044
          ],
          "type": "Point"
         },
         "properties": {
          "Name": "Rottmayr-Gymnasium Laufen   ",
          "marker-color": "#FF0000",
          "marker-symbol": "star"
         },
         "type": "Feature"
        },
        {
         "geometry": {
          "coordinates": [
           12.8876176,
           47.7294537
          ],
          "type": "Point"
         },
         "properties": {
          "Name": "Karlsgymnasium Bad Reichenhall   ",
          "marker-color": "#FF0000",
          "marker-symbol": "star"
         },
         "type": "Feature"
        },
        {
         "geometry": {
          "coordinates": [
           13.01469,
           47.6373566
          ],
          "type": "Point"
         },
         "properties": {
          "Name": "Gymnasium Berchtesgaden   ",
          "marker-color": "#FF0000",
          "marker-symbol": "star"
         },
         "type": "Feature"
        },
        {
         "geometry": {
          "coordinates": [
           13.0246471,
           47.6013029
          ],
          "type": "Point"
         },
         "properties": {
          "Name": "CJD Christophorusschulen Berchtes- gaden - Gymnasium des CJD Christl.Jugenddorfwerk Deutschlands gemeinnn.e.V.in Schönau a.Königssee",
          "marker-color": "#FF0000",
          "marker-symbol": "star"
         },
         "type": "Feature"
        },
        {
         "geometry": {
          "coordinates": [
           12.2311787,
           48.055506
          ],
          "type": "Point"
         },
         "properties": {
          "Name": "Luitpold-Gymnasium Wasserburg   ",
          "marker-color": "#FF0000",
          "marker-symbol": "star"
         },
         "type": "Feature"
        },
        {
         "geometry": {
          "coordinates": [
           12.2772717,
           48.157236
          ],
          "type": "Point"
         },
         "properties": {
          "Name": "Gymnasium Gars a.Inn   ",
          "marker-color": "#FF0000",
          "marker-symbol": "star"
         },
         "type": "Feature"
        },
        {
         "geometry": {
          "coordinates": [
           11.7046458,
           47.8884275
          ],
          "type": "Point"
         },
         "properties": {
          "Name": "Staatliches Gymnasium Holzkirchen  ",
          "marker-color": "#FF0000",
          "marker-symbol": "star"
         },
         "type": "Feature"
        },
        {
         "geometry": {
          "coordinates": [
           11.6903366,
           47.8841712
          ],
          "type": "Point"
         },
         "properties": {
          "Name": "Privatgymnasium Holzkirchen   ",
          "marker-color": "#FF0000",
          "marker-symbol": "star"
         },
         "type": "Feature"
        },
        {
         "geometry": {
          "coordinates": [
           11.5649874,
           47.7644574
          ],
          "type": "Point"
         },
         "properties": {
          "Name": "Gabriel-von-Seidl-Gymnasium Bad Tölz  ",
          "marker-color": "#FF0000",
          "marker-symbol": "star"
         },
         "type": "Feature"
        },
        {
         "geometry": {
          "coordinates": [
           11.587212,
           47.6722543
          ],
          "type": "Point"
         },
         "properties": {
          "Name": "Erzbischöfliches St.-Ursula-Gymnasium Schloss Hohenburg Lenggries ",
          "marker-color": "#FF0000",
          "marker-symbol": "star"
         },
         "type": "Feature"
        },
        {
         "geometry": {
          "coordinates": [
           11.62544,
           47.7673
          ],
          "type": "Point"
         },
         "properties": {
          "Name": "Max-Rill-Gymnasium Schloss Reichersbeuern des Max-Rill-Gymnasium Schloss Reichersbeuern e.V.",
          "marker-color": "#FF0000",
          "marker-symbol": "star"
         },
         "type": "Feature"
        },
        {
         "geometry": {
          "coordinates": [
           11.75722,
           47.70809
          ],
          "type": "Point"
         },
         "properties": {
          "Name": "Gymnasium Tegernsee   ",
          "marker-color": "#FF0000",
          "marker-symbol": "star"
         },
         "type": "Feature"
        },
        {
         "geometry": {
          "coordinates": [
           11.8294238,
           47.7840412
          ],
          "type": "Point"
         },
         "properties": {
          "Name": "Gymnasium Miesbach   ",
          "marker-color": "#FF0000",
          "marker-symbol": "star"
         },
         "type": "Feature"
        },
        {
         "geometry": {
          "coordinates": [
           12.1589887,
           48.5365543
          ],
          "type": "Point"
         },
         "properties": {
          "Name": "Hans-Carossa-Gymnasium Landshut   ",
          "marker-color": "#FF0000",
          "marker-symbol": "star"
         },
         "type": "Feature"
        },
        {
         "geometry": {
          "coordinates": [
           12.1737649,
           48.56312920000001
          ],
          "type": "Point"
         },
         "properties": {
          "Name": "Gymnasium Ergolding   ",
          "marker-color": "#FF0000",
          "marker-symbol": "star"
         },
         "type": "Feature"
        },
        {
         "geometry": {
          "coordinates": [
           12.1247,
           48.54207
          ],
          "type": "Point"
         },
         "properties": {
          "Name": "Hans-Leinberger-Gymnasium Landshut   ",
          "marker-color": "#FF0000",
          "marker-symbol": "star"
         },
         "type": "Feature"
        },
        {
         "geometry": {
          "coordinates": [
           12.1484828,
           48.5422661
          ],
          "type": "Point"
         },
         "properties": {
          "Name": "Gymnasium der Schulstiftung Seligenthal in Landshut  ",
          "marker-color": "#FF0000",
          "marker-symbol": "star"
         },
         "type": "Feature"
        },
        {
         "geometry": {
          "coordinates": [
           11.7696559,
           48.6496389
          ],
          "type": "Point"
         },
         "properties": {
          "Name": "Gabelsberger-Gymnasium Mainburg   ",
          "marker-color": "#FF0000",
          "marker-symbol": "star"
         },
         "type": "Feature"
        },
        {
         "geometry": {
          "coordinates": [
           12.2371677,
           48.7728743
          ],
          "type": "Point"
         },
         "properties": {
          "Name": "Burkhart-Gymnasium Mallersdorf-Pfaffenberg  ",
          "marker-color": "#FF0000",
          "marker-symbol": "star"
         },
         "type": "Feature"
        },
        {
         "geometry": {
          "coordinates": [
           12.0273784,
           48.59270619999999
          ],
          "type": "Point"
         },
         "properties": {
          "Name": "Maristen-Gymnasium Furth   ",
          "marker-color": "#FF0000",
          "marker-symbol": "star"
         },
         "type": "Feature"
        },
        {
         "geometry": {
          "coordinates": [
           12.50288,
           48.6296486
          ],
          "type": "Point"
         },
         "properties": {
          "Name": "Gymnasium Dingolfing   ",
          "marker-color": "#FF0000",
          "marker-symbol": "star"
         },
         "type": "Feature"
        },
        {
         "geometry": {
          "coordinates": [
           12.36299,
           48.45703
          ],
          "type": "Point"
         },
         "properties": {
          "Name": "Maximilian-von-Montgelas-Gymnasium Vilsbiburg  ",
          "marker-color": "#FF0000",
          "marker-symbol": "star"
         },
         "type": "Feature"
        },
        {
         "geometry": {
          "coordinates": [
           12.7699777,
           48.39472019999999
          ],
          "type": "Point"
         },
         "properties": {
          "Name": "Karl-von-Closen-Gymnasium Eggenfelden  ",
          "marker-color": "#FF0000",
          "marker-symbol": "star"
         },
         "type": "Feature"
        },
        {
         "geometry": {
          "coordinates": [
           12.9365191,
           48.4357066
          ],
          "type": "Point"
         },
         "properties": {
          "Name": "Gymnasium Pfarrkirchen   ",
          "marker-color": "#FF0000",
          "marker-symbol": "star"
         },
         "type": "Feature"
        },
        {
         "geometry": {
          "coordinates": [
           13.0254697,
           48.2737944
          ],
          "type": "Point"
         },
         "properties": {
          "Name": "Tassilo-Gymnasium Simbach a.Inn   ",
          "marker-color": "#FF0000",
          "marker-symbol": "star"
         },
         "type": "Feature"
        },
        {
         "geometry": {
          "coordinates": [
           12.14758,
           48.27959
          ],
          "type": "Point"
         },
         "properties": {
          "Name": "Gymnasium Dorfen   ",
          "marker-color": "#FF0000",
          "marker-symbol": "star"
         },
         "type": "Feature"
        },
        {
         "geometry": {
          "coordinates": [
           12.5262445,
           48.2471518
          ],
          "type": "Point"
         },
         "properties": {
          "Name": "Ruperti-Gymnasium Mühldorf a.Inn   ",
          "marker-color": "#FF0000",
          "marker-symbol": "star"
         },
         "type": "Feature"
        },
        {
         "geometry": {
          "coordinates": [
           12.4112892,
           48.2039143
          ],
          "type": "Point"
         },
         "properties": {
          "Name": "Gymnasium Waldkraiburg   ",
          "marker-color": "#FF0000",
          "marker-symbol": "star"
         },
         "type": "Feature"
        },
        {
         "geometry": {
          "coordinates": [
           12.8330317,
           48.160613
          ],
          "type": "Point"
         },
         "properties": {
          "Name": "Kurfürst-Maximilian-Gymnasium Burghausen  ",
          "marker-color": "#FF0000",
          "marker-symbol": "star"
         },
         "type": "Feature"
        },
        {
         "geometry": {
          "coordinates": [
           12.8321791,
           48.17025719999999
          ],
          "type": "Point"
         },
         "properties": {
          "Name": "Aventinus-Gymnasium Burghausen   ",
          "marker-color": "#FF0000",
          "marker-symbol": "star"
         },
         "type": "Feature"
        },
        {
         "geometry": {
          "coordinates": [
           12.6795187,
           48.2276097
          ],
          "type": "Point"
         },
         "properties": {
          "Name": "Maria-Ward-Gymnasium Altötting der Maria-Ward-Schulstiftung Passau  ",
          "marker-color": "#FF0000",
          "marker-symbol": "star"
         },
         "type": "Feature"
        },
        {
         "geometry": {
          "coordinates": [
           12.6860396,
           48.2314213
          ],
          "type": "Point"
         },
         "properties": {
          "Name": "König-Karlmann-Gymnasium Altötting   ",
          "marker-color": "#FF0000",
          "marker-symbol": "star"
         },
         "type": "Feature"
        },
        {
         "geometry": {
          "coordinates": [
           11.421218,
           48.7669956
          ],
          "type": "Point"
         },
         "properties": {
          "Name": "Reuchlin-Gymnasium Ingolstadt   ",
          "marker-color": "#FF0000",
          "marker-symbol": "star"
         },
         "type": "Feature"
        },
        {
         "geometry": {
          "coordinates": [
           11.4254832,
           48.75949670000001
          ],
          "type": "Point"
         },
         "properties": {
          "Name": "Christoph-Scheiner-Gymnasium Ingolstadt  ",
          "marker-color": "#FF0000",
          "marker-symbol": "star"
         },
         "type": "Feature"
        },
        {
         "geometry": {
          "coordinates": [
           11.4175229,
           48.7655564
          ],
          "type": "Point"
         },
         "properties": {
          "Name": "Katharinen-Gymnasium Ingolstadt   ",
          "marker-color": "#FF0000",
          "marker-symbol": "star"
         },
         "type": "Feature"
        },
        {
         "geometry": {
          "coordinates": [
           11.4214101,
           48.7650877
          ],
          "type": "Point"
         },
         "properties": {
          "Name": "Gnadenthal-Gymnasium Ingolstadt der Diözese Eichstätt  ",
          "marker-color": "#FF0000",
          "marker-symbol": "star"
         },
         "type": "Feature"
        },
        {
         "geometry": {
          "coordinates": [
           11.3896705,
           48.7693962
          ],
          "type": "Point"
         },
         "properties": {
          "Name": "Montessori-Gymnasium Ingolstadt des Pädagogischen Zentrums Förderkreis + Haus Miteinander gGmb ",
          "marker-color": "#FF0000",
          "marker-symbol": "star"
         },
         "type": "Feature"
        },
        {
         "geometry": {
          "coordinates": [
           11.4228848,
           48.7441068
          ],
          "type": "Point"
         },
         "properties": {
          "Name": "Apian-Gymnasium Ingolstadt   ",
          "marker-color": "#FF0000",
          "marker-symbol": "star"
         },
         "type": "Feature"
        },
        {
         "geometry": {
          "coordinates": [
           11.3987127,
           48.77817169999999
          ],
          "type": "Point"
         },
         "properties": {
          "Name": "SIS Swiss International School Ingolstadt - Gymnasium in Träger- schaft der SIS Swiss International School gemeinnützige GmbH",
          "marker-color": "#FF0000",
          "marker-symbol": "star"
         },
         "type": "Feature"
        },
        {
         "geometry": {
          "coordinates": [
           11.1948756,
           48.887516
          ],
          "type": "Point"
         },
         "properties": {
          "Name": "Willibald-Gymnasium Eichstätt   ",
          "marker-color": "#FF0000",
          "marker-symbol": "star"
         },
         "type": "Feature"
        },
        {
         "geometry": {
          "coordinates": [
           11.1863788,
           48.89332630000001
          ],
          "type": "Point"
         },
         "properties": {
          "Name": "Gabrieli-Gymnasium Eichstätt   ",
          "marker-color": "#FF0000",
          "marker-symbol": "star"
         },
         "type": "Feature"
        },
        {
         "geometry": {
          "coordinates": [
           11.3613868,
           48.798433
          ],
          "type": "Point"
         },
         "properties": {
          "Name": "Gymnasium Gaimersheim   ",
          "marker-color": "#FF0000",
          "marker-symbol": "star"
         },
         "type": "Feature"
        },
        {
         "geometry": {
          "coordinates": [
           11.4492216,
           48.2653691
          ],
          "type": "Point"
         },
         "properties": {
          "Name": "Josef-Effner-Gymnasium Dachau   ",
          "marker-color": "#FF0000",
          "marker-symbol": "star"
         },
         "type": "Feature"
        },
        {
         "geometry": {
          "coordinates": [
           11.4477404,
           48.2569306
          ],
          "type": "Point"
         },
         "properties": {
          "Name": "Ignaz-Taschner-Gymnasium Dachau   ",
          "marker-color": "#FF0000",
          "marker-symbol": "star"
         },
         "type": "Feature"
        },
        {
         "geometry": {
          "coordinates": [
           11.3740536,
           48.352303
          ],
          "type": "Point"
         },
         "properties": {
          "Name": "Gymnasium Markt Indersdorf   ",
          "marker-color": "#FF0000",
          "marker-symbol": "star"
         },
         "type": "Feature"
        },
        {
         "geometry": {
          "coordinates": [
           11.4990545,
           48.5258079
          ],
          "type": "Point"
         },
         "properties": {
          "Name": "Schyren-Gymnasium Pfaffenhofen a.d.Ilm  ",
          "marker-color": "#FF0000",
          "marker-symbol": "star"
         },
         "type": "Feature"
        },
        {
         "geometry": {
          "coordinates": [
           11.6374533,
           48.59146260000001
          ],
          "type": "Point"
         },
         "properties": {
          "Name": "Hallertau-Gymnasium Wolnzach   ",
          "marker-color": "#FF0000",
          "marker-symbol": "star"
         },
         "type": "Feature"
        },
        {
         "geometry": {
          "coordinates": [
           11.7449997,
           48.3996419
          ],
          "type": "Point"
         },
         "properties": {
          "Name": "Dom-Gymnasium Freising   ",
          "marker-color": "#FF0000",
          "marker-symbol": "star"
         },
         "type": "Feature"
        },
        {
         "geometry": {
          "coordinates": [
           11.742794,
           48.4055605
          ],
          "type": "Point"
         },
         "properties": {
          "Name": "Josef-Hofmiller-Gymnasium Freising   ",
          "marker-color": "#FF0000",
          "marker-symbol": "star"
         },
         "type": "Feature"
        },
        {
         "geometry": {
          "coordinates": [
           11.7322888,
           48.40470759999999
          ],
          "type": "Point"
         },
         "properties": {
          "Name": "Camerloher-Gymnasium Freising   ",
          "marker-color": "#FF0000",
          "marker-symbol": "star"
         },
         "type": "Feature"
        },
        {
         "geometry": {
          "coordinates": [
           11.9354211,
           48.4751971
          ],
          "type": "Point"
         },
         "properties": {
          "Name": "Karl-Ritter-von-Frisch-Gymnasium Moosburg  ",
          "marker-color": "#FF0000",
          "marker-symbol": "star"
         },
         "type": "Feature"
        },
        {
         "geometry": {
          "coordinates": [
           11.6697763,
           48.3245752
          ],
          "type": "Point"
         },
         "properties": {
          "Name": "Oskar-Maria-Graf-Gymnasium Neufahrn b. Freising  ",
          "marker-color": "#FF0000",
          "marker-symbol": "star"
         },
         "type": "Feature"
        },
        {
         "geometry": {
          "coordinates": [
           11.9009026,
           48.2979019
          ],
          "type": "Point"
         },
         "properties": {
          "Name": "Anne-Frank-Gymnasium Erding   ",
          "marker-color": "#FF0000",
          "marker-symbol": "star"
         },
         "type": "Feature"
        },
        {
         "geometry": {
          "coordinates": [
           11.8900873,
           48.2974594
          ],
          "type": "Point"
         },
         "properties": {
          "Name": "Korbinian-Aigner-Gymnasium Erding   ",
          "marker-color": "#FF0000",
          "marker-symbol": "star"
         },
         "type": "Feature"
        },
        {
         "geometry": {
          "coordinates": [
           11.6809034,
           48.0643414
          ],
          "type": "Point"
         },
         "properties": {
          "Name": "Gymnasium Ottobrunn   ",
          "marker-color": "#FF0000",
          "marker-symbol": "star"
         },
         "type": "Feature"
        },
        {
         "geometry": {
          "coordinates": [
           11.7256858,
           48.1075031
          ],
          "type": "Point"
         },
         "properties": {
          "Name": "Ernst-Mach-Gymnasium Haar   ",
          "marker-color": "#FF0000",
          "marker-symbol": "star"
         },
         "type": "Feature"
        },
        {
         "geometry": {
          "coordinates": [
           11.7594131,
           48.1677701
          ],
          "type": "Point"
         },
         "properties": {
          "Name": "Gymnasium Kirchheim b. München   ",
          "marker-color": "#FF0000",
          "marker-symbol": "star"
         },
         "type": "Feature"
        },
        {
         "geometry": {
          "coordinates": [
           11.960809,
           48.0435037
          ],
          "type": "Point"
         },
         "properties": {
          "Name": "Max-Mannheimer-Gymnasium Grafing  ",
          "marker-color": "#FF0000",
          "marker-symbol": "star"
         },
         "type": "Feature"
        },
        {
         "geometry": {
          "coordinates": [
           11.8640107,
           48.1882343
          ],
          "type": "Point"
         },
         "properties": {
          "Name": "Franz-Marc-Gymnasium Markt Schwaben  ",
          "marker-color": "#FF0000",
          "marker-symbol": "star"
         },
         "type": "Feature"
        },
        {
         "geometry": {
          "coordinates": [
           11.6780819,
           48.0722894
          ],
          "type": "Point"
         },
         "properties": {
          "Name": "Gymnasium Neubiberg   ",
          "marker-color": "#FF0000",
          "marker-symbol": "star"
         },
         "type": "Feature"
        },
        {
         "geometry": {
          "coordinates": [
           11.7873893,
           48.1057778
          ],
          "type": "Point"
         },
         "properties": {
          "Name": "Humboldt-Gymnasium Vaterstetten in Baldham  ",
          "marker-color": "#FF0000",
          "marker-symbol": "star"
         },
         "type": "Feature"
        },
        {
         "geometry": {
          "coordinates": [
           11.8918222,
           48.0667958
          ],
          "type": "Point"
         },
         "properties": {
          "Name": "Staatliches Gymnasium Kirchseeon   ",
          "marker-color": "#FF0000",
          "marker-symbol": "star"
         },
         "type": "Feature"
        },
        {
         "geometry": {
          "coordinates": [
           11.7205428,
           48.0184147
          ],
          "type": "Point"
         },
         "properties": {
          "Name": "Gymnasium Höhenkirchen-Siegertsbrunn  ",
          "marker-color": "#FF0000",
          "marker-symbol": "star"
         },
         "type": "Feature"
        },
        {
         "geometry": {
          "coordinates": [
           11.581606,
           48.2697023
          ],
          "type": "Point"
         },
         "properties": {
          "Name": "Carl-Orff-Gymnasium Unterschleißheim  ",
          "marker-color": "#FF0000",
          "marker-symbol": "star"
         },
         "type": "Feature"
        },
        {
         "geometry": {
          "coordinates": [
           11.6803905,
           48.2216222
          ],
          "type": "Point"
         },
         "properties": {
          "Name": "Gymnasium Ismaning   ",
          "marker-color": "#FF0000",
          "marker-symbol": "star"
         },
         "type": "Feature"
        },
        {
         "geometry": {
          "coordinates": [
           11.658951,
           48.244446
          ],
          "type": "Point"
         },
         "properties": {
          "Name": "Werner-Heisenberg-Gymnasium Garching  ",
          "marker-color": "#FF0000",
          "marker-symbol": "star"
         },
         "type": "Feature"
        },
        {
         "geometry": {
          "coordinates": [
           11.6485304,
           48.18621599999999
          ],
          "type": "Point"
         },
         "properties": {
          "Name": "Gymnasium Unterföhring   ",
          "marker-color": "#FF0000",
          "marker-symbol": "star"
         },
         "type": "Feature"
        },
        {
         "geometry": {
          "coordinates": [
           10.8973761,
           48.3649814
          ],
          "type": "Point"
         },
         "properties": {
          "Name": "Holbein-Gymnasium Augsburg   ",
          "marker-color": "#FF0000",
          "marker-symbol": "star"
         },
         "type": "Feature"
        },
        {
         "geometry": {
          "coordinates": [
           10.8899518,
           48.3691993
          ],
          "type": "Point"
         },
         "properties": {
          "Name": "Städtisches Maria-Theresia- Gymnasium Augsburg  ",
          "marker-color": "#FF0000",
          "marker-symbol": "star"
         },
         "type": "Feature"
        },
        {
         "geometry": {
          "coordinates": [
           10.8989801,
           48.37637910000001
          ],
          "type": "Point"
         },
         "properties": {
          "Name": "Gymnasium bei St.Stephan Augsburg   ",
          "marker-color": "#FF0000",
          "marker-symbol": "star"
         },
         "type": "Feature"
        },
        {
         "geometry": {
          "coordinates": [
           10.8882591,
           48.3725485
          ],
          "type": "Point"
         },
         "properties": {
          "Name": "Peutinger-Gymnasium Augsburg   ",
          "marker-color": "#FF0000",
          "marker-symbol": "star"
         },
         "type": "Feature"
        },
        {
         "geometry": {
          "coordinates": [
           10.8845006,
           48.3709815
          ],
          "type": "Point"
         },
         "properties": {
          "Name": "Städtisches Jakob-Fugger-Gymnasium Augsburg  ",
          "marker-color": "#FF0000",
          "marker-symbol": "star"
         },
         "type": "Feature"
        },
        {
         "geometry": {
          "coordinates": [
           10.896828,
           48.3749881
          ],
          "type": "Point"
         },
         "properties": {
          "Name": "Maria-Ward-Gymnasium Augsburg d. Schulwerks d. Diözese Augsburg  ",
          "marker-color": "#FF0000",
          "marker-symbol": "star"
         },
         "type": "Feature"
        },
        {
         "geometry": {
          "coordinates": [
           10.8884245,
           48.3741746
          ],
          "type": "Point"
         },
         "properties": {
          "Name": "A.B. von Stettensches Institut Augsburg -Gymnasium-  ",
          "marker-color": "#FF0000",
          "marker-symbol": "star"
         },
         "type": "Feature"
        },
        {
         "geometry": {
          "coordinates": [
           10.8872963,
           48.3549477
          ],
          "type": "Point"
         },
         "properties": {
          "Name": "Gymnasium bei St.Anna Augsburg   ",
          "marker-color": "#FF0000",
          "marker-symbol": "star"
         },
         "type": "Feature"
        },
        {
         "geometry": {
          "coordinates": [
           10.950322,
           48.3536085
          ],
          "type": "Point"
         },
         "properties": {
          "Name": "Rudolf-Diesel-Gymnasium Augsburg   ",
          "marker-color": "#FF0000",
          "marker-symbol": "star"
         },
         "type": "Feature"
        },
        {
         "geometry": {
          "coordinates": [
           10.87422,
           48.3454772
          ],
          "type": "Point"
         },
         "properties": {
          "Name": "Gymnasium Maria Stern Augsburg des Schulwerks der Diözese Augsburg  ",
          "marker-color": "#FF0000",
          "marker-symbol": "star"
         },
         "type": "Feature"
        },
        {
         "geometry": {
          "coordinates": [
           10.9895105,
           48.3616544
          ],
          "type": "Point"
         },
         "properties": {
          "Name": "Staatliches Gymnasium Friedberg  ",
          "marker-color": "#FF0000",
          "marker-symbol": "star"
         },
         "type": "Feature"
        },
        {
         "geometry": {
          "coordinates": [
           10.8835218,
           48.2694596
          ],
          "type": "Point"
         },
         "properties": {
          "Name": "Gymnasium Königsbrunn   ",
          "marker-color": "#FF0000",
          "marker-symbol": "star"
         },
         "type": "Feature"
        },
        {
         "geometry": {
          "coordinates": [
           10.8361224,
           48.397158
          ],
          "type": "Point"
         },
         "properties": {
          "Name": "Justus-von-Liebig-Gymnasium Neusäß   ",
          "marker-color": "#FF0000",
          "marker-symbol": "star"
         },
         "type": "Feature"
        },
        {
         "geometry": {
          "coordinates": [
           10.875124,
           48.4180594
          ],
          "type": "Point"
         },
         "properties": {
          "Name": "Paul-Klee-Gymnasium Gersthofen   ",
          "marker-color": "#FF0000",
          "marker-symbol": "star"
         },
         "type": "Feature"
        },
        {
         "geometry": {
          "coordinates": [
           10.3561474,
           48.2439964
          ],
          "type": "Point"
         },
         "properties": {
          "Name": "Simpert-Kraemer-Gymnasium Krumbach   ",
          "marker-color": "#FF0000",
          "marker-symbol": "star"
         },
         "type": "Feature"
        },
        {
         "geometry": {
          "coordinates": [
           10.9759889,
           48.2641409
          ],
          "type": "Point"
         },
         "properties": {
          "Name": "Staatl. Gymnasium Mering   ",
          "marker-color": "#FF0000",
          "marker-symbol": "star"
         },
         "type": "Feature"
        },
        {
         "geometry": {
          "coordinates": [
           10.7601848,
           48.3657937
          ],
          "type": "Point"
         },
         "properties": {
          "Name": "Schmuttertal-Gymnasium Diedorf   ",
          "marker-color": "#FF0000",
          "marker-symbol": "star"
         },
         "type": "Feature"
        },
        {
         "geometry": {
          "coordinates": [
           10.44573,
           48.26623000000001
          ],
          "type": "Point"
         },
         "properties": {
          "Name": "Ringeisen-Gymnasium der St. Josefskongregation Ursberg  ",
          "marker-color": "#FF0000",
          "marker-symbol": "star"
         },
         "type": "Feature"
        },
        {
         "geometry": {
          "coordinates": [
           11.2717117,
           48.55810460000001
          ],
          "type": "Point"
         },
         "properties": {
          "Name": "Gymnasium Schrobenhausen   ",
          "marker-color": "#FF0000",
          "marker-symbol": "star"
         },
         "type": "Feature"
        },
        {
         "geometry": {
          "coordinates": [
           11.1452453,
           48.4592874
          ],
          "type": "Point"
         },
         "properties": {
          "Name": "Deutschherren-Gymnasium Aichach   ",
          "marker-color": "#FF0000",
          "marker-symbol": "star"
         },
         "type": "Feature"
        },
        {
         "geometry": {
          "coordinates": [
           10.7765588,
           48.7270948
          ],
          "type": "Point"
         },
         "properties": {
          "Name": "Gymnasium Donauwörth   ",
          "marker-color": "#FF0000",
          "marker-symbol": "star"
         },
         "type": "Feature"
        },
        {
         "geometry": {
          "coordinates": [
           11.1755695,
           48.7357077
          ],
          "type": "Point"
         },
         "properties": {
          "Name": "Descartes-Gymnasium Neuburg a.d.Donau  ",
          "marker-color": "#FF0000",
          "marker-symbol": "star"
         },
         "type": "Feature"
        },
        {
         "geometry": {
          "coordinates": [
           10.6823889,
           48.5650408
          ],
          "type": "Point"
         },
         "properties": {
          "Name": "Gymnasium Wertingen   ",
          "marker-color": "#FF0000",
          "marker-symbol": "star"
         },
         "type": "Feature"
        },
        {
         "geometry": {
          "coordinates": [
           10.4971161,
           48.8438655
          ],
          "type": "Point"
         },
         "properties": {
          "Name": "Theodor-Heuss-Gymnasium Nördlingen   ",
          "marker-color": "#FF0000",
          "marker-symbol": "star"
         },
         "type": "Feature"
        },
        {
         "geometry": {
          "coordinates": [
           10.5973048,
           48.9529357
          ],
          "type": "Point"
         },
         "properties": {
          "Name": "Albrecht-Ernst-Gymnasium Oettingen   ",
          "marker-color": "#FF0000",
          "marker-symbol": "star"
         },
         "type": "Feature"
        },
        {
         "geometry": {
          "coordinates": [
           10.7258683,
           48.028275
          ],
          "type": "Point"
         },
         "properties": {
          "Name": "Gymnasium Buchloe   ",
          "marker-color": "#FF0000",
          "marker-symbol": "star"
         },
         "type": "Feature"
        },
        {
         "geometry": {
          "coordinates": [
           10.7680251,
           48.1843115
          ],
          "type": "Point"
         },
         "properties": {
          "Name": "Leonhard-Wagner-Gymnasium Schwabmünchen  ",
          "marker-color": "#FF0000",
          "marker-symbol": "star"
         },
         "type": "Feature"
        },
        {
         "geometry": {
          "coordinates": [
           10.6392416,
           48.0504206
          ],
          "type": "Point"
         },
         "properties": {
          "Name": "Joseph-Bernhart-Gymnasium Türkheim   ",
          "marker-color": "#FF0000",
          "marker-symbol": "star"
         },
         "type": "Feature"
        },
        {
         "geometry": {
          "coordinates": [
           10.8620265,
           48.0518795
          ],
          "type": "Point"
         },
         "properties": {
          "Name": "Dominikus-Zimmermann-Gymnasium Landsberg am Lech  ",
          "marker-color": "#FF0000",
          "marker-symbol": "star"
         },
         "type": "Feature"
        },
        {
         "geometry": {
          "coordinates": [
           10.8737321,
           48.0521338
          ],
          "type": "Point"
         },
         "properties": {
          "Name": "Ignaz-Kögler-Gymnasium Landsberg am Lech  ",
          "marker-color": "#FF0000",
          "marker-symbol": "star"
         },
         "type": "Feature"
        },
        {
         "geometry": {
          "coordinates": [
           11.1032012,
           47.9633321
          ],
          "type": "Point"
         },
         "properties": {
          "Name": "Ammersee-Gymnasium Dießen   ",
          "marker-color": "#FF0000",
          "marker-symbol": "star"
         },
         "type": "Feature"
        },
        {
         "geometry": {
          "coordinates": [
           11.0973653,
           48.0550125
          ],
          "type": "Point"
         },
         "properties": {
          "Name": "Ernst-Reisinger-Schule Schondorf staatl. anerk. Gymnasium mit neusprachl., wirtschafts- und sozialwissenschaftl. Zweig",
          "marker-color": "#FF0000",
          "marker-symbol": "star"
         },
         "type": "Feature"
        },
        {
         "geometry": {
          "coordinates": [
           11.0973653,
           48.0550125
          ],
          "type": "Point"
         },
         "properties": {
          "Name": "Julius-Lohmann-Gymnasium Schondorf Staatl. genehmigt (wirtschafts- u. sozialwiss. Ausbildungsrichtung)",
          "marker-color": "#FF0000",
          "marker-symbol": "star"
         },
         "type": "Feature"
        },
        {
         "geometry": {
          "coordinates": [
           11.0432218,
           48.0953261
          ],
          "type": "Point"
         },
         "properties": {
          "Name": "Rhabanus-Maurus-Gymnasium Sankt Ottilien des Schulwerks der Diözese Augsburg ",
          "marker-color": "#FF0000",
          "marker-symbol": "star"
         },
         "type": "Feature"
        },
        {
         "geometry": {
          "coordinates": [
           10.8932341,
           47.8087761
          ],
          "type": "Point"
         },
         "properties": {
          "Name": "Welfen-Gymnasium Schongau   ",
          "marker-color": "#FF0000",
          "marker-symbol": "star"
         },
         "type": "Feature"
        },
        {
         "geometry": {
          "coordinates": [
           10.3067352,
           47.7152556
          ],
          "type": "Point"
         },
         "properties": {
          "Name": "Allgäu-Gymnasium Kempten   ",
          "marker-color": "#FF0000",
          "marker-symbol": "star"
         },
         "type": "Feature"
        },
        {
         "geometry": {
          "coordinates": [
           10.3031964,
           47.72786869999999
          ],
          "type": "Point"
         },
         "properties": {
          "Name": "Carl-von-Linde-Gymnasium Kempten   ",
          "marker-color": "#FF0000",
          "marker-symbol": "star"
         },
         "type": "Feature"
        },
        {
         "geometry": {
          "coordinates": [
           10.30519,
           47.72237
          ],
          "type": "Point"
         },
         "properties": {
          "Name": "Hildegardis-Gymnasium Kempten   ",
          "marker-color": "#FF0000",
          "marker-symbol": "star"
         },
         "type": "Feature"
        },
        {
         "geometry": {
          "coordinates": [
           10.2262635,
           47.5589744
          ],
          "type": "Point"
         },
         "properties": {
          "Name": "Gymnasium Immenstadt   ",
          "marker-color": "#FF0000",
          "marker-symbol": "star"
         },
         "type": "Feature"
        },
        {
         "geometry": {
          "coordinates": [
           10.26942,
           47.51233999999999
          ],
          "type": "Point"
         },
         "properties": {
          "Name": "Gymnasium Sonthofen   ",
          "marker-color": "#FF0000",
          "marker-symbol": "star"
         },
         "type": "Feature"
        },
        {
         "geometry": {
          "coordinates": [
           10.2755934,
           47.4183361
          ],
          "type": "Point"
         },
         "properties": {
          "Name": "Gertrud-von-le-Fort-Gymnasium Oberstdorf  ",
          "marker-color": "#FF0000",
          "marker-symbol": "star"
         },
         "type": "Feature"
        },
        {
         "geometry": {
          "coordinates": [
           10.62555,
           47.88346000000001
          ],
          "type": "Point"
         },
         "properties": {
          "Name": "Jakob-Brucker-Gymnasium Kaufbeuren   ",
          "marker-color": "#FF0000",
          "marker-symbol": "star"
         },
         "type": "Feature"
        },
        {
         "geometry": {
          "coordinates": [
           10.6113108,
           47.88177839999999
          ],
          "type": "Point"
         },
         "properties": {
          "Name": "Marien-Gymnasium Kaufbeuren d. Schulwerks d. Diözese Augsburg  ",
          "marker-color": "#FF0000",
          "marker-symbol": "star"
         },
         "type": "Feature"
        },
        {
         "geometry": {
          "coordinates": [
           10.6105168,
           47.7725253
          ],
          "type": "Point"
         },
         "properties": {
          "Name": "Gymnasium Marktoberdorf   ",
          "marker-color": "#FF0000",
          "marker-symbol": "star"
         },
         "type": "Feature"
        },
        {
         "geometry": {
          "coordinates": [
           10.7017794,
           47.57433049999999
          ],
          "type": "Point"
         },
         "properties": {
          "Name": "Gymnasium Füssen   ",
          "marker-color": "#FF0000",
          "marker-symbol": "star"
         },
         "type": "Feature"
        },
        {
         "geometry": {
          "coordinates": [
           10.7429005,
           47.5586128
          ],
          "type": "Point"
         },
         "properties": {
          "Name": "Gymnasium Hohenschwangau   ",
          "marker-color": "#FF0000",
          "marker-symbol": "star"
         },
         "type": "Feature"
        },
        {
         "geometry": {
          "coordinates": [
           10.1720842,
           47.9901674
          ],
          "type": "Point"
         },
         "properties": {
          "Name": "Bernhard-Strigel-Gymnasium Memmingen  ",
          "marker-color": "#FF0000",
          "marker-symbol": "star"
         },
         "type": "Feature"
        },
        {
         "geometry": {
          "coordinates": [
           10.1787478,
           47.98054399999999
          ],
          "type": "Point"
         },
         "properties": {
          "Name": "Vöhlin-Gymnasium Memmingen   ",
          "marker-color": "#FF0000",
          "marker-symbol": "star"
         },
         "type": "Feature"
        },
        {
         "geometry": {
          "coordinates": [
           10.4900217,
           48.0377468
          ],
          "type": "Point"
         },
         "properties": {
          "Name": "Maristenkolleg Mindelheim - Gymnasium - des Schulwerks der Diözese Augsburg ",
          "marker-color": "#FF0000",
          "marker-symbol": "star"
         },
         "type": "Feature"
        },
        {
         "geometry": {
          "coordinates": [
           10.297,
           47.94649
          ],
          "type": "Point"
         },
         "properties": {
          "Name": "Rupert-Ness-Gymnasium Ottobeuren  ",
          "marker-color": "#FF0000",
          "marker-symbol": "star"
         },
         "type": "Feature"
        },
        {
         "geometry": {
          "coordinates": [
           10.1327328,
           47.99832319999999
          ],
          "type": "Point"
         },
         "properties": {
          "Name": "Marianum Buxheim Gymnasium des Schulwerks der Diözese Augsburg ",
          "marker-color": "#FF0000",
          "marker-symbol": "star"
         },
         "type": "Feature"
        },
        {
         "geometry": {
          "coordinates": [
           9.6959768,
           47.5586559
          ],
          "type": "Point"
         },
         "properties": {
          "Name": "Bodensee-Gymnasium Lindau   ",
          "marker-color": "#FF0000",
          "marker-symbol": "star"
         },
         "type": "Feature"
        },
        {
         "geometry": {
          "coordinates": [
           9.6945578,
           47.5620692
          ],
          "type": "Point"
         },
         "properties": {
          "Name": "Valentin-Heider-Gymnasium Lindau   ",
          "marker-color": "#FF0000",
          "marker-symbol": "star"
         },
         "type": "Feature"
        },
        {
         "geometry": {
          "coordinates": [
           9.882540400000002,
           47.6010339
          ],
          "type": "Point"
         },
         "properties": {
          "Name": "Gymnasium Lindenberg i.Allgäu   ",
          "marker-color": "#FF0000",
          "marker-symbol": "star"
         },
         "type": "Feature"
        },
        {
         "geometry": {
          "coordinates": [
           10.007509,
           48.3989431
          ],
          "type": "Point"
         },
         "properties": {
          "Name": "Lessing-Gymnasium Neu-Ulm   ",
          "marker-color": "#FF0000",
          "marker-symbol": "star"
         },
         "type": "Feature"
        },
        {
         "geometry": {
          "coordinates": [
           10.0523944,
           48.4135491
          ],
          "type": "Point"
         },
         "properties": {
          "Name": "Bertha-von-Suttner-Gymnasium Neu-Ulm  ",
          "marker-color": "#FF0000",
          "marker-symbol": "star"
         },
         "type": "Feature"
        },
        {
         "geometry": {
          "coordinates": [
           10.0916299,
           48.2155138
          ],
          "type": "Point"
         },
         "properties": {
          "Name": "Kolleg der Schulbrüder Illertissen - Gymnasium - des Schulwerks der Diözese Augsburg ",
          "marker-color": "#FF0000",
          "marker-symbol": "star"
         },
         "type": "Feature"
        },
        {
         "geometry": {
          "coordinates": [
           10.1741677,
           48.3026754
          ],
          "type": "Point"
         },
         "properties": {
          "Name": "Nikolaus-Kopernikus-Gymnasium Weißenhorn  ",
          "marker-color": "#FF0000",
          "marker-symbol": "star"
         },
         "type": "Feature"
        },
        {
         "geometry": {
          "coordinates": [
           10.0532148,
           48.3031114
          ],
          "type": "Point"
         },
         "properties": {
          "Name": "Illertal-Gymnasium Vöhringen   ",
          "marker-color": "#FF0000",
          "marker-symbol": "star"
         },
         "type": "Feature"
        },
        {
         "geometry": {
          "coordinates": [
           10.2824851,
           48.4477614
          ],
          "type": "Point"
         },
         "properties": {
          "Name": "Dossenberger-Gymnasium Günzburg   ",
          "marker-color": "#FF0000",
          "marker-symbol": "star"
         },
         "type": "Feature"
        },
        {
         "geometry": {
          "coordinates": [
           10.27637,
           48.4565
          ],
          "type": "Point"
         },
         "properties": {
          "Name": "Maria-Ward-Gymnasium Günzburg d. Schulwerks d. Diözese Augsburg  ",
          "marker-color": "#FF0000",
          "marker-symbol": "star"
         },
         "type": "Feature"
        },
        {
         "geometry": {
          "coordinates": [
           10.4457771,
           48.4097565
          ],
          "type": "Point"
         },
         "properties": {
          "Name": "Mindeltal-Gymnasium Jettingen-Scheppach der Vision Privatschulen gGmbH ",
          "marker-color": "#FF0000",
          "marker-symbol": "star"
         },
         "type": "Feature"
        },
        {
         "geometry": {
          "coordinates": [
           10.3615677,
           48.398005
          ],
          "type": "Point"
         },
         "properties": {
          "Name": "St.-Thomas-Gymnasium Wettenhausen d. Schulwerks d. Diözese Augsburg  ",
          "marker-color": "#FF0000",
          "marker-symbol": "star"
         },
         "type": "Feature"
        },
        {
         "geometry": {
          "coordinates": [
           10.48699,
           48.57709
          ],
          "type": "Point"
         },
         "properties": {
          "Name": "Johann-Michael-Sailer-Gymnasium Dillingen  ",
          "marker-color": "#FF0000",
          "marker-symbol": "star"
         },
         "type": "Feature"
        },
        {
         "geometry": {
          "coordinates": [
           10.4942522,
           48.57878969999999
          ],
          "type": "Point"
         },
         "properties": {
          "Name": "St.-Bonaventura-Gymnasium Dillingen des Schulwerks der Diözese Augsburg  ",
          "marker-color": "#FF0000",
          "marker-symbol": "star"
         },
         "type": "Feature"
        },
        {
         "geometry": {
          "coordinates": [
           10.4304967,
           48.5726337
          ],
          "type": "Point"
         },
         "properties": {
          "Name": "Albertus-Gymnasium Lauingen   ",
          "marker-color": "#FF0000",
          "marker-symbol": "star"
         },
         "type": "Feature"
        },
        {
         "geometry": {
          "coordinates": [
           11.08339,
           49.45659
          ],
          "type": "Point"
         },
         "properties": {
          "Name": "Willstätter-Gymnasium Nürnberg   ",
          "marker-color": "#FF0000",
          "marker-symbol": "star"
         },
         "type": "Feature"
        },
        {
         "geometry": {
          "coordinates": [
           11.0810344,
           49.457634
          ],
          "type": "Point"
         },
         "properties": {
          "Name": "Städtisches Johannes-Scharrer- Gymnasium Nürnberg  ",
          "marker-color": "#FF0000",
          "marker-symbol": "star"
         },
         "type": "Feature"
        },
        {
         "geometry": {
          "coordinates": [
           11.0852374,
           49.4626154
          ],
          "type": "Point"
         },
         "properties": {
          "Name": "Hans-Sachs-Gymnasium Nürnberg   ",
          "marker-color": "#FF0000",
          "marker-symbol": "star"
         },
         "type": "Feature"
        },
        {
         "geometry": {
          "coordinates": [
           11.0845915,
           49.4601849
          ],
          "type": "Point"
         },
         "properties": {
          "Name": "Städtisches Labenwolf-Gymnasium Nürnberg  ",
          "marker-color": "#FF0000",
          "marker-symbol": "star"
         },
         "type": "Feature"
        },
        {
         "geometry": {
          "coordinates": [
           11.0670903,
           49.46513419999999
          ],
          "type": "Point"
         },
         "properties": {
          "Name": "Städtische Peter-Vischer-Schule Nürnberg -Gymnasium-  ",
          "marker-color": "#FF0000",
          "marker-symbol": "star"
         },
         "type": "Feature"
        },
        {
         "geometry": {
          "coordinates": [
           11.0171353,
           49.4703111
          ],
          "type": "Point"
         },
         "properties": {
          "Name": "Jenaplan-Gymnasium Nürnberg der Jenaplan-Gymnasium Nürnberg gemeinnützige eG ",
          "marker-color": "#FF0000",
          "marker-symbol": "star"
         },
         "type": "Feature"
        },
        {
         "geometry": {
          "coordinates": [
           11.051194,
           49.4553694
          ],
          "type": "Point"
         },
         "properties": {
          "Name": "Dürer-Gymnasium Nürnberg   ",
          "marker-color": "#FF0000",
          "marker-symbol": "star"
         },
         "type": "Feature"
        },
        {
         "geometry": {
          "coordinates": [
           11.0637136,
           49.4547928
          ],
          "type": "Point"
         },
         "properties": {
          "Name": "Wilhelm-Löhe-Schule Nürnberg Evang. kooperative Gesamtschule -Gymnasium- ",
          "marker-color": "#FF0000",
          "marker-symbol": "star"
         },
         "type": "Feature"
        },
        {
         "geometry": {
          "coordinates": [
           11.0673162,
           49.4313041
          ],
          "type": "Point"
         },
         "properties": {
          "Name": "Pirckheimer-Gymnasium Nürnberg   ",
          "marker-color": "#FF0000",
          "marker-symbol": "star"
         },
         "type": "Feature"
        },
        {
         "geometry": {
          "coordinates": [
           11.0684061,
           49.4323844
          ],
          "type": "Point"
         },
         "properties": {
          "Name": "Städtisches Sigena-Gymnasium Nürnberg  ",
          "marker-color": "#FF0000",
          "marker-symbol": "star"
         },
         "type": "Feature"
        },
        {
         "geometry": {
          "coordinates": [
           11.0445815,
           49.4122433
          ],
          "type": "Point"
         },
         "properties": {
          "Name": "Sigmund-Schuckert-Gymnasium Nürnberg  ",
          "marker-color": "#FF0000",
          "marker-symbol": "star"
         },
         "type": "Feature"
        },
        {
         "geometry": {
          "coordinates": [
           11.0853526,
           49.4438354
          ],
          "type": "Point"
         },
         "properties": {
          "Name": "Priv. wirtschafts- und sozialwiss. SABEL Gymnasium Nürnberg der Sabel Schulen Nürnberg gGmbH, staatlich genehmigt",
          "marker-color": "#FF0000",
          "marker-symbol": "star"
         },
         "type": "Feature"
        },
        {
         "geometry": {
          "coordinates": [
           11.1254976,
           49.4146156
          ],
          "type": "Point"
         },
         "properties": {
          "Name": "Martin-Behaim-Gymnasium Nürnberg   ",
          "marker-color": "#FF0000",
          "marker-symbol": "star"
         },
         "type": "Feature"
        },
        {
         "geometry": {
          "coordinates": [
           11.1254382,
           49.41779589999999
          ],
          "type": "Point"
         },
         "properties": {
          "Name": "Städtische Bertolt-Brecht-Schule Nürnberg -Gymnasium-  ",
          "marker-color": "#FF0000",
          "marker-symbol": "star"
         },
         "type": "Feature"
        },
        {
         "geometry": {
          "coordinates": [
           11.1073073,
           49.4387267
          ],
          "type": "Point"
         },
         "properties": {
          "Name": "Neues Gymnasium Nürnberg   ",
          "marker-color": "#FF0000",
          "marker-symbol": "star"
         },
         "type": "Feature"
        },
        {
         "geometry": {
          "coordinates": [
           11.0941417,
           49.458054
          ],
          "type": "Point"
         },
         "properties": {
          "Name": "Melanchthon-Gymnasium Nürnberg   ",
          "marker-color": "#FF0000",
          "marker-symbol": "star"
         },
         "type": "Feature"
        },
        {
         "geometry": {
          "coordinates": [
           11.0900317,
           49.4528431
          ],
          "type": "Point"
         },
         "properties": {
          "Name": "Maria-Ward-Gymnasium Nürnberg der Erzdiözese Bamberg  ",
          "marker-color": "#FF0000",
          "marker-symbol": "star"
         },
         "type": "Feature"
        },
        {
         "geometry": {
          "coordinates": [
           11.3437844,
           49.38869099999999
          ],
          "type": "Point"
         },
         "properties": {
          "Name": "Leibniz-Gymnasium Altdorf   ",
          "marker-color": "#FF0000",
          "marker-symbol": "star"
         },
         "type": "Feature"
        },
        {
         "geometry": {
          "coordinates": [
           10.9639444,
           49.4331682
          ],
          "type": "Point"
         },
         "properties": {
          "Name": "Dietrich-Bonhoeffer-Gymnasium Oberasbach  ",
          "marker-color": "#FF0000",
          "marker-symbol": "star"
         },
         "type": "Feature"
        },
        {
         "geometry": {
          "coordinates": [
           11.1579599,
           49.3467884
          ],
          "type": "Point"
         },
         "properties": {
          "Name": "Staatl. Gymnasium Wendelstein   ",
          "marker-color": "#FF0000",
          "marker-symbol": "star"
         },
         "type": "Feature"
        },
        {
         "geometry": {
          "coordinates": [
           11.198271,
           49.5770121
          ],
          "type": "Point"
         },
         "properties": {
          "Name": "Gymnasium Eckental   ",
          "marker-color": "#FF0000",
          "marker-symbol": "star"
         },
         "type": "Feature"
        },
        {
         "geometry": {
          "coordinates": [
           11.0079574,
           49.4049291
          ],
          "type": "Point"
         },
         "properties": {
          "Name": "Gymnasium Stein   ",
          "marker-color": "#FF0000",
          "marker-symbol": "star"
         },
         "type": "Feature"
        },
        {
         "geometry": {
          "coordinates": [
           11.25181,
           49.48104000000001
          ],
          "type": "Point"
         },
         "properties": {
          "Name": "Geschwister-Scholl-Gymnasium Röthenbach a.d.Pegnitz  ",
          "marker-color": "#FF0000",
          "marker-symbol": "star"
         },
         "type": "Feature"
        },
        {
         "geometry": {
          "coordinates": [
           10.7794148,
           49.4920725
          ],
          "type": "Point"
         },
         "properties": {
          "Name": "Wolfgang-Borchert-Gymnasium Langenzenn  ",
          "marker-color": "#FF0000",
          "marker-symbol": "star"
         },
         "type": "Feature"
        },
        {
         "geometry": {
          "coordinates": [
           10.9915648,
           49.47614480000001
          ],
          "type": "Point"
         },
         "properties": {
          "Name": "Heinrich-Schliemann-Gymnasium Fürth  ",
          "marker-color": "#FF0000",
          "marker-symbol": "star"
         },
         "type": "Feature"
        },
        {
         "geometry": {
          "coordinates": [
           11.0020066,
           49.471388
          ],
          "type": "Point"
         },
         "properties": {
          "Name": "Helene-Lange-Gymnasium Fürth   ",
          "marker-color": "#FF0000",
          "marker-symbol": "star"
         },
         "type": "Feature"
        },
        {
         "geometry": {
          "coordinates": [
           10.994751,
           49.4637766
          ],
          "type": "Point"
         },
         "properties": {
          "Name": "Hardenberg-Gymnasium Fürth   ",
          "marker-color": "#FF0000",
          "marker-symbol": "star"
         },
         "type": "Feature"
        },
        {
         "geometry": {
          "coordinates": [
           11.0120432,
           49.5850307
          ],
          "type": "Point"
         },
         "properties": {
          "Name": "Ohm-Gymnasium Erlangen   ",
          "marker-color": "#FF0000",
          "marker-symbol": "star"
         },
         "type": "Feature"
        },
        {
         "geometry": {
          "coordinates": [
           11.0098148,
           49.5947538
          ],
          "type": "Point"
         },
         "properties": {
          "Name": "Christian-Ernst-Gymnasium Erlangen   ",
          "marker-color": "#FF0000",
          "marker-symbol": "star"
         },
         "type": "Feature"
        },
        {
         "geometry": {
          "coordinates": [
           11.0170836,
           49.5988913
          ],
          "type": "Point"
         },
         "properties": {
          "Name": "Städtisches Marie-Therese- Gymnasium Erlangen  ",
          "marker-color": "#FF0000",
          "marker-symbol": "star"
         },
         "type": "Feature"
        },
        {
         "geometry": {
          "coordinates": [
           10.9763909,
           49.6007389
          ],
          "type": "Point"
         },
         "properties": {
          "Name": "Albert-Schweitzer-Gymnasium Erlangen  ",
          "marker-color": "#FF0000",
          "marker-symbol": "star"
         },
         "type": "Feature"
        },
        {
         "geometry": {
          "coordinates": [
           11.002098,
           49.56107189999999
          ],
          "type": "Point"
         },
         "properties": {
          "Name": "Emmy-Noether-Gymnasium Erlangen   ",
          "marker-color": "#FF0000",
          "marker-symbol": "star"
         },
         "type": "Feature"
        },
        {
         "geometry": {
          "coordinates": [
           11.0256964,
           49.5823082
          ],
          "type": "Point"
         },
         "properties": {
          "Name": "Gymnasium Fridericianum Erlangen   ",
          "marker-color": "#FF0000",
          "marker-symbol": "star"
         },
         "type": "Feature"
        },
        {
         "geometry": {
          "coordinates": [
           10.8769356,
           49.5613979
          ],
          "type": "Point"
         },
         "properties": {
          "Name": "Gymnasium Herzogenaurach   ",
          "marker-color": "#FF0000",
          "marker-symbol": "star"
         },
         "type": "Feature"
        },
        {
         "geometry": {
          "coordinates": [
           11.0532826,
           49.60068649999999
          ],
          "type": "Point"
         },
         "properties": {
          "Name": "Emil-von-Behring-Gymnasium Spardorf   ",
          "marker-color": "#FF0000",
          "marker-symbol": "star"
         },
         "type": "Feature"
        },
        {
         "geometry": {
          "coordinates": [
           11.0195957,
           49.3265384
          ],
          "type": "Point"
         },
         "properties": {
          "Name": "Adam-Kraft-Gymnasium Schwabach   ",
          "marker-color": "#FF0000",
          "marker-symbol": "star"
         },
         "type": "Feature"
        },
        {
         "geometry": {
          "coordinates": [
           11.0233467,
           49.3185165
          ],
          "type": "Point"
         },
         "properties": {
          "Name": "Wolfram-von-Eschenbach-Gymnasium Schwabach  ",
          "marker-color": "#FF0000",
          "marker-symbol": "star"
         },
         "type": "Feature"
        },
        {
         "geometry": {
          "coordinates": [
           11.0939704,
           49.2361401
          ],
          "type": "Point"
         },
         "properties": {
          "Name": "Gymnasium Roth   ",
          "marker-color": "#FF0000",
          "marker-symbol": "star"
         },
         "type": "Feature"
        },
        {
         "geometry": {
          "coordinates": [
           11.1980678,
           49.1843844
          ],
          "type": "Point"
         },
         "properties": {
          "Name": "Gymnasium Hilpoltstein   ",
          "marker-color": "#FF0000",
          "marker-symbol": "star"
         },
         "type": "Feature"
        },
        {
         "geometry": {
          "coordinates": [
           11.2700631,
           49.5169676
          ],
          "type": "Point"
         },
         "properties": {
          "Name": "Christoph-Jacob-Treu-Gymnasium Lauf a.d.Pegnitz  ",
          "marker-color": "#FF0000",
          "marker-symbol": "star"
         },
         "type": "Feature"
        },
        {
         "geometry": {
          "coordinates": [
           11.4357449,
           49.5111724
          ],
          "type": "Point"
         },
         "properties": {
          "Name": "Paul-Pfinzing-Gymnasium Hersbruck   ",
          "marker-color": "#FF0000",
          "marker-symbol": "star"
         },
         "type": "Feature"
        },
        {
         "geometry": {
          "coordinates": [
           11.5316068,
           49.7525056
          ],
          "type": "Point"
         },
         "properties": {
          "Name": "Gymnasium Pegnitz   ",
          "marker-color": "#FF0000",
          "marker-symbol": "star"
         },
         "type": "Feature"
        },
        {
         "geometry": {
          "coordinates": [
           11.0585625,
           49.7161459
          ],
          "type": "Point"
         },
         "properties": {
          "Name": "Herder-Gymnasium Forchheim   ",
          "marker-color": "#FF0000",
          "marker-symbol": "star"
         },
         "type": "Feature"
        },
        {
         "geometry": {
          "coordinates": [
           11.0562561,
           49.71457119999999
          ],
          "type": "Point"
         },
         "properties": {
          "Name": "Ehrenbürg-Gymnasium Forchheim   ",
          "marker-color": "#FF0000",
          "marker-symbol": "star"
         },
         "type": "Feature"
        },
        {
         "geometry": {
          "coordinates": [
           10.8086231,
           49.710874
          ],
          "type": "Point"
         },
         "properties": {
          "Name": "Gymnasium Höchstadt a.d.Aisch   ",
          "marker-color": "#FF0000",
          "marker-symbol": "star"
         },
         "type": "Feature"
        },
        {
         "geometry": {
          "coordinates": [
           11.1785182,
           49.78338429999999
          ],
          "type": "Point"
         },
         "properties": {
          "Name": "Gymnasium Fränkische Schweiz Ebermannstadt  ",
          "marker-color": "#FF0000",
          "marker-symbol": "star"
         },
         "type": "Feature"
        },
        {
         "geometry": {
          "coordinates": [
           10.6128934,
           49.5733475
          ],
          "type": "Point"
         },
         "properties": {
          "Name": "Friedrich-Alexander-Gymnasium Neustadt a.d. Aisch  ",
          "marker-color": "#FF0000",
          "marker-symbol": "star"
         },
         "type": "Feature"
        },
        {
         "geometry": {
          "coordinates": [
           10.4233365,
           49.5018349
          ],
          "type": "Point"
         },
         "properties": {
          "Name": "Georg-Wilhelm-Steller-Gymnasium Bad Windsheim  ",
          "marker-color": "#FF0000",
          "marker-symbol": "star"
         },
         "type": "Feature"
        },
        {
         "geometry": {
          "coordinates": [
           10.466068,
           49.6690929
          ],
          "type": "Point"
         },
         "properties": {
          "Name": "Gymnasium Scheinfeld   ",
          "marker-color": "#FF0000",
          "marker-symbol": "star"
         },
         "type": "Feature"
        },
        {
         "geometry": {
          "coordinates": [
           10.5697278,
           49.3011993
          ],
          "type": "Point"
         },
         "properties": {
          "Name": "Gymnasium Carolinum Ansbach   ",
          "marker-color": "#FF0000",
          "marker-symbol": "star"
         },
         "type": "Feature"
        },
        {
         "geometry": {
          "coordinates": [
           10.5784737,
           49.2994308
          ],
          "type": "Point"
         },
         "properties": {
          "Name": "Platen-Gymnasium Ansbach   ",
          "marker-color": "#FF0000",
          "marker-symbol": "star"
         },
         "type": "Feature"
        },
        {
         "geometry": {
          "coordinates": [
           10.5606551,
           49.3142314
          ],
          "type": "Point"
         },
         "properties": {
          "Name": "Theresien-Gymnasium Ansbach   ",
          "marker-color": "#FF0000",
          "marker-symbol": "star"
         },
         "type": "Feature"
        },
        {
         "geometry": {
          "coordinates": [
           10.1913364,
           49.3655477
          ],
          "type": "Point"
         },
         "properties": {
          "Name": "Reichsstadt-Gymnasium Rothenburg o.d.Tauber  ",
          "marker-color": "#FF0000",
          "marker-symbol": "star"
         },
         "type": "Feature"
        },
        {
         "geometry": {
          "coordinates": [
           10.3165014,
           49.064794
          ],
          "type": "Point"
         },
         "properties": {
          "Name": "Gymnasium Dinkelsbühl   ",
          "marker-color": "#FF0000",
          "marker-symbol": "star"
         },
         "type": "Feature"
        },
        {
         "geometry": {
          "coordinates": [
           10.3411072,
           49.1657091
          ],
          "type": "Point"
         },
         "properties": {
          "Name": "Gymnasium Feuchtwangen   ",
          "marker-color": "#FF0000",
          "marker-symbol": "star"
         },
         "type": "Feature"
        },
        {
         "geometry": {
          "coordinates": [
           10.7827135,
           49.287733
          ],
          "type": "Point"
         },
         "properties": {
          "Name": "Laurentius-Gymnasium Neuendettelsau der Diakoneo KdöR  ",
          "marker-color": "#FF0000",
          "marker-symbol": "star"
         },
         "type": "Feature"
        },
        {
         "geometry": {
          "coordinates": [
           10.835209,
           49.2513199
          ],
          "type": "Point"
         },
         "properties": {
          "Name": "Johann-Sebastian-Bach-Gymnasium Windsbach  ",
          "marker-color": "#FF0000",
          "marker-symbol": "star"
         },
         "type": "Feature"
        },
        {
         "geometry": {
          "coordinates": [
           10.7602352,
           49.1152211
          ],
          "type": "Point"
         },
         "properties": {
          "Name": "Simon-Marius-Gymnasium Gunzenhausen  ",
          "marker-color": "#FF0000",
          "marker-symbol": "star"
         },
         "type": "Feature"
        },
        {
         "geometry": {
          "coordinates": [
           10.9122642,
           48.9599515
          ],
          "type": "Point"
         },
         "properties": {
          "Name": "Senefelder-Schule Treuchtlingen - Gymnasium  ",
          "marker-color": "#FF0000",
          "marker-symbol": "star"
         },
         "type": "Feature"
        },
        {
         "geometry": {
          "coordinates": [
           10.9766426,
           49.0253957
          ],
          "type": "Point"
         },
         "properties": {
          "Name": "Werner-von-Siemens-Gymnasium Weißenburg  ",
          "marker-color": "#FF0000",
          "marker-symbol": "star"
         },
         "type": "Feature"
        },
        {
         "geometry": {
          "coordinates": [
           11.8490299,
           49.4407225
          ],
          "type": "Point"
         },
         "properties": {
          "Name": "Erasmus-Gymnasium Amberg   ",
          "marker-color": "#FF0000",
          "marker-symbol": "star"
         },
         "type": "Feature"
        },
        {
         "geometry": {
          "coordinates": [
           11.8769882,
           49.4441435
          ],
          "type": "Point"
         },
         "properties": {
          "Name": "Gregor-Mendel-Gymnasium Amberg   ",
          "marker-color": "#FF0000",
          "marker-symbol": "star"
         },
         "type": "Feature"
        },
        {
         "geometry": {
          "coordinates": [
           11.8518731,
           49.44248140000001
          ],
          "type": "Point"
         },
         "properties": {
          "Name": "Max-Reger-Gymnasium Amberg   ",
          "marker-color": "#FF0000",
          "marker-symbol": "star"
         },
         "type": "Feature"
        },
        {
         "geometry": {
          "coordinates": [
           11.855171,
           49.4455624
          ],
          "type": "Point"
         },
         "properties": {
          "Name": "Dr.-Johanna-Decker-Gymnasium Amberg der Schulstiftung der Diözese Regensburg ",
          "marker-color": "#FF0000",
          "marker-symbol": "star"
         },
         "type": "Feature"
        },
        {
         "geometry": {
          "coordinates": [
           11.7325351,
           49.50264869999999
          ],
          "type": "Point"
         },
         "properties": {
          "Name": "Herzog-Christian-August-Gymnasium Sulzbach-Rosenberg  ",
          "marker-color": "#FF0000",
          "marker-symbol": "star"
         },
         "type": "Feature"
        },
        {
         "geometry": {
          "coordinates": [
           11.4501396,
           49.2817215
          ],
          "type": "Point"
         },
         "properties": {
          "Name": "Willibald-Gluck-Gymnasium Neumarkt   ",
          "marker-color": "#FF0000",
          "marker-symbol": "star"
         },
         "type": "Feature"
        },
        {
         "geometry": {
          "coordinates": [
           11.4535988,
           49.2825485
          ],
          "type": "Point"
         },
         "properties": {
          "Name": "Ostendorfer-Gymnasium Neumarkt   ",
          "marker-color": "#FF0000",
          "marker-symbol": "star"
         },
         "type": "Feature"
        },
        {
         "geometry": {
          "coordinates": [
           11.7282554,
           49.1611746
          ],
          "type": "Point"
         },
         "properties": {
          "Name": "Gymnasium Parsberg   ",
          "marker-color": "#FF0000",
          "marker-symbol": "star"
         },
         "type": "Feature"
        },
        {
         "geometry": {
          "coordinates": [
           11.46822,
           49.03081
          ],
          "type": "Point"
         },
         "properties": {
          "Name": "Gymnasium Beilngries   ",
          "marker-color": "#FF0000",
          "marker-symbol": "star"
         },
         "type": "Feature"
        },
        {
         "geometry": {
          "coordinates": [
           12.1166406,
           49.3227629
          ],
          "type": "Point"
         },
         "properties": {
          "Name": "Carl-Friedrich-Gauß-Gymnasium Schwandorf  ",
          "marker-color": "#FF0000",
          "marker-symbol": "star"
         },
         "type": "Feature"
        },
        {
         "geometry": {
          "coordinates": [
           12.1740305,
           49.4531746
          ],
          "type": "Point"
         },
         "properties": {
          "Name": "Johann-Andreas-Schmeller-Gymnasium Nabburg  ",
          "marker-color": "#FF0000",
          "marker-symbol": "star"
         },
         "type": "Feature"
        },
        {
         "geometry": {
          "coordinates": [
           12.4098377,
           49.4573488
          ],
          "type": "Point"
         },
         "properties": {
          "Name": "Ortenburg-Gymnasium Oberviechtach   ",
          "marker-color": "#FF0000",
          "marker-symbol": "star"
         },
         "type": "Feature"
        },
        {
         "geometry": {
          "coordinates": [
           12.1680434,
           49.6797619
          ],
          "type": "Point"
         },
         "properties": {
          "Name": "Augustinus-Gymnasium Weiden   ",
          "marker-color": "#FF0000",
          "marker-symbol": "star"
         },
         "type": "Feature"
        },
        {
         "geometry": {
          "coordinates": [
           12.1731628,
           49.6771536
          ],
          "type": "Point"
         },
         "properties": {
          "Name": "Kepler-Gymnasium Weiden   ",
          "marker-color": "#FF0000",
          "marker-symbol": "star"
         },
         "type": "Feature"
        },
        {
         "geometry": {
          "coordinates": [
           12.1648399,
           49.6718084
          ],
          "type": "Point"
         },
         "properties": {
          "Name": "Elly-Heuss-Gymnasium Weiden   ",
          "marker-color": "#FF0000",
          "marker-symbol": "star"
         },
         "type": "Feature"
        },
        {
         "geometry": {
          "coordinates": [
           12.17768,
           49.72611999999999
          ],
          "type": "Point"
         },
         "properties": {
          "Name": "Gymnasium Neustadt a.d.Waldnaab   ",
          "marker-color": "#FF0000",
          "marker-symbol": "star"
         },
         "type": "Feature"
        },
        {
         "geometry": {
          "coordinates": [
           11.8170335,
           49.7507358
          ],
          "type": "Point"
         },
         "properties": {
          "Name": "Gymnasium Eschenbach   ",
          "marker-color": "#FF0000",
          "marker-symbol": "star"
         },
         "type": "Feature"
        },
        {
         "geometry": {
          "coordinates": [
           12.1071288,
           49.01715739999999
          ],
          "type": "Point"
         },
         "properties": {
          "Name": "Albrecht-Altdorfer-Gymnasium Regensburg  ",
          "marker-color": "#FF0000",
          "marker-symbol": "star"
         },
         "type": "Feature"
        },
        {
         "geometry": {
          "coordinates": [
           12.0894255,
           49.0143117
          ],
          "type": "Point"
         },
         "properties": {
          "Name": "St. Marien-Gymnasium der Schulstiftung der Diözese Regensburg ",
          "marker-color": "#FF0000",
          "marker-symbol": "star"
         },
         "type": "Feature"
        },
        {
         "geometry": {
          "coordinates": [
           12.0747885,
           49.0180624
          ],
          "type": "Point"
         },
         "properties": {
          "Name": "Goethe-Gymnasium Regensburg   ",
          "marker-color": "#FF0000",
          "marker-symbol": "star"
         },
         "type": "Feature"
        },
        {
         "geometry": {
          "coordinates": [
           12.0754658,
           49.0230974
          ],
          "type": "Point"
         },
         "properties": {
          "Name": "Albertus-Magnus-Gymnasium Regensburg  ",
          "marker-color": "#FF0000",
          "marker-symbol": "star"
         },
         "type": "Feature"
        },
        {
         "geometry": {
          "coordinates": [
           12.0840367,
           49.0196021
          ],
          "type": "Point"
         },
         "properties": {
          "Name": "Private Schulen Pindl GmbH Gymnasium Regensburg  ",
          "marker-color": "#FF0000",
          "marker-symbol": "star"
         },
         "type": "Feature"
        },
        {
         "geometry": {
          "coordinates": [
           12.03662,
           49.01231
          ],
          "type": "Point"
         },
         "properties": {
          "Name": "SIS Swiss International School Regensburg Priv. Gymnasium der SIS Swiss International School gemeinn. GmbH",
          "marker-color": "#FF0000",
          "marker-symbol": "star"
         },
         "type": "Feature"
        },
        {
         "geometry": {
          "coordinates": [
           12.0743786,
           49.0041812
          ],
          "type": "Point"
         },
         "properties": {
          "Name": "Städtisches Von-Müller-Gymnasium Regensburg  ",
          "marker-color": "#FF0000",
          "marker-symbol": "star"
         },
         "type": "Feature"
        },
        {
         "geometry": {
          "coordinates": [
           12.1147084,
           49.01506699999999
          ],
          "type": "Point"
         },
         "properties": {
          "Name": "Gymnasium der Regensburger Domspatzen, Musisches Gymnasium, Naturwiss.-techn. Gymnasium Schultr.: Stiftung Reg. Domspatzen",
          "marker-color": "#FF0000",
          "marker-symbol": "star"
         },
         "type": "Feature"
        },
        {
         "geometry": {
          "coordinates": [
           12.110625,
           49.0308601
          ],
          "type": "Point"
         },
         "properties": {
          "Name": "Werner-von-Siemens-Gymnasium Regensburg  ",
          "marker-color": "#FF0000",
          "marker-symbol": "star"
         },
         "type": "Feature"
        },
        {
         "geometry": {
          "coordinates": [
           12.20688,
           48.98557
          ],
          "type": "Point"
         },
         "properties": {
          "Name": "Gymnasium Neutraubling   ",
          "marker-color": "#FF0000",
          "marker-symbol": "star"
         },
         "type": "Feature"
        },
        {
         "geometry": {
          "coordinates": [
           12.063047,
           49.2009871
          ],
          "type": "Point"
         },
         "properties": {
          "Name": "Johann-Michael-Fischer-Gymnasium Burglengenfeld  ",
          "marker-color": "#FF0000",
          "marker-symbol": "star"
         },
         "type": "Feature"
        },
        {
         "geometry": {
          "coordinates": [
           12.083141,
           49.0444785
          ],
          "type": "Point"
         },
         "properties": {
          "Name": "Staatl. Gymnasium Lappersdorf  ",
          "marker-color": "#FF0000",
          "marker-symbol": "star"
         },
         "type": "Feature"
        },
        {
         "geometry": {
          "coordinates": [
           12.2788362,
           49.1956681
          ],
          "type": "Point"
         },
         "properties": {
          "Name": "Regental-Gymnasium Nittenau   ",
          "marker-color": "#FF0000",
          "marker-symbol": "star"
         },
         "type": "Feature"
        },
        {
         "geometry": {
          "coordinates": [
           11.8883445,
           48.9147817
          ],
          "type": "Point"
         },
         "properties": {
          "Name": "Donau-Gymnasium Kelheim   ",
          "marker-color": "#FF0000",
          "marker-symbol": "star"
         },
         "type": "Feature"
        },
        {
         "geometry": {
          "coordinates": [
           11.9662742,
           48.76893339999999
          ],
          "type": "Point"
         },
         "properties": {
          "Name": "Johannes-Nepomuk-Gymnasium der Benediktiner Rohr  ",
          "marker-color": "#FF0000",
          "marker-symbol": "star"
         },
         "type": "Feature"
        },
        {
         "geometry": {
          "coordinates": [
           12.6676344,
           49.2253932
          ],
          "type": "Point"
         },
         "properties": {
          "Name": "Robert-Schuman-Gymnasium Cham   ",
          "marker-color": "#FF0000",
          "marker-symbol": "star"
         },
         "type": "Feature"
        },
        {
         "geometry": {
          "coordinates": [
           12.6642584,
           49.224643
          ],
          "type": "Point"
         },
         "properties": {
          "Name": "Joseph-von-Fraunhofer-Gymnasium Cham  ",
          "marker-color": "#FF0000",
          "marker-symbol": "star"
         },
         "type": "Feature"
        },
        {
         "geometry": {
          "coordinates": [
           12.8602892,
           49.1816212
          ],
          "type": "Point"
         },
         "properties": {
          "Name": "Benedikt-Stattler-Gymnasium Bad Kötzting  ",
          "marker-color": "#FF0000",
          "marker-symbol": "star"
         },
         "type": "Feature"
        },
        {
         "geometry": {
          "coordinates": [
           13.4711424,
           48.5737384
          ],
          "type": "Point"
         },
         "properties": {
          "Name": "Gymnasium Leopoldinum Passau   ",
          "marker-color": "#FF0000",
          "marker-symbol": "star"
         },
         "type": "Feature"
        },
        {
         "geometry": {
          "coordinates": [
           13.4463874,
           48.5640973
          ],
          "type": "Point"
         },
         "properties": {
          "Name": "Adalbert-Stifter-Gymnasium Passau   ",
          "marker-color": "#FF0000",
          "marker-symbol": "star"
         },
         "type": "Feature"
        },
        {
         "geometry": {
          "coordinates": [
           13.4714396,
           48.5741598
          ],
          "type": "Point"
         },
         "properties": {
          "Name": "Gisela-Gymnasium Passau-Niedernburg  ",
          "marker-color": "#FF0000",
          "marker-symbol": "star"
         },
         "type": "Feature"
        },
        {
         "geometry": {
          "coordinates": [
           13.44897,
           48.57935
          ],
          "type": "Point"
         },
         "properties": {
          "Name": "Auersperg-Gymnasium der Maria-Ward-Schulstiftung Passau Freudenhain ",
          "marker-color": "#FF0000",
          "marker-symbol": "star"
         },
         "type": "Feature"
        },
        {
         "geometry": {
          "coordinates": [
           13.3247318,
           48.4013007
          ],
          "type": "Point"
         },
         "properties": {
          "Name": "Wilhelm-Diess-Gymnasium Pocking   ",
          "marker-color": "#FF0000",
          "marker-symbol": "star"
         },
         "type": "Feature"
        },
        {
         "geometry": {
          "coordinates": [
           13.607,
           48.72788
          ],
          "type": "Point"
         },
         "properties": {
          "Name": "Johannes-Gutenberg-Gymnasium Waldkirchen  ",
          "marker-color": "#FF0000",
          "marker-symbol": "star"
         },
         "type": "Feature"
        },
        {
         "geometry": {
          "coordinates": [
           13.554734,
           48.81239009999999
          ],
          "type": "Point"
         },
         "properties": {
          "Name": "Gymnasium Freyung   ",
          "marker-color": "#FF0000",
          "marker-symbol": "star"
         },
         "type": "Feature"
        },
        {
         "geometry": {
          "coordinates": [
           13.323147,
           48.5204434
          ],
          "type": "Point"
         },
         "properties": {
          "Name": "Maristengymnasium Fürstenzell   ",
          "marker-color": "#FF0000",
          "marker-symbol": "star"
         },
         "type": "Feature"
        },
        {
         "geometry": {
          "coordinates": [
           13.6632277,
           48.5781021
          ],
          "type": "Point"
         },
         "properties": {
          "Name": "Gymnasium Untergriesbach   ",
          "marker-color": "#FF0000",
          "marker-symbol": "star"
         },
         "type": "Feature"
        },
        {
         "geometry": {
          "coordinates": [
           13.2280873,
           49.0184891
          ],
          "type": "Point"
         },
         "properties": {
          "Name": "Gymnasium Zwiesel   ",
          "marker-color": "#FF0000",
          "marker-symbol": "star"
         },
         "type": "Feature"
        },
        {
         "geometry": {
          "coordinates": [
           12.8845724,
           49.0730452
          ],
          "type": "Point"
         },
         "properties": {
          "Name": "Dominicus-von-Linprun-Gymnasium Viechtach  ",
          "marker-color": "#FF0000",
          "marker-symbol": "star"
         },
         "type": "Feature"
        },
        {
         "geometry": {
          "coordinates": [
           12.5880139,
           48.8884712
          ],
          "type": "Point"
         },
         "properties": {
          "Name": "Johannes-Turmair-Gymnasium Straubing  ",
          "marker-color": "#FF0000",
          "marker-symbol": "star"
         },
         "type": "Feature"
        },
        {
         "geometry": {
          "coordinates": [
           12.5788255,
           48.8680782
          ],
          "type": "Point"
         },
         "properties": {
          "Name": "Ludwigsgymnasium Straubing   ",
          "marker-color": "#FF0000",
          "marker-symbol": "star"
         },
         "type": "Feature"
        },
        {
         "geometry": {
          "coordinates": [
           12.563938,
           48.8730777
          ],
          "type": "Point"
         },
         "properties": {
          "Name": "Anton-Bruckner-Gymnasium Straubing   ",
          "marker-color": "#FF0000",
          "marker-symbol": "star"
         },
         "type": "Feature"
        },
        {
         "geometry": {
          "coordinates": [
           12.5733624,
           48.8843785
          ],
          "type": "Point"
         },
         "properties": {
          "Name": "Gymnasium d.Ursulinen-Schulstiftung Straubing  ",
          "marker-color": "#FF0000",
          "marker-symbol": "star"
         },
         "type": "Feature"
        },
        {
         "geometry": {
          "coordinates": [
           12.6845319,
           48.9157984
          ],
          "type": "Point"
         },
         "properties": {
          "Name": "Veit-Höser-Gymnasium Bogen   ",
          "marker-color": "#FF0000",
          "marker-symbol": "star"
         },
         "type": "Feature"
        },
        {
         "geometry": {
          "coordinates": [
           12.6846507,
           48.6783334
          ],
          "type": "Point"
         },
         "properties": {
          "Name": "Gymnasium Landau a.d.Isar   ",
          "marker-color": "#FF0000",
          "marker-symbol": "star"
         },
         "type": "Feature"
        },
        {
         "geometry": {
          "coordinates": [
           12.96197,
           48.84147
          ],
          "type": "Point"
         },
         "properties": {
          "Name": "Comenius-Gymnasium Deggendorf   ",
          "marker-color": "#FF0000",
          "marker-symbol": "star"
         },
         "type": "Feature"
        },
        {
         "geometry": {
          "coordinates": [
           12.9523149,
           48.8472233
          ],
          "type": "Point"
         },
         "properties": {
          "Name": "Robert-Koch-Gymnasium Deggendorf   ",
          "marker-color": "#FF0000",
          "marker-symbol": "star"
         },
         "type": "Feature"
        },
        {
         "geometry": {
          "coordinates": [
           13.1916924,
           48.6278905
          ],
          "type": "Point"
         },
         "properties": {
          "Name": "Gymnasium Vilshofen   ",
          "marker-color": "#FF0000",
          "marker-symbol": "star"
         },
         "type": "Feature"
        },
        {
         "geometry": {
          "coordinates": [
           13.4007421,
           48.86272289999999
          ],
          "type": "Point"
         },
         "properties": {
          "Name": "Landgraf-Leuchtenberg-Gymnasium Grafenau  ",
          "marker-color": "#FF0000",
          "marker-symbol": "star"
         },
         "type": "Feature"
        },
        {
         "geometry": {
          "coordinates": [
           12.91754,
           48.85543999999999
          ],
          "type": "Point"
         },
         "properties": {
          "Name": "St.-Michaels-Gymnasium der Benediktiner Metten  ",
          "marker-color": "#FF0000",
          "marker-symbol": "star"
         },
         "type": "Feature"
        },
        {
         "geometry": {
          "coordinates": [
           13.0305903,
           48.766594
          ],
          "type": "Point"
         },
         "properties": {
          "Name": "St.-Gotthard-Gymnasium der Benediktiner Niederaltaich  ",
          "marker-color": "#FF0000",
          "marker-symbol": "star"
         },
         "type": "Feature"
        },
        {
         "geometry": {
          "coordinates": [
           11.9145934,
           50.3221646
          ],
          "type": "Point"
         },
         "properties": {
          "Name": "Jean-Paul-Gymnasium Hof   ",
          "marker-color": "#FF0000",
          "marker-symbol": "star"
         },
         "type": "Feature"
        },
        {
         "geometry": {
          "coordinates": [
           11.91135,
           50.3162814
          ],
          "type": "Point"
         },
         "properties": {
          "Name": "Schiller-Gymnasium Hof   ",
          "marker-color": "#FF0000",
          "marker-symbol": "star"
         },
         "type": "Feature"
        },
        {
         "geometry": {
          "coordinates": [
           11.8984047,
           50.3070452
          ],
          "type": "Point"
         },
         "properties": {
          "Name": "Johann-Christian-Reinhart- Gymnasium Hof  ",
          "marker-color": "#FF0000",
          "marker-symbol": "star"
         },
         "type": "Feature"
        },
        {
         "geometry": {
          "coordinates": [
           12.1374798,
           50.1625879
          ],
          "type": "Point"
         },
         "properties": {
          "Name": "Walter-Gropius-Gymnasium Selb   ",
          "marker-color": "#FF0000",
          "marker-symbol": "star"
         },
         "type": "Feature"
        },
        {
         "geometry": {
          "coordinates": [
           11.701046,
           50.33607019999999
          ],
          "type": "Point"
         },
         "properties": {
          "Name": "Hochfranken-Gymnasium Naila   ",
          "marker-color": "#FF0000",
          "marker-symbol": "star"
         },
         "type": "Feature"
        },
        {
         "geometry": {
          "coordinates": [
           11.7937114,
           50.1969125
          ],
          "type": "Point"
         },
         "properties": {
          "Name": "Gymnasium Münchberg   ",
          "marker-color": "#FF0000",
          "marker-symbol": "star"
         },
         "type": "Feature"
        },
        {
         "geometry": {
          "coordinates": [
           11.460934,
           50.1051462
          ],
          "type": "Point"
         },
         "properties": {
          "Name": "Markgraf-Georg-Friedrich-Gymnasium Kulmbach  ",
          "marker-color": "#FF0000",
          "marker-symbol": "star"
         },
         "type": "Feature"
        },
        {
         "geometry": {
          "coordinates": [
           11.4490881,
           50.10201499999999
          ],
          "type": "Point"
         },
         "properties": {
          "Name": "Caspar-Vischer-Gymnasium Kulmbach   ",
          "marker-color": "#FF0000",
          "marker-symbol": "star"
         },
         "type": "Feature"
        },
        {
         "geometry": {
          "coordinates": [
           11.5859752,
           49.9380238
          ],
          "type": "Point"
         },
         "properties": {
          "Name": "Graf-Münster-Gymnasium Bayreuth   ",
          "marker-color": "#FF0000",
          "marker-symbol": "star"
         },
         "type": "Feature"
        },
        {
         "geometry": {
          "coordinates": [
           11.571038,
           49.9421198
          ],
          "type": "Point"
         },
         "properties": {
          "Name": "Richard-Wagner-Gymnasium Bayreuth   ",
          "marker-color": "#FF0000",
          "marker-symbol": "star"
         },
         "type": "Feature"
        },
        {
         "geometry": {
          "coordinates": [
           11.5851076,
           49.9466344
          ],
          "type": "Point"
         },
         "properties": {
          "Name": "Gymnasium Christian-Ernestinum Bayreuth  ",
          "marker-color": "#FF0000",
          "marker-symbol": "star"
         },
         "type": "Feature"
        },
        {
         "geometry": {
          "coordinates": [
           11.5923124,
           49.940468
          ],
          "type": "Point"
         },
         "properties": {
          "Name": "Markgräfin-Wilhelmine-Gymnasium Bayreuth  ",
          "marker-color": "#FF0000",
          "marker-symbol": "star"
         },
         "type": "Feature"
        },
        {
         "geometry": {
          "coordinates": [
           11.5867502,
           49.943668
          ],
          "type": "Point"
         },
         "properties": {
          "Name": "Städt. Wirtschaftswissenschaftl. Gymnasium Bayreuth  ",
          "marker-color": "#FF0000",
          "marker-symbol": "star"
         },
         "type": "Feature"
        },
        {
         "geometry": {
          "coordinates": [
           12.0922307,
           50.0073673
          ],
          "type": "Point"
         },
         "properties": {
          "Name": "Otto-Hahn-Gymnasium Marktredwitz   ",
          "marker-color": "#FF0000",
          "marker-symbol": "star"
         },
         "type": "Feature"
        },
        {
         "geometry": {
          "coordinates": [
           12.0031278,
           50.0355667
          ],
          "type": "Point"
         },
         "properties": {
          "Name": "Luisenburg-Gymnasium Wunsiedel   ",
          "marker-color": "#FF0000",
          "marker-symbol": "star"
         },
         "type": "Feature"
        },
        {
         "geometry": {
          "coordinates": [
           12.3245607,
           49.8886006
          ],
          "type": "Point"
         },
         "properties": {
          "Name": "Stiftland-Gymnasium Tirschenreuth   ",
          "marker-color": "#FF0000",
          "marker-symbol": "star"
         },
         "type": "Feature"
        },
        {
         "geometry": {
          "coordinates": [
           10.8959797,
           49.892671
          ],
          "type": "Point"
         },
         "properties": {
          "Name": "Franz-Ludwig-Gymnasium Bamberg   ",
          "marker-color": "#FF0000",
          "marker-symbol": "star"
         },
         "type": "Feature"
        },
        {
         "geometry": {
          "coordinates": [
           10.8849856,
           49.8945843
          ],
          "type": "Point"
         },
         "properties": {
          "Name": "Clavius-Gymnasium Bamberg   ",
          "marker-color": "#FF0000",
          "marker-symbol": "star"
         },
         "type": "Feature"
        },
        {
         "geometry": {
          "coordinates": [
           10.9018747,
           49.8860189
          ],
          "type": "Point"
         },
         "properties": {
          "Name": "Maria-Ward-Gymnasium Bamberg der Erzdiözese Bamberg  ",
          "marker-color": "#FF0000",
          "marker-symbol": "star"
         },
         "type": "Feature"
        },
        {
         "geometry": {
          "coordinates": [
           10.876743,
           49.8881674
          ],
          "type": "Point"
         },
         "properties": {
          "Name": "Kaiser-Heinrich-Gymnasium Bamberg   ",
          "marker-color": "#FF0000",
          "marker-symbol": "star"
         },
         "type": "Feature"
        },
        {
         "geometry": {
          "coordinates": [
           10.8888422,
           49.8863643
          ],
          "type": "Point"
         },
         "properties": {
          "Name": "E.T.A.Hoffmann-Gymnasium Bamberg   ",
          "marker-color": "#FF0000",
          "marker-symbol": "star"
         },
         "type": "Feature"
        },
        {
         "geometry": {
          "coordinates": [
           10.88109,
           49.88805
          ],
          "type": "Point"
         },
         "properties": {
          "Name": "Theresianum Bamberg - Spätberufenengymnasium der Caritas-Schulen gGmbH ",
          "marker-color": "#FF0000",
          "marker-symbol": "star"
         },
         "type": "Feature"
        },
        {
         "geometry": {
          "coordinates": [
           10.9105691,
           49.8983933
          ],
          "type": "Point"
         },
         "properties": {
          "Name": "Städtisches Eichendorff-Gymnasium Bamberg  ",
          "marker-color": "#FF0000",
          "marker-symbol": "star"
         },
         "type": "Feature"
        },
        {
         "geometry": {
          "coordinates": [
           10.9063233,
           49.908354
          ],
          "type": "Point"
         },
         "properties": {
          "Name": "Dientzenhofer-Gymnasium Bamberg   ",
          "marker-color": "#FF0000",
          "marker-symbol": "star"
         },
         "type": "Feature"
        },
        {
         "geometry": {
          "coordinates": [
           10.8022319,
           50.0935201
          ],
          "type": "Point"
         },
         "properties": {
          "Name": "Friedrich-Rückert-Gymnasium Ebern   ",
          "marker-color": "#FF0000",
          "marker-symbol": "star"
         },
         "type": "Feature"
        },
        {
         "geometry": {
          "coordinates": [
           11.0754167,
           50.148634
          ],
          "type": "Point"
         },
         "properties": {
          "Name": "Meranier-Gymnasium Lichtenfels   ",
          "marker-color": "#FF0000",
          "marker-symbol": "star"
         },
         "type": "Feature"
        },
        {
         "geometry": {
          "coordinates": [
           11.2595523,
           50.139171
          ],
          "type": "Point"
         },
         "properties": {
          "Name": "Gymnasium Burgkunstadt   ",
          "marker-color": "#FF0000",
          "marker-symbol": "star"
         },
         "type": "Feature"
        },
        {
         "geometry": {
          "coordinates": [
           11.3266514,
           50.2356148
          ],
          "type": "Point"
         },
         "properties": {
          "Name": "Kaspar-Zeuß-Gymnasium Kronach   ",
          "marker-color": "#FF0000",
          "marker-symbol": "star"
         },
         "type": "Feature"
        },
        {
         "geometry": {
          "coordinates": [
           11.34269,
           50.23558999999999
          ],
          "type": "Point"
         },
         "properties": {
          "Name": "Frankenwald-Gymnasium Kronach   ",
          "marker-color": "#FF0000",
          "marker-symbol": "star"
         },
         "type": "Feature"
        },
        {
         "geometry": {
          "coordinates": [
           10.9652379,
           50.2571348
          ],
          "type": "Point"
         },
         "properties": {
          "Name": "Gymnasium Casimirianum Coburg   ",
          "marker-color": "#FF0000",
          "marker-symbol": "star"
         },
         "type": "Feature"
        },
        {
         "geometry": {
          "coordinates": [
           10.9689257,
           50.25611120000001
          ],
          "type": "Point"
         },
         "properties": {
          "Name": "Gymnasium Ernestinum Coburg   ",
          "marker-color": "#FF0000",
          "marker-symbol": "star"
         },
         "type": "Feature"
        },
        {
         "geometry": {
          "coordinates": [
           10.9703096,
           50.2554294
          ],
          "type": "Point"
         },
         "properties": {
          "Name": "Gymnasium Alexandrinum Coburg   ",
          "marker-color": "#FF0000",
          "marker-symbol": "star"
         },
         "type": "Feature"
        },
        {
         "geometry": {
          "coordinates": [
           10.9652417,
           50.2563196
          ],
          "type": "Point"
         },
         "properties": {
          "Name": "Gymnasium Albertinum Coburg   ",
          "marker-color": "#FF0000",
          "marker-symbol": "star"
         },
         "type": "Feature"
        },
        {
         "geometry": {
          "coordinates": [
           11.12712,
           50.3322637
          ],
          "type": "Point"
         },
         "properties": {
          "Name": "Arnold-Gymnasium Neustadt bei Coburg  ",
          "marker-color": "#FF0000",
          "marker-symbol": "star"
         },
         "type": "Feature"
        },
        {
         "geometry": {
          "coordinates": [
           9.9425232,
           49.7969638
          ],
          "type": "Point"
         },
         "properties": {
          "Name": "Riemenschneider-Gymnasium Würzburg   ",
          "marker-color": "#FF0000",
          "marker-symbol": "star"
         },
         "type": "Feature"
        },
        {
         "geometry": {
          "coordinates": [
           9.928336,
           49.787769
          ],
          "type": "Point"
         },
         "properties": {
          "Name": "Wirsberg-Gymnasium Würzburg   ",
          "marker-color": "#FF0000",
          "marker-symbol": "star"
         },
         "type": "Feature"
        },
        {
         "geometry": {
          "coordinates": [
           9.942115399999999,
           49.79633339999999
          ],
          "type": "Point"
         },
         "properties": {
          "Name": "Siebold-Gymnasium Würzburg   ",
          "marker-color": "#FF0000",
          "marker-symbol": "star"
         },
         "type": "Feature"
        },
        {
         "geometry": {
          "coordinates": [
           9.932795900000002,
           49.786941
          ],
          "type": "Point"
         },
         "properties": {
          "Name": "Röntgen-Gymnasium Würzburg   ",
          "marker-color": "#FF0000",
          "marker-symbol": "star"
         },
         "type": "Feature"
        },
        {
         "geometry": {
          "coordinates": [
           9.929720300000001,
           49.7912718
          ],
          "type": "Point"
         },
         "properties": {
          "Name": "St.-Ursula-Schule der Ursulinen Würzburg - Gymnasium -  ",
          "marker-color": "#FF0000",
          "marker-symbol": "star"
         },
         "type": "Feature"
        },
        {
         "geometry": {
          "coordinates": [
           9.953898299999999,
           49.7873151
          ],
          "type": "Point"
         },
         "properties": {
          "Name": "Matthias-Grünewald-Gymnasium Würzburg  ",
          "marker-color": "#FF0000",
          "marker-symbol": "star"
         },
         "type": "Feature"
        },
        {
         "geometry": {
          "coordinates": [
           9.947134,
           49.7869931
          ],
          "type": "Point"
         },
         "properties": {
          "Name": "Dag-Hammarskjöld-Gymnasium Evangelisches Gymnasium Würzburg ",
          "marker-color": "#FF0000",
          "marker-symbol": "star"
         },
         "type": "Feature"
        },
        {
         "geometry": {
          "coordinates": [
           9.9206484,
           49.79400159999999
          ],
          "type": "Point"
         },
         "properties": {
          "Name": "Deutschhaus-Gymnasium Würzburg   ",
          "marker-color": "#FF0000",
          "marker-symbol": "star"
         },
         "type": "Feature"
        },
        {
         "geometry": {
          "coordinates": [
           9.912335900000002,
           49.79741019999999
          ],
          "type": "Point"
         },
         "properties": {
          "Name": "Friedrich-Koenig-Gymnasium Würzburg  ",
          "marker-color": "#FF0000",
          "marker-symbol": "star"
         },
         "type": "Feature"
        },
        {
         "geometry": {
          "coordinates": [
           9.8855907,
           49.83062160000001
          ],
          "type": "Point"
         },
         "properties": {
          "Name": "Gymnasium Veitshöchheim   ",
          "marker-color": "#FF0000",
          "marker-symbol": "star"
         },
         "type": "Feature"
        },
        {
         "geometry": {
          "coordinates": [
           10.22683,
           49.54236
          ],
          "type": "Point"
         },
         "properties": {
          "Name": "Christian-von-Bomhard-Schule Uffenheim Evangelische Heimschule - Gymnasium -",
          "marker-color": "#FF0000",
          "marker-symbol": "star"
         },
         "type": "Feature"
        },
        {
         "geometry": {
          "coordinates": [
           10.1592459,
           49.7308953
          ],
          "type": "Point"
         },
         "properties": {
          "Name": "Armin-Knab-Gymnasium Kitzingen   ",
          "marker-color": "#FF0000",
          "marker-symbol": "star"
         },
         "type": "Feature"
        },
        {
         "geometry": {
          "coordinates": [
           10.2248162,
           49.89051850000001
          ],
          "type": "Point"
         },
         "properties": {
          "Name": "Franken-Landschulheim Schloss Gaibach öffentliches Gymnasium Volkach ",
          "marker-color": "#FF0000",
          "marker-symbol": "star"
         },
         "type": "Feature"
        },
        {
         "geometry": {
          "coordinates": [
           10.1535967,
           49.6624114
          ],
          "type": "Point"
         },
         "properties": {
          "Name": "Gymnasium Marktbreit   ",
          "marker-color": "#FF0000",
          "marker-symbol": "star"
         },
         "type": "Feature"
        },
        {
         "geometry": {
          "coordinates": [
           10.3469209,
           49.7975952
          ],
          "type": "Point"
         },
         "properties": {
          "Name": "Steigerwald-Landschulheim Wiesentheid des Zweckverbands Bayer. Landschulheime - Gymnasium ",
          "marker-color": "#FF0000",
          "marker-symbol": "star"
         },
         "type": "Feature"
        },
        {
         "geometry": {
          "coordinates": [
           10.2300152,
           49.80376949999999
          ],
          "type": "Point"
         },
         "properties": {
          "Name": "Egbert-Gymnasium d. Benediktiner Münsterschwarzach  ",
          "marker-color": "#FF0000",
          "marker-symbol": "star"
         },
         "type": "Feature"
        },
        {
         "geometry": {
          "coordinates": [
           10.2274523,
           50.0468578
          ],
          "type": "Point"
         },
         "properties": {
          "Name": "Celtis-Gymnasium Schweinfurt   ",
          "marker-color": "#FF0000",
          "marker-symbol": "star"
         },
         "type": "Feature"
        },
        {
         "geometry": {
          "coordinates": [
           10.2125114,
           50.0449409
          ],
          "type": "Point"
         },
         "properties": {
          "Name": "Olympia-Morata-Gymnasium Schweinfurt  ",
          "marker-color": "#FF0000",
          "marker-symbol": "star"
         },
         "type": "Feature"
        },
        {
         "geometry": {
          "coordinates": [
           10.21319,
           50.04505
          ],
          "type": "Point"
         },
         "properties": {
          "Name": "Städt. Walther-Rathenau-Gymnasium Schweinfurt  ",
          "marker-color": "#FF0000",
          "marker-symbol": "star"
         },
         "type": "Feature"
        },
        {
         "geometry": {
          "coordinates": [
           10.1999668,
           50.0455216
          ],
          "type": "Point"
         },
         "properties": {
          "Name": "Alexander-von-Humboldt-Gymnasium Schweinfurt  ",
          "marker-color": "#FF0000",
          "marker-symbol": "star"
         },
         "type": "Feature"
        },
        {
         "geometry": {
          "coordinates": [
           10.5279643,
           50.0374347
          ],
          "type": "Point"
         },
         "properties": {
          "Name": "Regiomontanus-Gymnasium Haßfurt   ",
          "marker-color": "#FF0000",
          "marker-symbol": "star"
         },
         "type": "Feature"
        },
        {
         "geometry": {
          "coordinates": [
           10.2163975,
           50.3259536
          ],
          "type": "Point"
         },
         "properties": {
          "Name": "Rhön-Gymnasium Bad Neustadt   ",
          "marker-color": "#FF0000",
          "marker-symbol": "star"
         },
         "type": "Feature"
        },
        {
         "geometry": {
          "coordinates": [
           10.4689241,
           50.3023992
          ],
          "type": "Point"
         },
         "properties": {
          "Name": "Gymnasium Bad Königshofen i.Gr.   ",
          "marker-color": "#FF0000",
          "marker-symbol": "star"
         },
         "type": "Feature"
        },
        {
         "geometry": {
          "coordinates": [
           10.3167,
           50.43026
          ],
          "type": "Point"
         },
         "properties": {
          "Name": "Martin-Pollich-Gymnasium Mellrichstadt  ",
          "marker-color": "#FF0000",
          "marker-symbol": "star"
         },
         "type": "Feature"
        },
        {
         "geometry": {
          "coordinates": [
           10.0735423,
           50.2081864
          ],
          "type": "Point"
         },
         "properties": {
          "Name": "KISSori-Gymnasium Bad Kissingen Privates naturwissenschaftlich- technologisches Gymnasium der KISSori-Lernzentrum gemeinn. GmbH",
          "marker-color": "#FF0000",
          "marker-symbol": "star"
         },
         "type": "Feature"
        },
        {
         "geometry": {
          "coordinates": [
           10.0798028,
           50.2053232
          ],
          "type": "Point"
         },
         "properties": {
          "Name": "Jack-Steinberger-Gymnasium Bad Kissingen  ",
          "marker-color": "#FF0000",
          "marker-symbol": "star"
         },
         "type": "Feature"
        },
        {
         "geometry": {
          "coordinates": [
           10.1879,
           50.25214
          ],
          "type": "Point"
         },
         "properties": {
          "Name": "Joh.-Philipp-v.-Schönborn-Gymnasium Münnerstadt  ",
          "marker-color": "#FF0000",
          "marker-symbol": "star"
         },
         "type": "Feature"
        },
        {
         "geometry": {
          "coordinates": [
           9.7070736,
           50.0489675
          ],
          "type": "Point"
         },
         "properties": {
          "Name": "Friedrich-List-Gymnasium Gemünden   ",
          "marker-color": "#FF0000",
          "marker-symbol": "star"
         },
         "type": "Feature"
        },
        {
         "geometry": {
          "coordinates": [
           9.71679,
           50.0428
          ],
          "type": "Point"
         },
         "properties": {
          "Name": "Theodosius-Florentini-Schule, Gymnasium der Kreuzschwestern Gemünden ",
          "marker-color": "#FF0000",
          "marker-symbol": "star"
         },
         "type": "Feature"
        },
        {
         "geometry": {
          "coordinates": [
           9.779954,
           49.96010889999999
          ],
          "type": "Point"
         },
         "properties": {
          "Name": "Johann-Schöner-Gymnasium Karlstadt   ",
          "marker-color": "#FF0000",
          "marker-symbol": "star"
         },
         "type": "Feature"
        },
        {
         "geometry": {
          "coordinates": [
           9.89907,
           50.11434
          ],
          "type": "Point"
         },
         "properties": {
          "Name": "Frobenius-Gymnasium Hammelburg   ",
          "marker-color": "#FF0000",
          "marker-symbol": "star"
         },
         "type": "Feature"
        },
        {
         "geometry": {
          "coordinates": [
           9.814007499999999,
           50.3199555
          ],
          "type": "Point"
         },
         "properties": {
          "Name": "Franz-Miltenberger-Gymnasium Bad Brückenau  ",
          "marker-color": "#FF0000",
          "marker-symbol": "star"
         },
         "type": "Feature"
        },
        {
         "geometry": {
          "coordinates": [
           9.5823378,
           49.9996616
          ],
          "type": "Point"
         },
         "properties": {
          "Name": "Franz-Ludwig-von-Erthal-Gymnasium Lohr  ",
          "marker-color": "#FF0000",
          "marker-symbol": "star"
         },
         "type": "Feature"
        },
        {
         "geometry": {
          "coordinates": [
           9.610024,
           49.8484121
          ],
          "type": "Point"
         },
         "properties": {
          "Name": "Balthasar-Neumann-Gymnasium Marktheidenfeld  ",
          "marker-color": "#FF0000",
          "marker-symbol": "star"
         },
         "type": "Feature"
        },
        {
         "geometry": {
          "coordinates": [
           11.5830898,
           48.1570736
          ],
          "type": "Point"
         },
         "properties": {
          "Name": "Rudolf-Steiner-Schule München-Schwabing  ",
          "marker-color": "#FF0000",
          "marker-symbol": "star"
         },
         "type": "Feature"
        },
        {
         "geometry": {
          "coordinates": [
           11.5021216,
           48.0932138
          ],
          "type": "Point"
         },
         "properties": {
          "Name": "Freie Waldorfschule München Südwest des Fördervereins für die Freie Waldorfschule München Südwest e.V.",
          "marker-color": "#FF0000",
          "marker-symbol": "star"
         },
         "type": "Feature"
        },
        {
         "geometry": {
          "coordinates": [
           11.6524512,
           48.1537624
          ],
          "type": "Point"
         },
         "properties": {
          "Name": "Rudolf-Steiner-Schule München-Daglfing  ",
          "marker-color": "#FF0000",
          "marker-symbol": "star"
         },
         "type": "Feature"
        },
        {
         "geometry": {
          "coordinates": [
           11.3850159,
           48.1936213
          ],
          "type": "Point"
         },
         "properties": {
          "Name": "Rudolf-Steiner-Schule Gröbenzell   ",
          "marker-color": "#FF0000",
          "marker-symbol": "star"
         },
         "type": "Feature"
        },
        {
         "geometry": {
          "coordinates": [
           11.1412196,
           47.7770259
          ],
          "type": "Point"
         },
         "properties": {
          "Name": "Freie Waldorfschule Weilheim (Grund- und weiterführende Schule) der Freien Waldorfschule Weilheim gemeinnützige eG, Huglfing",
          "marker-color": "#FF0000",
          "marker-symbol": "star"
         },
         "type": "Feature"
        },
        {
         "geometry": {
          "coordinates": [
           11.4638178,
           47.8875213
          ],
          "type": "Point"
         },
         "properties": {
          "Name": "Freie Waldorfschule Isartal in Geretsried der Freie Waldorfschule Isartal in Geretsried gemeinnützige e.G.",
          "marker-color": "#FF0000",
          "marker-symbol": "star"
         },
         "type": "Feature"
        },
        {
         "geometry": {
          "coordinates": [
           12.112287,
           47.8363271
          ],
          "type": "Point"
         },
         "properties": {
          "Name": "Freie Waldorfschule Rosenheim   ",
          "marker-color": "#FF0000",
          "marker-symbol": "star"
         },
         "type": "Feature"
        },
        {
         "geometry": {
          "coordinates": [
           12.344155,
           47.8509527
          ],
          "type": "Point"
         },
         "properties": {
          "Name": "Freie Waldorfschule Chiemgau in Prien a.Chiemsee  ",
          "marker-color": "#FF0000",
          "marker-symbol": "star"
         },
         "type": "Feature"
        },
        {
         "geometry": {
          "coordinates": [
           12.1444897,
           48.5387697
          ],
          "type": "Point"
         },
         "properties": {
          "Name": "Waldorfschule Landshut (Grund- und weiterführende Schule) der Schulgenossenschaft Landshut e.G.",
          "marker-color": "#FF0000",
          "marker-symbol": "star"
         },
         "type": "Feature"
        },
        {
         "geometry": {
          "coordinates": [
           12.6166831,
           48.1557878
          ],
          "type": "Point"
         },
         "properties": {
          "Name": "Freie Schule Unterneukirchen, priv. Grundschule der Gem. Genossenschaft zur Förderung der Freien Schule Erlbach e.G.",
          "marker-color": "#FF0000",
          "marker-symbol": "star"
         },
         "type": "Feature"
        },
        {
         "geometry": {
          "coordinates": [
           11.8950441,
           47.9578235
          ],
          "type": "Point"
         },
         "properties": {
          "Name": "Freie Schule Glonntal in Baiern  ",
          "marker-color": "#FF0000",
          "marker-symbol": "star"
         },
         "type": "Feature"
        },
        {
         "geometry": {
          "coordinates": [
           11.6866226,
           48.2153502
          ],
          "type": "Point"
         },
         "properties": {
          "Name": "Rudolf-Steiner-Schule Ismaning   ",
          "marker-color": "#FF0000",
          "marker-symbol": "star"
         },
         "type": "Feature"
        },
        {
         "geometry": {
          "coordinates": [
           10.9061915,
           48.3961563
          ],
          "type": "Point"
         },
         "properties": {
          "Name": "Freie Waldorfschule Augsburg der Freien Waldorfschule und Waldorfkindergärten Augsburg e.V. ",
          "marker-color": "#FF0000",
          "marker-symbol": "star"
         },
         "type": "Feature"
        },
        {
         "geometry": {
          "coordinates": [
           10.7492001,
           48.62481
          ],
          "type": "Point"
         },
         "properties": {
          "Name": "Freie Schule Lech-Donau einheitl. Grund- u.höhere Schule nach d. Päd. R.Steiners der Freie Schule Lech- Donau gemeinn. GmbH in Buttenwiesen",
          "marker-color": "#FF0000",
          "marker-symbol": "star"
         },
         "type": "Feature"
        },
        {
         "geometry": {
          "coordinates": [
           10.896691,
           48.0519768
          ],
          "type": "Point"
         },
         "properties": {
          "Name": "Freie Waldorfschule Landsberg   ",
          "marker-color": "#FF0000",
          "marker-symbol": "star"
         },
         "type": "Feature"
        },
        {
         "geometry": {
          "coordinates": [
           10.2730501,
           47.6967943
          ],
          "type": "Point"
         },
         "properties": {
          "Name": "Freie Schule Albris in Buchenberg, einheitliche Grund- u.Höhere Schule i.d.Erziehungskunst Rudolf Steiners d. Vereins Freie Schule Albris e.V.",
          "marker-color": "#FF0000",
          "marker-symbol": "star"
         },
         "type": "Feature"
        },
        {
         "geometry": {
          "coordinates": [
           11.1170282,
           49.46757729999999
          ],
          "type": "Point"
         },
         "properties": {
          "Name": "Rudolf-Steiner-Schule Nürnberg   ",
          "marker-color": "#FF0000",
          "marker-symbol": "star"
         },
         "type": "Feature"
        },
        {
         "geometry": {
          "coordinates": [
           11.1563291,
           49.3445899
          ],
          "type": "Point"
         },
         "properties": {
          "Name": "Freie Waldorfschule Wendelstein   ",
          "marker-color": "#FF0000",
          "marker-symbol": "star"
         },
         "type": "Feature"
        },
        {
         "geometry": {
          "coordinates": [
           11.0073723,
           49.5605051
          ],
          "type": "Point"
         },
         "properties": {
          "Name": "Freie Waldorfschule Erlangen   ",
          "marker-color": "#FF0000",
          "marker-symbol": "star"
         },
         "type": "Feature"
        },
        {
         "geometry": {
          "coordinates": [
           12.1117783,
           48.9902881
          ],
          "type": "Point"
         },
         "properties": {
          "Name": "Freie Waldorfschule Regensburg des Trägervereins Freie Waldorfschule Regensburg e.V. ",
          "marker-color": "#FF0000",
          "marker-symbol": "star"
         },
         "type": "Feature"
        },
        {
         "geometry": {
          "coordinates": [
           11.9172685,
           50.2952637
          ],
          "type": "Point"
         },
         "properties": {
          "Name": "Priv. Waldorfschule Hof   ",
          "marker-color": "#FF0000",
          "marker-symbol": "star"
         },
         "type": "Feature"
        },
        {
         "geometry": {
          "coordinates": [
           11.3957542,
           50.1204993
          ],
          "type": "Point"
         },
         "properties": {
          "Name": "Freie Waldorfschule Wernstein des Junger Main e.V., Mainleus  ",
          "marker-color": "#FF0000",
          "marker-symbol": "star"
         },
         "type": "Feature"
        },
        {
         "geometry": {
          "coordinates": [
           10.9230131,
           50.281828
          ],
          "type": "Point"
         },
         "properties": {
          "Name": "Rudolf-Steiner-Schule Coburg   ",
          "marker-color": "#FF0000",
          "marker-symbol": "star"
         },
         "type": "Feature"
        },
        {
         "geometry": {
          "coordinates": [
           9.9517609,
           49.7752922
          ],
          "type": "Point"
         },
         "properties": {
          "Name": "Freie Waldorfschule Würzburg Schule nach der Pädagogik Rudolf Steiners ",
          "marker-color": "#FF0000",
          "marker-symbol": "star"
         },
         "type": "Feature"
        },
        {
         "geometry": {
          "coordinates": [
           10.51449,
           50.0303
          ],
          "type": "Point"
         },
         "properties": {
          "Name": "Freie Waldorfschule in den Mainauen Haßfurt des Gründungskreises Waldorfschule Mainfranken e.V. ",
          "marker-color": "#FF0000",
          "marker-symbol": "star"
         },
         "type": "Feature"
        }
       ],
       "type": "FeatureCollection"
      },
      "text/plain": [
       "<IPython.display.GeoJSON object>"
      ]
     },
     "metadata": {
      "application/geo+json": {
       "expanded": false,
       "root": "root"
      }
     },
     "output_type": "display_data"
    }
   ],
   "source": [
    "geo_json = to_geojson(df=df_1, lat='latitude', lon='longitude', properties=['Name', 'marker-symbol', 'marker-color'])\n",
    "GeoJSON(geo_json)"
   ]
  },
  {
   "cell_type": "markdown",
   "id": "07e482c6-71e7-46fe-b0ea-2cc5380cf502",
   "metadata": {},
   "source": [
    "## Add travel time to Munich via public transport"
   ]
  },
  {
   "cell_type": "code",
   "execution_count": 27,
   "id": "d61ad1e6-47ee-4c0d-8e49-b3b77f211bad",
   "metadata": {
    "tags": []
   },
   "outputs": [],
   "source": [
    "def add_travel_info(lat, lng, destination):\n",
    "    # To get a typical travel time, we set departure time to next Monday morning\n",
    "    today = datetime.date.today()\n",
    "    next_monday_0700 = datetime.datetime.combine(\n",
    "        today + datetime.timedelta(days=-today.weekday(), weeks=1),\n",
    "        datetime.datetime.strptime('07:00', '%H:%M').time()\n",
    "    )\n",
    "    \n",
    "    directions_result = gmaps.directions(origin={'lat': lat, 'lng': lng},\n",
    "                                         destination=destination,\n",
    "                                         mode=\"transit\",\n",
    "                                         departure_time=next_monday_0700)\n",
    "    res = (None, None)\n",
    "    if directions_result and directions_result[0]['legs']:\n",
    "        res = (directions_result[0]['legs'][0]['duration']['value'] // 60,\n",
    "               directions_result[0]['legs'][0]['distance']['value'] // 1000)\n",
    "    return res      \n",
    "\n",
    "schools_of_interest[['travel_duration_min', 'travel_distance_km']] = pd.DataFrame(\n",
    "    schools_of_interest.apply(\n",
    "        lambda row: add_travel_info(row.latitude, row.longitude, 'Münchner Freiheit'), axis=1\n",
    "    ).tolist(), index=schools_of_interest.index)\n",
    "\n",
    "# Write to file to travel times GPS coordinates\n",
    "schools_of_interest.to_parquet('parquet/schools_gps.parquet', engine='pyarrow')"
   ]
  },
  {
   "cell_type": "markdown",
   "id": "b1829c96-7e05-40b9-b83a-988aad2c7c77",
   "metadata": {},
   "source": [
    "## Load saved school list with GPS data and travel times"
   ]
  },
  {
   "cell_type": "code",
   "execution_count": 2,
   "id": "2fc6ed33-20da-406c-9538-6f339f1cabad",
   "metadata": {},
   "outputs": [],
   "source": [
    "schools_of_interest = pd.read_parquet('parquet/schools_gps.parquet', engine=\"pyarrow\")"
   ]
  },
  {
   "cell_type": "code",
   "execution_count": 29,
   "id": "26dadeef-82c2-4892-b88a-f62ab4f9a751",
   "metadata": {
    "collapsed": true,
    "jupyter": {
     "outputs_hidden": true
    },
    "tags": []
   },
   "outputs": [
    {
     "name": "stdout",
     "output_type": "stream",
     "text": [
      "No public transport to destination from the following schools:\n"
     ]
    },
    {
     "data": {
      "text/html": [
       "<div>\n",
       "<style scoped>\n",
       "    .dataframe tbody tr th:only-of-type {\n",
       "        vertical-align: middle;\n",
       "    }\n",
       "\n",
       "    .dataframe tbody tr th {\n",
       "        vertical-align: top;\n",
       "    }\n",
       "\n",
       "    .dataframe thead th {\n",
       "        text-align: right;\n",
       "    }\n",
       "</style>\n",
       "<table border=\"1\" class=\"dataframe\">\n",
       "  <thead>\n",
       "    <tr style=\"text-align: right;\">\n",
       "      <th></th>\n",
       "      <th>Schulnummer</th>\n",
       "      <th>Schultyp</th>\n",
       "      <th>Name</th>\n",
       "      <th>Strasse</th>\n",
       "      <th>PLZ</th>\n",
       "      <th>Ort</th>\n",
       "      <th>Homepage</th>\n",
       "      <th>Link</th>\n",
       "      <th>latitude</th>\n",
       "      <th>longitude</th>\n",
       "      <th>marker-symbol</th>\n",
       "      <th>marker-color</th>\n",
       "      <th>travel_duration_min</th>\n",
       "      <th>travel_distance_km</th>\n",
       "    </tr>\n",
       "  </thead>\n",
       "  <tbody>\n",
       "    <tr>\n",
       "      <th>97</th>\n",
       "      <td>78</td>\n",
       "      <td>Gymnasium</td>\n",
       "      <td>Benediktinergymnasium Ettal</td>\n",
       "      <td>Kaiser-Ludwig-Platz 1</td>\n",
       "      <td>82488</td>\n",
       "      <td>Ettal</td>\n",
       "      <td>www.ettal-gymnasium.de</td>\n",
       "      <td>/schule/0078.html</td>\n",
       "      <td>47.570052</td>\n",
       "      <td>11.093568</td>\n",
       "      <td>star</td>\n",
       "      <td>#FF0000</td>\n",
       "      <td>NaN</td>\n",
       "      <td>NaN</td>\n",
       "    </tr>\n",
       "    <tr>\n",
       "      <th>106</th>\n",
       "      <td>220</td>\n",
       "      <td>Gymnasium</td>\n",
       "      <td>Schloss Neubeuern - Gymnasium Internatsschule ...</td>\n",
       "      <td>Schloßstr. 20</td>\n",
       "      <td>83115</td>\n",
       "      <td>Neubeuern</td>\n",
       "      <td>www.schloss-neubeuern.de</td>\n",
       "      <td>/schule/0220.html</td>\n",
       "      <td>47.775316</td>\n",
       "      <td>12.139214</td>\n",
       "      <td>star</td>\n",
       "      <td>#FF0000</td>\n",
       "      <td>NaN</td>\n",
       "      <td>NaN</td>\n",
       "    </tr>\n",
       "    <tr>\n",
       "      <th>108</th>\n",
       "      <td>162</td>\n",
       "      <td>Gymnasium</td>\n",
       "      <td>Gymnasium Landschulheim Marquartstein</td>\n",
       "      <td>Neues Schloß 1</td>\n",
       "      <td>83250</td>\n",
       "      <td>Marquartstein</td>\n",
       "      <td>www.lsh-marquartstein.de</td>\n",
       "      <td>/schule/0162.html</td>\n",
       "      <td>47.751815</td>\n",
       "      <td>12.467224</td>\n",
       "      <td>star</td>\n",
       "      <td>#FF0000</td>\n",
       "      <td>NaN</td>\n",
       "      <td>NaN</td>\n",
       "    </tr>\n",
       "    <tr>\n",
       "      <th>113</th>\n",
       "      <td>127</td>\n",
       "      <td>Gymnasium</td>\n",
       "      <td>Landschulheim Schloß Ising am Chiemsee des Zwe...</td>\n",
       "      <td>Schloßstr. 3</td>\n",
       "      <td>83339</td>\n",
       "      <td>Chieming</td>\n",
       "      <td>www.lshi.de</td>\n",
       "      <td>/schule/0127.html</td>\n",
       "      <td>47.923605</td>\n",
       "      <td>12.504792</td>\n",
       "      <td>star</td>\n",
       "      <td>#FF0000</td>\n",
       "      <td>NaN</td>\n",
       "      <td>NaN</td>\n",
       "    </tr>\n",
       "    <tr>\n",
       "      <th>118</th>\n",
       "      <td>45</td>\n",
       "      <td>Gymnasium</td>\n",
       "      <td>CJD Christophorusschulen Berchtes- gaden - Gym...</td>\n",
       "      <td>Am Dürreck 4</td>\n",
       "      <td>83471</td>\n",
       "      <td>Schönau a.Königssee</td>\n",
       "      <td>www.gymnasium-bgd.de</td>\n",
       "      <td>/schule/0045.html</td>\n",
       "      <td>47.601303</td>\n",
       "      <td>13.024647</td>\n",
       "      <td>star</td>\n",
       "      <td>#FF0000</td>\n",
       "      <td>NaN</td>\n",
       "      <td>NaN</td>\n",
       "    </tr>\n",
       "    <tr>\n",
       "      <th>119</th>\n",
       "      <td>319</td>\n",
       "      <td>Gymnasium</td>\n",
       "      <td>Luitpold-Gymnasium Wasserburg</td>\n",
       "      <td>Salzburger Str. 11</td>\n",
       "      <td>83512</td>\n",
       "      <td>Wasserburg a.Inn</td>\n",
       "      <td>www.gymnasium-wasserburg.de</td>\n",
       "      <td>/schule/0319.html</td>\n",
       "      <td>48.055506</td>\n",
       "      <td>12.231179</td>\n",
       "      <td>star</td>\n",
       "      <td>#FF0000</td>\n",
       "      <td>NaN</td>\n",
       "      <td>NaN</td>\n",
       "    </tr>\n",
       "    <tr>\n",
       "      <th>129</th>\n",
       "      <td>122</td>\n",
       "      <td>Gymnasium</td>\n",
       "      <td>Gymnasium Ergolding</td>\n",
       "      <td>Am Sportpark 8</td>\n",
       "      <td>84030</td>\n",
       "      <td>Ergolding</td>\n",
       "      <td>www.gymnasium-ergolding.de</td>\n",
       "      <td>/schule/0122.html</td>\n",
       "      <td>48.563129</td>\n",
       "      <td>12.173765</td>\n",
       "      <td>star</td>\n",
       "      <td>#FF0000</td>\n",
       "      <td>NaN</td>\n",
       "      <td>NaN</td>\n",
       "    </tr>\n",
       "    <tr>\n",
       "      <th>134</th>\n",
       "      <td>95</td>\n",
       "      <td>Gymnasium</td>\n",
       "      <td>Maristen-Gymnasium Furth</td>\n",
       "      <td>Klosterstr. 6</td>\n",
       "      <td>84095</td>\n",
       "      <td>Furth</td>\n",
       "      <td>www.maristen-gymnasium.de</td>\n",
       "      <td>/schule/0095.html</td>\n",
       "      <td>48.592706</td>\n",
       "      <td>12.027378</td>\n",
       "      <td>star</td>\n",
       "      <td>#FF0000</td>\n",
       "      <td>NaN</td>\n",
       "      <td>NaN</td>\n",
       "    </tr>\n",
       "    <tr>\n",
       "      <th>161</th>\n",
       "      <td>973</td>\n",
       "      <td>Gymnasium</td>\n",
       "      <td>Hallertau-Gymnasium Wolnzach</td>\n",
       "      <td>Anton-Dost-Str. 10</td>\n",
       "      <td>85283</td>\n",
       "      <td>Wolnzach</td>\n",
       "      <td>www.hgw.bayern</td>\n",
       "      <td>/schule/0973.html</td>\n",
       "      <td>48.591463</td>\n",
       "      <td>11.637453</td>\n",
       "      <td>star</td>\n",
       "      <td>#FF0000</td>\n",
       "      <td>NaN</td>\n",
       "      <td>NaN</td>\n",
       "    </tr>\n",
       "    <tr>\n",
       "      <th>193</th>\n",
       "      <td>137</td>\n",
       "      <td>Gymnasium</td>\n",
       "      <td>Gymnasium Königsbrunn</td>\n",
       "      <td>Alter Postweg 3</td>\n",
       "      <td>86343</td>\n",
       "      <td>Königsbrunn</td>\n",
       "      <td>www.gymnasiumkoenigsbrunn.de</td>\n",
       "      <td>/schule/0137.html</td>\n",
       "      <td>48.269460</td>\n",
       "      <td>10.883522</td>\n",
       "      <td>star</td>\n",
       "      <td>#FF0000</td>\n",
       "      <td>NaN</td>\n",
       "      <td>NaN</td>\n",
       "    </tr>\n",
       "    <tr>\n",
       "      <th>199</th>\n",
       "      <td>315</td>\n",
       "      <td>Gymnasium</td>\n",
       "      <td>Ringeisen-Gymnasium der St. Josefskongregation...</td>\n",
       "      <td>Josefsplatz 1</td>\n",
       "      <td>86513</td>\n",
       "      <td>Ursberg</td>\n",
       "      <td>www.ringeisen-gymnasium.de</td>\n",
       "      <td>/schule/0315.html</td>\n",
       "      <td>48.266230</td>\n",
       "      <td>10.445730</td>\n",
       "      <td>star</td>\n",
       "      <td>#FF0000</td>\n",
       "      <td>NaN</td>\n",
       "      <td>NaN</td>\n",
       "    </tr>\n",
       "    <tr>\n",
       "      <th>203</th>\n",
       "      <td>221</td>\n",
       "      <td>Gymnasium</td>\n",
       "      <td>Descartes-Gymnasium Neuburg a.d.Donau</td>\n",
       "      <td>Frauenplatz B 88</td>\n",
       "      <td>86633</td>\n",
       "      <td>Neuburg a.d.Donau</td>\n",
       "      <td>www.descartes-gym.de</td>\n",
       "      <td>/schule/0221.html</td>\n",
       "      <td>48.735708</td>\n",
       "      <td>11.175569</td>\n",
       "      <td>star</td>\n",
       "      <td>#FF0000</td>\n",
       "      <td>NaN</td>\n",
       "      <td>NaN</td>\n",
       "    </tr>\n",
       "    <tr>\n",
       "      <th>204</th>\n",
       "      <td>364</td>\n",
       "      <td>Gymnasium</td>\n",
       "      <td>Gymnasium Wertingen</td>\n",
       "      <td>Pestalozzistr. 12</td>\n",
       "      <td>86637</td>\n",
       "      <td>Wertingen</td>\n",
       "      <td>www.gymnasium-wertingen.de</td>\n",
       "      <td>/schule/0364.html</td>\n",
       "      <td>48.565041</td>\n",
       "      <td>10.682389</td>\n",
       "      <td>star</td>\n",
       "      <td>#FF0000</td>\n",
       "      <td>NaN</td>\n",
       "      <td>NaN</td>\n",
       "    </tr>\n",
       "    <tr>\n",
       "      <th>206</th>\n",
       "      <td>248</td>\n",
       "      <td>Gymnasium</td>\n",
       "      <td>Albrecht-Ernst-Gymnasium Oettingen</td>\n",
       "      <td>Goethestr. 36</td>\n",
       "      <td>86732</td>\n",
       "      <td>Oettingen i.Bay.</td>\n",
       "      <td>www.gymnasiumoettingen.de</td>\n",
       "      <td>/schule/0248.html</td>\n",
       "      <td>48.952936</td>\n",
       "      <td>10.597305</td>\n",
       "      <td>star</td>\n",
       "      <td>#FF0000</td>\n",
       "      <td>NaN</td>\n",
       "      <td>NaN</td>\n",
       "    </tr>\n",
       "    <tr>\n",
       "      <th>218</th>\n",
       "      <td>133</td>\n",
       "      <td>Gymnasium</td>\n",
       "      <td>Carl-von-Linde-Gymnasium Kempten</td>\n",
       "      <td>Haubensteigweg 10</td>\n",
       "      <td>87439</td>\n",
       "      <td>Kempten (Allgäu)</td>\n",
       "      <td>www.cvl-kempten.de</td>\n",
       "      <td>/schule/0133.html</td>\n",
       "      <td>47.727869</td>\n",
       "      <td>10.303196</td>\n",
       "      <td>star</td>\n",
       "      <td>#FF0000</td>\n",
       "      <td>NaN</td>\n",
       "      <td>NaN</td>\n",
       "    </tr>\n",
       "    <tr>\n",
       "      <th>227</th>\n",
       "      <td>119</td>\n",
       "      <td>Gymnasium</td>\n",
       "      <td>Gymnasium Hohenschwangau</td>\n",
       "      <td>Colomanstr. 10</td>\n",
       "      <td>87645</td>\n",
       "      <td>Schwangau</td>\n",
       "      <td>www.gymnasium-hohenschwangau.de</td>\n",
       "      <td>/schule/0119.html</td>\n",
       "      <td>47.558613</td>\n",
       "      <td>10.742900</td>\n",
       "      <td>star</td>\n",
       "      <td>#FF0000</td>\n",
       "      <td>NaN</td>\n",
       "      <td>NaN</td>\n",
       "    </tr>\n",
       "    <tr>\n",
       "      <th>231</th>\n",
       "      <td>249</td>\n",
       "      <td>Gymnasium</td>\n",
       "      <td>Rupert-Ness-Gymnasium Ottobeuren</td>\n",
       "      <td>Bergstr. 80</td>\n",
       "      <td>87724</td>\n",
       "      <td>Ottobeuren</td>\n",
       "      <td>www.gym-rs-ottobeuren.de</td>\n",
       "      <td>/schule/0249.html</td>\n",
       "      <td>47.946490</td>\n",
       "      <td>10.297000</td>\n",
       "      <td>star</td>\n",
       "      <td>#FF0000</td>\n",
       "      <td>NaN</td>\n",
       "      <td>NaN</td>\n",
       "    </tr>\n",
       "    <tr>\n",
       "      <th>232</th>\n",
       "      <td>51</td>\n",
       "      <td>Gymnasium</td>\n",
       "      <td>Marianum Buxheim Gymnasium des Schulwerks der ...</td>\n",
       "      <td>An der Kartause 3</td>\n",
       "      <td>87740</td>\n",
       "      <td>Buxheim</td>\n",
       "      <td>www.marianum.info</td>\n",
       "      <td>/schule/0051.html</td>\n",
       "      <td>47.998323</td>\n",
       "      <td>10.132733</td>\n",
       "      <td>star</td>\n",
       "      <td>#FF0000</td>\n",
       "      <td>NaN</td>\n",
       "      <td>NaN</td>\n",
       "    </tr>\n",
       "    <tr>\n",
       "      <th>235</th>\n",
       "      <td>156</td>\n",
       "      <td>Gymnasium</td>\n",
       "      <td>Gymnasium Lindenberg i.Allgäu</td>\n",
       "      <td>Blumenstr. 12</td>\n",
       "      <td>88161</td>\n",
       "      <td>Lindenberg i.Allgäu</td>\n",
       "      <td>www.gymlindenberg.de</td>\n",
       "      <td>/schule/0156.html</td>\n",
       "      <td>47.601034</td>\n",
       "      <td>9.882540</td>\n",
       "      <td>star</td>\n",
       "      <td>#FF0000</td>\n",
       "      <td>NaN</td>\n",
       "      <td>NaN</td>\n",
       "    </tr>\n",
       "    <tr>\n",
       "      <th>237</th>\n",
       "      <td>285</td>\n",
       "      <td>Gymnasium</td>\n",
       "      <td>Bertha-von-Suttner-Gymnasium Neu-Ulm</td>\n",
       "      <td>Heerstr. 117</td>\n",
       "      <td>89233</td>\n",
       "      <td>Neu-Ulm</td>\n",
       "      <td>https://www.bvsg-nu.info</td>\n",
       "      <td>/schule/0285.html</td>\n",
       "      <td>48.413549</td>\n",
       "      <td>10.052394</td>\n",
       "      <td>star</td>\n",
       "      <td>#FF0000</td>\n",
       "      <td>NaN</td>\n",
       "      <td>NaN</td>\n",
       "    </tr>\n",
       "    <tr>\n",
       "      <th>244</th>\n",
       "      <td>327</td>\n",
       "      <td>Gymnasium</td>\n",
       "      <td>St.-Thomas-Gymnasium Wettenhausen d. Schulwerk...</td>\n",
       "      <td>St.-Thomas-Weg 2</td>\n",
       "      <td>89358</td>\n",
       "      <td>Kammeltal</td>\n",
       "      <td>www.thomas-gymnasium.de</td>\n",
       "      <td>/schule/0327.html</td>\n",
       "      <td>48.398005</td>\n",
       "      <td>10.361568</td>\n",
       "      <td>star</td>\n",
       "      <td>#FF0000</td>\n",
       "      <td>NaN</td>\n",
       "      <td>NaN</td>\n",
       "    </tr>\n",
       "    <tr>\n",
       "      <th>245</th>\n",
       "      <td>60</td>\n",
       "      <td>Gymnasium</td>\n",
       "      <td>Johann-Michael-Sailer-Gymnasium Dillingen</td>\n",
       "      <td>Ziegelstr. 8</td>\n",
       "      <td>89407</td>\n",
       "      <td>Dillingen a.d.Donau</td>\n",
       "      <td>www.sailer-gymnasium.de</td>\n",
       "      <td>/schule/0060.html</td>\n",
       "      <td>48.577090</td>\n",
       "      <td>10.486990</td>\n",
       "      <td>star</td>\n",
       "      <td>#FF0000</td>\n",
       "      <td>NaN</td>\n",
       "      <td>NaN</td>\n",
       "    </tr>\n",
       "    <tr>\n",
       "      <th>246</th>\n",
       "      <td>61</td>\n",
       "      <td>Gymnasium</td>\n",
       "      <td>St.-Bonaventura-Gymnasium Dillingen des Schulw...</td>\n",
       "      <td>Konviktstr. 11a</td>\n",
       "      <td>89407</td>\n",
       "      <td>Dillingen a.d.Donau</td>\n",
       "      <td>www.bonaventura-gymnasium.de</td>\n",
       "      <td>/schule/0061.html</td>\n",
       "      <td>48.578790</td>\n",
       "      <td>10.494252</td>\n",
       "      <td>star</td>\n",
       "      <td>#FF0000</td>\n",
       "      <td>NaN</td>\n",
       "      <td>NaN</td>\n",
       "    </tr>\n",
       "    <tr>\n",
       "      <th>247</th>\n",
       "      <td>151</td>\n",
       "      <td>Gymnasium</td>\n",
       "      <td>Albertus-Gymnasium Lauingen</td>\n",
       "      <td>Brüderstr. 10</td>\n",
       "      <td>89415</td>\n",
       "      <td>Lauingen (Donau)</td>\n",
       "      <td>www.albertus-gymnasium.de</td>\n",
       "      <td>/schule/0151.html</td>\n",
       "      <td>48.572634</td>\n",
       "      <td>10.430497</td>\n",
       "      <td>star</td>\n",
       "      <td>#FF0000</td>\n",
       "      <td>NaN</td>\n",
       "      <td>NaN</td>\n",
       "    </tr>\n",
       "    <tr>\n",
       "      <th>319</th>\n",
       "      <td>247</td>\n",
       "      <td>Gymnasium</td>\n",
       "      <td>Ortenburg-Gymnasium Oberviechtach</td>\n",
       "      <td>Jahnstr. 18</td>\n",
       "      <td>92526</td>\n",
       "      <td>Oberviechtach</td>\n",
       "      <td>www.ortenburg-gymnasium.de</td>\n",
       "      <td>/schule/0247.html</td>\n",
       "      <td>49.457349</td>\n",
       "      <td>12.409838</td>\n",
       "      <td>star</td>\n",
       "      <td>#FF0000</td>\n",
       "      <td>NaN</td>\n",
       "      <td>NaN</td>\n",
       "    </tr>\n",
       "    <tr>\n",
       "      <th>338</th>\n",
       "      <td>131</td>\n",
       "      <td>Gymnasium</td>\n",
       "      <td>Donau-Gymnasium Kelheim</td>\n",
       "      <td>Rennweg 61</td>\n",
       "      <td>93309</td>\n",
       "      <td>Kelheim</td>\n",
       "      <td>www.donau-gymnasium.de</td>\n",
       "      <td>/schule/0131.html</td>\n",
       "      <td>48.914782</td>\n",
       "      <td>11.888345</td>\n",
       "      <td>star</td>\n",
       "      <td>#FF0000</td>\n",
       "      <td>NaN</td>\n",
       "      <td>NaN</td>\n",
       "    </tr>\n",
       "    <tr>\n",
       "      <th>339</th>\n",
       "      <td>272</td>\n",
       "      <td>Gymnasium</td>\n",
       "      <td>Johannes-Nepomuk-Gymnasium der Benediktiner Ro...</td>\n",
       "      <td>Abt-Dominik-Prokop-Platz 1</td>\n",
       "      <td>93352</td>\n",
       "      <td>Rohr i.NB</td>\n",
       "      <td>www.jngrohr.de</td>\n",
       "      <td>/schule/0272.html</td>\n",
       "      <td>48.768933</td>\n",
       "      <td>11.966274</td>\n",
       "      <td>star</td>\n",
       "      <td>#FF0000</td>\n",
       "      <td>NaN</td>\n",
       "      <td>NaN</td>\n",
       "    </tr>\n",
       "    <tr>\n",
       "      <th>348</th>\n",
       "      <td>318</td>\n",
       "      <td>Gymnasium</td>\n",
       "      <td>Johannes-Gutenberg-Gymnasium Waldkirchen</td>\n",
       "      <td>Schulstr. 2</td>\n",
       "      <td>94065</td>\n",
       "      <td>Waldkirchen</td>\n",
       "      <td>www.jgg-waldkirchen.de</td>\n",
       "      <td>/schule/0318.html</td>\n",
       "      <td>48.727880</td>\n",
       "      <td>13.607000</td>\n",
       "      <td>star</td>\n",
       "      <td>#FF0000</td>\n",
       "      <td>NaN</td>\n",
       "      <td>NaN</td>\n",
       "    </tr>\n",
       "    <tr>\n",
       "      <th>349</th>\n",
       "      <td>88</td>\n",
       "      <td>Gymnasium</td>\n",
       "      <td>Gymnasium Freyung</td>\n",
       "      <td>St.-Gunther-Str. 52</td>\n",
       "      <td>94078</td>\n",
       "      <td>Freyung</td>\n",
       "      <td>www.gymnasium-freyung.de</td>\n",
       "      <td>/schule/0088.html</td>\n",
       "      <td>48.812390</td>\n",
       "      <td>13.554734</td>\n",
       "      <td>star</td>\n",
       "      <td>#FF0000</td>\n",
       "      <td>NaN</td>\n",
       "      <td>NaN</td>\n",
       "    </tr>\n",
       "    <tr>\n",
       "      <th>351</th>\n",
       "      <td>312</td>\n",
       "      <td>Gymnasium</td>\n",
       "      <td>Gymnasium Untergriesbach</td>\n",
       "      <td>Bgm.-Kainz-Str. 12</td>\n",
       "      <td>94107</td>\n",
       "      <td>Untergriesbach</td>\n",
       "      <td>www.gymnasium-untergriesbach.de</td>\n",
       "      <td>/schule/0312.html</td>\n",
       "      <td>48.578102</td>\n",
       "      <td>13.663228</td>\n",
       "      <td>star</td>\n",
       "      <td>#FF0000</td>\n",
       "      <td>NaN</td>\n",
       "      <td>NaN</td>\n",
       "    </tr>\n",
       "    <tr>\n",
       "      <th>352</th>\n",
       "      <td>341</td>\n",
       "      <td>Gymnasium</td>\n",
       "      <td>Gymnasium Zwiesel</td>\n",
       "      <td>Dr.-Schott-Str. 54</td>\n",
       "      <td>94227</td>\n",
       "      <td>Zwiesel</td>\n",
       "      <td>www.gymnasium-zwiesel.de</td>\n",
       "      <td>/schule/0341.html</td>\n",
       "      <td>49.018489</td>\n",
       "      <td>13.228087</td>\n",
       "      <td>star</td>\n",
       "      <td>#FF0000</td>\n",
       "      <td>NaN</td>\n",
       "      <td>NaN</td>\n",
       "    </tr>\n",
       "    <tr>\n",
       "      <th>363</th>\n",
       "      <td>105</td>\n",
       "      <td>Gymnasium</td>\n",
       "      <td>Landgraf-Leuchtenberg-Gymnasium Grafenau</td>\n",
       "      <td>Rachelweg 18</td>\n",
       "      <td>94481</td>\n",
       "      <td>Grafenau</td>\n",
       "      <td>www.llg-grafenau.de</td>\n",
       "      <td>/schule/0105.html</td>\n",
       "      <td>48.862723</td>\n",
       "      <td>13.400742</td>\n",
       "      <td>star</td>\n",
       "      <td>#FF0000</td>\n",
       "      <td>NaN</td>\n",
       "      <td>NaN</td>\n",
       "    </tr>\n",
       "    <tr>\n",
       "      <th>364</th>\n",
       "      <td>166</td>\n",
       "      <td>Gymnasium</td>\n",
       "      <td>St.-Michaels-Gymnasium der Benediktiner Metten</td>\n",
       "      <td>Abteistr. 3</td>\n",
       "      <td>94526</td>\n",
       "      <td>Metten</td>\n",
       "      <td>www.kloster-metten.de</td>\n",
       "      <td>/schule/0166.html</td>\n",
       "      <td>48.855440</td>\n",
       "      <td>12.917540</td>\n",
       "      <td>star</td>\n",
       "      <td>#FF0000</td>\n",
       "      <td>NaN</td>\n",
       "      <td>NaN</td>\n",
       "    </tr>\n",
       "    <tr>\n",
       "      <th>365</th>\n",
       "      <td>228</td>\n",
       "      <td>Gymnasium</td>\n",
       "      <td>St.-Gotthard-Gymnasium der Benediktiner Nieder...</td>\n",
       "      <td>Hengersberger Str. 19</td>\n",
       "      <td>94557</td>\n",
       "      <td>Niederalteich</td>\n",
       "      <td>www.st-gotthard-gymnasium.de</td>\n",
       "      <td>/schule/0228.html</td>\n",
       "      <td>48.766594</td>\n",
       "      <td>13.030590</td>\n",
       "      <td>star</td>\n",
       "      <td>#FF0000</td>\n",
       "      <td>NaN</td>\n",
       "      <td>NaN</td>\n",
       "    </tr>\n",
       "    <tr>\n",
       "      <th>380</th>\n",
       "      <td>340</td>\n",
       "      <td>Gymnasium</td>\n",
       "      <td>Luisenburg-Gymnasium Wunsiedel</td>\n",
       "      <td>Burggraf-Friedrich-Str. 9</td>\n",
       "      <td>95632</td>\n",
       "      <td>Wunsiedel</td>\n",
       "      <td>www.lugy.de</td>\n",
       "      <td>/schule/0340.html</td>\n",
       "      <td>50.035567</td>\n",
       "      <td>12.003128</td>\n",
       "      <td>star</td>\n",
       "      <td>#FF0000</td>\n",
       "      <td>NaN</td>\n",
       "      <td>NaN</td>\n",
       "    </tr>\n",
       "    <tr>\n",
       "      <th>381</th>\n",
       "      <td>303</td>\n",
       "      <td>Gymnasium</td>\n",
       "      <td>Stiftland-Gymnasium Tirschenreuth</td>\n",
       "      <td>Stiftlandring 1</td>\n",
       "      <td>95643</td>\n",
       "      <td>Tirschenreuth</td>\n",
       "      <td>www.stiftland-gymnasium.de</td>\n",
       "      <td>/schule/0303.html</td>\n",
       "      <td>49.888601</td>\n",
       "      <td>12.324561</td>\n",
       "      <td>star</td>\n",
       "      <td>#FF0000</td>\n",
       "      <td>NaN</td>\n",
       "      <td>NaN</td>\n",
       "    </tr>\n",
       "    <tr>\n",
       "      <th>431</th>\n",
       "      <td>25</td>\n",
       "      <td>Gymnasium</td>\n",
       "      <td>Franz-Miltenberger-Gymnasium Bad Brückenau</td>\n",
       "      <td>Römershager Str. 27</td>\n",
       "      <td>97769</td>\n",
       "      <td>Bad Brückenau</td>\n",
       "      <td>www.fmg-brk.de</td>\n",
       "      <td>/schule/0025.html</td>\n",
       "      <td>50.319955</td>\n",
       "      <td>9.814007</td>\n",
       "      <td>star</td>\n",
       "      <td>#FF0000</td>\n",
       "      <td>NaN</td>\n",
       "      <td>NaN</td>\n",
       "    </tr>\n",
       "    <tr>\n",
       "      <th>443</th>\n",
       "      <td>1051</td>\n",
       "      <td>Freie Waldorfschule</td>\n",
       "      <td>Freie Schule Unterneukirchen, priv. Grundschul...</td>\n",
       "      <td>Hilger 1</td>\n",
       "      <td>84579</td>\n",
       "      <td>Unterneukirchen</td>\n",
       "      <td>www.freie-waldorfschule-erlbach.de</td>\n",
       "      <td>/schule/1051.html</td>\n",
       "      <td>48.155788</td>\n",
       "      <td>12.616683</td>\n",
       "      <td>star</td>\n",
       "      <td>#FF0000</td>\n",
       "      <td>NaN</td>\n",
       "      <td>NaN</td>\n",
       "    </tr>\n",
       "    <tr>\n",
       "      <th>446</th>\n",
       "      <td>1020</td>\n",
       "      <td>Freie Waldorfschule</td>\n",
       "      <td>Freie Waldorfschule Augsburg der Freien Waldor...</td>\n",
       "      <td>Dr.-Schmelzing-Str. 52</td>\n",
       "      <td>86169</td>\n",
       "      <td>Augsburg</td>\n",
       "      <td>www.waldorf-augsburg.de</td>\n",
       "      <td>/schule/1020.html</td>\n",
       "      <td>48.396156</td>\n",
       "      <td>10.906192</td>\n",
       "      <td>star</td>\n",
       "      <td>#FF0000</td>\n",
       "      <td>NaN</td>\n",
       "      <td>NaN</td>\n",
       "    </tr>\n",
       "    <tr>\n",
       "      <th>447</th>\n",
       "      <td>1049</td>\n",
       "      <td>Freie Waldorfschule</td>\n",
       "      <td>Freie Schule Lech-Donau einheitl. Grund- u.höh...</td>\n",
       "      <td>Schulstr. 18</td>\n",
       "      <td>86647</td>\n",
       "      <td>Buttenwiesen</td>\n",
       "      <td>www.lech-donau.de</td>\n",
       "      <td>/schule/1049.html</td>\n",
       "      <td>48.624810</td>\n",
       "      <td>10.749200</td>\n",
       "      <td>star</td>\n",
       "      <td>#FF0000</td>\n",
       "      <td>NaN</td>\n",
       "      <td>NaN</td>\n",
       "    </tr>\n",
       "    <tr>\n",
       "      <th>449</th>\n",
       "      <td>1021</td>\n",
       "      <td>Freie Waldorfschule</td>\n",
       "      <td>Freie Schule Albris in Buchenberg, einheitlich...</td>\n",
       "      <td>Albris 231</td>\n",
       "      <td>87474</td>\n",
       "      <td>Buchenberg</td>\n",
       "      <td>www.freie-schule-albris.de</td>\n",
       "      <td>/schule/1021.html</td>\n",
       "      <td>47.696794</td>\n",
       "      <td>10.273050</td>\n",
       "      <td>star</td>\n",
       "      <td>#FF0000</td>\n",
       "      <td>NaN</td>\n",
       "      <td>NaN</td>\n",
       "    </tr>\n",
       "    <tr>\n",
       "      <th>455</th>\n",
       "      <td>1022</td>\n",
       "      <td>Freie Waldorfschule</td>\n",
       "      <td>Freie Waldorfschule Wernstein des Junger Main ...</td>\n",
       "      <td>Am Eisweiher 1</td>\n",
       "      <td>95336</td>\n",
       "      <td>Mainleus</td>\n",
       "      <td>www.schule-wernstein.de</td>\n",
       "      <td>/schule/1022.html</td>\n",
       "      <td>50.120499</td>\n",
       "      <td>11.395754</td>\n",
       "      <td>star</td>\n",
       "      <td>#FF0000</td>\n",
       "      <td>NaN</td>\n",
       "      <td>NaN</td>\n",
       "    </tr>\n",
       "    <tr>\n",
       "      <th>456</th>\n",
       "      <td>1037</td>\n",
       "      <td>Freie Waldorfschule</td>\n",
       "      <td>Rudolf-Steiner-Schule Coburg</td>\n",
       "      <td>Callenberg 12</td>\n",
       "      <td>96450</td>\n",
       "      <td>Coburg</td>\n",
       "      <td>www.waldorfschule-coburg.de</td>\n",
       "      <td>/schule/1037.html</td>\n",
       "      <td>50.281828</td>\n",
       "      <td>10.923013</td>\n",
       "      <td>star</td>\n",
       "      <td>#FF0000</td>\n",
       "      <td>NaN</td>\n",
       "      <td>NaN</td>\n",
       "    </tr>\n",
       "  </tbody>\n",
       "</table>\n",
       "</div>"
      ],
      "text/plain": [
       "     Schulnummer             Schultyp  \\\n",
       "97            78            Gymnasium   \n",
       "106          220            Gymnasium   \n",
       "108          162            Gymnasium   \n",
       "113          127            Gymnasium   \n",
       "118           45            Gymnasium   \n",
       "119          319            Gymnasium   \n",
       "129          122            Gymnasium   \n",
       "134           95            Gymnasium   \n",
       "161          973            Gymnasium   \n",
       "193          137            Gymnasium   \n",
       "199          315            Gymnasium   \n",
       "203          221            Gymnasium   \n",
       "204          364            Gymnasium   \n",
       "206          248            Gymnasium   \n",
       "218          133            Gymnasium   \n",
       "227          119            Gymnasium   \n",
       "231          249            Gymnasium   \n",
       "232           51            Gymnasium   \n",
       "235          156            Gymnasium   \n",
       "237          285            Gymnasium   \n",
       "244          327            Gymnasium   \n",
       "245           60            Gymnasium   \n",
       "246           61            Gymnasium   \n",
       "247          151            Gymnasium   \n",
       "319          247            Gymnasium   \n",
       "338          131            Gymnasium   \n",
       "339          272            Gymnasium   \n",
       "348          318            Gymnasium   \n",
       "349           88            Gymnasium   \n",
       "351          312            Gymnasium   \n",
       "352          341            Gymnasium   \n",
       "363          105            Gymnasium   \n",
       "364          166            Gymnasium   \n",
       "365          228            Gymnasium   \n",
       "380          340            Gymnasium   \n",
       "381          303            Gymnasium   \n",
       "431           25            Gymnasium   \n",
       "443         1051  Freie Waldorfschule   \n",
       "446         1020  Freie Waldorfschule   \n",
       "447         1049  Freie Waldorfschule   \n",
       "449         1021  Freie Waldorfschule   \n",
       "455         1022  Freie Waldorfschule   \n",
       "456         1037  Freie Waldorfschule   \n",
       "\n",
       "                                                  Name  \\\n",
       "97                      Benediktinergymnasium Ettal      \n",
       "106  Schloss Neubeuern - Gymnasium Internatsschule ...   \n",
       "108            Gymnasium Landschulheim Marquartstein     \n",
       "113  Landschulheim Schloß Ising am Chiemsee des Zwe...   \n",
       "118  CJD Christophorusschulen Berchtes- gaden - Gym...   \n",
       "119                   Luitpold-Gymnasium Wasserburg      \n",
       "129                             Gymnasium Ergolding      \n",
       "134                        Maristen-Gymnasium Furth      \n",
       "161                    Hallertau-Gymnasium Wolnzach      \n",
       "193                           Gymnasium Königsbrunn      \n",
       "199  Ringeisen-Gymnasium der St. Josefskongregation...   \n",
       "203            Descartes-Gymnasium Neuburg a.d.Donau     \n",
       "204                             Gymnasium Wertingen      \n",
       "206              Albrecht-Ernst-Gymnasium Oettingen      \n",
       "218                Carl-von-Linde-Gymnasium Kempten      \n",
       "227                        Gymnasium Hohenschwangau      \n",
       "231                 Rupert-Ness-Gymnasium Ottobeuren     \n",
       "232  Marianum Buxheim Gymnasium des Schulwerks der ...   \n",
       "235                   Gymnasium Lindenberg i.Allgäu      \n",
       "237             Bertha-von-Suttner-Gymnasium Neu-Ulm     \n",
       "244  St.-Thomas-Gymnasium Wettenhausen d. Schulwerk...   \n",
       "245        Johann-Michael-Sailer-Gymnasium Dillingen     \n",
       "246  St.-Bonaventura-Gymnasium Dillingen des Schulw...   \n",
       "247                     Albertus-Gymnasium Lauingen      \n",
       "319               Ortenburg-Gymnasium Oberviechtach      \n",
       "338                         Donau-Gymnasium Kelheim      \n",
       "339  Johannes-Nepomuk-Gymnasium der Benediktiner Ro...   \n",
       "348         Johannes-Gutenberg-Gymnasium Waldkirchen     \n",
       "349                               Gymnasium Freyung      \n",
       "351                        Gymnasium Untergriesbach      \n",
       "352                               Gymnasium Zwiesel      \n",
       "363         Landgraf-Leuchtenberg-Gymnasium Grafenau     \n",
       "364   St.-Michaels-Gymnasium der Benediktiner Metten     \n",
       "365  St.-Gotthard-Gymnasium der Benediktiner Nieder...   \n",
       "380                  Luisenburg-Gymnasium Wunsiedel      \n",
       "381               Stiftland-Gymnasium Tirschenreuth      \n",
       "431       Franz-Miltenberger-Gymnasium Bad Brückenau     \n",
       "443  Freie Schule Unterneukirchen, priv. Grundschul...   \n",
       "446  Freie Waldorfschule Augsburg der Freien Waldor...   \n",
       "447  Freie Schule Lech-Donau einheitl. Grund- u.höh...   \n",
       "449  Freie Schule Albris in Buchenberg, einheitlich...   \n",
       "455  Freie Waldorfschule Wernstein des Junger Main ...   \n",
       "456                    Rudolf-Steiner-Schule Coburg      \n",
       "\n",
       "                        Strasse    PLZ                  Ort  \\\n",
       "97        Kaiser-Ludwig-Platz 1  82488                Ettal   \n",
       "106               Schloßstr. 20  83115            Neubeuern   \n",
       "108              Neues Schloß 1  83250        Marquartstein   \n",
       "113                Schloßstr. 3  83339             Chieming   \n",
       "118                Am Dürreck 4  83471  Schönau a.Königssee   \n",
       "119          Salzburger Str. 11  83512     Wasserburg a.Inn   \n",
       "129              Am Sportpark 8  84030            Ergolding   \n",
       "134               Klosterstr. 6  84095                Furth   \n",
       "161          Anton-Dost-Str. 10  85283             Wolnzach   \n",
       "193             Alter Postweg 3  86343          Königsbrunn   \n",
       "199               Josefsplatz 1  86513              Ursberg   \n",
       "203            Frauenplatz B 88  86633    Neuburg a.d.Donau   \n",
       "204           Pestalozzistr. 12  86637            Wertingen   \n",
       "206               Goethestr. 36  86732     Oettingen i.Bay.   \n",
       "218           Haubensteigweg 10  87439     Kempten (Allgäu)   \n",
       "227              Colomanstr. 10  87645            Schwangau   \n",
       "231                 Bergstr. 80  87724           Ottobeuren   \n",
       "232           An der Kartause 3  87740              Buxheim   \n",
       "235               Blumenstr. 12  88161  Lindenberg i.Allgäu   \n",
       "237                Heerstr. 117  89233              Neu-Ulm   \n",
       "244            St.-Thomas-Weg 2  89358            Kammeltal   \n",
       "245                Ziegelstr. 8  89407  Dillingen a.d.Donau   \n",
       "246             Konviktstr. 11a  89407  Dillingen a.d.Donau   \n",
       "247               Brüderstr. 10  89415     Lauingen (Donau)   \n",
       "319                 Jahnstr. 18  92526        Oberviechtach   \n",
       "338                  Rennweg 61  93309              Kelheim   \n",
       "339  Abt-Dominik-Prokop-Platz 1  93352            Rohr i.NB   \n",
       "348                 Schulstr. 2  94065          Waldkirchen   \n",
       "349         St.-Gunther-Str. 52  94078              Freyung   \n",
       "351          Bgm.-Kainz-Str. 12  94107       Untergriesbach   \n",
       "352          Dr.-Schott-Str. 54  94227              Zwiesel   \n",
       "363                Rachelweg 18  94481             Grafenau   \n",
       "364                 Abteistr. 3  94526               Metten   \n",
       "365       Hengersberger Str. 19  94557        Niederalteich   \n",
       "380   Burggraf-Friedrich-Str. 9  95632            Wunsiedel   \n",
       "381             Stiftlandring 1  95643        Tirschenreuth   \n",
       "431         Römershager Str. 27  97769        Bad Brückenau   \n",
       "443                    Hilger 1  84579      Unterneukirchen   \n",
       "446      Dr.-Schmelzing-Str. 52  86169             Augsburg   \n",
       "447                Schulstr. 18  86647         Buttenwiesen   \n",
       "449                  Albris 231  87474           Buchenberg   \n",
       "455              Am Eisweiher 1  95336             Mainleus   \n",
       "456               Callenberg 12  96450               Coburg   \n",
       "\n",
       "                               Homepage               Link   latitude  \\\n",
       "97               www.ettal-gymnasium.de  /schule/0078.html  47.570052   \n",
       "106            www.schloss-neubeuern.de  /schule/0220.html  47.775316   \n",
       "108            www.lsh-marquartstein.de  /schule/0162.html  47.751815   \n",
       "113                         www.lshi.de  /schule/0127.html  47.923605   \n",
       "118                www.gymnasium-bgd.de  /schule/0045.html  47.601303   \n",
       "119         www.gymnasium-wasserburg.de  /schule/0319.html  48.055506   \n",
       "129          www.gymnasium-ergolding.de  /schule/0122.html  48.563129   \n",
       "134           www.maristen-gymnasium.de  /schule/0095.html  48.592706   \n",
       "161                      www.hgw.bayern  /schule/0973.html  48.591463   \n",
       "193        www.gymnasiumkoenigsbrunn.de  /schule/0137.html  48.269460   \n",
       "199          www.ringeisen-gymnasium.de  /schule/0315.html  48.266230   \n",
       "203                www.descartes-gym.de  /schule/0221.html  48.735708   \n",
       "204          www.gymnasium-wertingen.de  /schule/0364.html  48.565041   \n",
       "206           www.gymnasiumoettingen.de  /schule/0248.html  48.952936   \n",
       "218                  www.cvl-kempten.de  /schule/0133.html  47.727869   \n",
       "227     www.gymnasium-hohenschwangau.de  /schule/0119.html  47.558613   \n",
       "231            www.gym-rs-ottobeuren.de  /schule/0249.html  47.946490   \n",
       "232                   www.marianum.info  /schule/0051.html  47.998323   \n",
       "235                www.gymlindenberg.de  /schule/0156.html  47.601034   \n",
       "237            https://www.bvsg-nu.info  /schule/0285.html  48.413549   \n",
       "244             www.thomas-gymnasium.de  /schule/0327.html  48.398005   \n",
       "245             www.sailer-gymnasium.de  /schule/0060.html  48.577090   \n",
       "246        www.bonaventura-gymnasium.de  /schule/0061.html  48.578790   \n",
       "247           www.albertus-gymnasium.de  /schule/0151.html  48.572634   \n",
       "319          www.ortenburg-gymnasium.de  /schule/0247.html  49.457349   \n",
       "338              www.donau-gymnasium.de  /schule/0131.html  48.914782   \n",
       "339                      www.jngrohr.de  /schule/0272.html  48.768933   \n",
       "348              www.jgg-waldkirchen.de  /schule/0318.html  48.727880   \n",
       "349            www.gymnasium-freyung.de  /schule/0088.html  48.812390   \n",
       "351     www.gymnasium-untergriesbach.de  /schule/0312.html  48.578102   \n",
       "352            www.gymnasium-zwiesel.de  /schule/0341.html  49.018489   \n",
       "363                 www.llg-grafenau.de  /schule/0105.html  48.862723   \n",
       "364               www.kloster-metten.de  /schule/0166.html  48.855440   \n",
       "365        www.st-gotthard-gymnasium.de  /schule/0228.html  48.766594   \n",
       "380                         www.lugy.de  /schule/0340.html  50.035567   \n",
       "381          www.stiftland-gymnasium.de  /schule/0303.html  49.888601   \n",
       "431                      www.fmg-brk.de  /schule/0025.html  50.319955   \n",
       "443  www.freie-waldorfschule-erlbach.de  /schule/1051.html  48.155788   \n",
       "446             www.waldorf-augsburg.de  /schule/1020.html  48.396156   \n",
       "447                   www.lech-donau.de  /schule/1049.html  48.624810   \n",
       "449          www.freie-schule-albris.de  /schule/1021.html  47.696794   \n",
       "455             www.schule-wernstein.de  /schule/1022.html  50.120499   \n",
       "456         www.waldorfschule-coburg.de  /schule/1037.html  50.281828   \n",
       "\n",
       "     longitude marker-symbol marker-color  travel_duration_min  \\\n",
       "97   11.093568          star      #FF0000                  NaN   \n",
       "106  12.139214          star      #FF0000                  NaN   \n",
       "108  12.467224          star      #FF0000                  NaN   \n",
       "113  12.504792          star      #FF0000                  NaN   \n",
       "118  13.024647          star      #FF0000                  NaN   \n",
       "119  12.231179          star      #FF0000                  NaN   \n",
       "129  12.173765          star      #FF0000                  NaN   \n",
       "134  12.027378          star      #FF0000                  NaN   \n",
       "161  11.637453          star      #FF0000                  NaN   \n",
       "193  10.883522          star      #FF0000                  NaN   \n",
       "199  10.445730          star      #FF0000                  NaN   \n",
       "203  11.175569          star      #FF0000                  NaN   \n",
       "204  10.682389          star      #FF0000                  NaN   \n",
       "206  10.597305          star      #FF0000                  NaN   \n",
       "218  10.303196          star      #FF0000                  NaN   \n",
       "227  10.742900          star      #FF0000                  NaN   \n",
       "231  10.297000          star      #FF0000                  NaN   \n",
       "232  10.132733          star      #FF0000                  NaN   \n",
       "235   9.882540          star      #FF0000                  NaN   \n",
       "237  10.052394          star      #FF0000                  NaN   \n",
       "244  10.361568          star      #FF0000                  NaN   \n",
       "245  10.486990          star      #FF0000                  NaN   \n",
       "246  10.494252          star      #FF0000                  NaN   \n",
       "247  10.430497          star      #FF0000                  NaN   \n",
       "319  12.409838          star      #FF0000                  NaN   \n",
       "338  11.888345          star      #FF0000                  NaN   \n",
       "339  11.966274          star      #FF0000                  NaN   \n",
       "348  13.607000          star      #FF0000                  NaN   \n",
       "349  13.554734          star      #FF0000                  NaN   \n",
       "351  13.663228          star      #FF0000                  NaN   \n",
       "352  13.228087          star      #FF0000                  NaN   \n",
       "363  13.400742          star      #FF0000                  NaN   \n",
       "364  12.917540          star      #FF0000                  NaN   \n",
       "365  13.030590          star      #FF0000                  NaN   \n",
       "380  12.003128          star      #FF0000                  NaN   \n",
       "381  12.324561          star      #FF0000                  NaN   \n",
       "431   9.814007          star      #FF0000                  NaN   \n",
       "443  12.616683          star      #FF0000                  NaN   \n",
       "446  10.906192          star      #FF0000                  NaN   \n",
       "447  10.749200          star      #FF0000                  NaN   \n",
       "449  10.273050          star      #FF0000                  NaN   \n",
       "455  11.395754          star      #FF0000                  NaN   \n",
       "456  10.923013          star      #FF0000                  NaN   \n",
       "\n",
       "     travel_distance_km  \n",
       "97                  NaN  \n",
       "106                 NaN  \n",
       "108                 NaN  \n",
       "113                 NaN  \n",
       "118                 NaN  \n",
       "119                 NaN  \n",
       "129                 NaN  \n",
       "134                 NaN  \n",
       "161                 NaN  \n",
       "193                 NaN  \n",
       "199                 NaN  \n",
       "203                 NaN  \n",
       "204                 NaN  \n",
       "206                 NaN  \n",
       "218                 NaN  \n",
       "227                 NaN  \n",
       "231                 NaN  \n",
       "232                 NaN  \n",
       "235                 NaN  \n",
       "237                 NaN  \n",
       "244                 NaN  \n",
       "245                 NaN  \n",
       "246                 NaN  \n",
       "247                 NaN  \n",
       "319                 NaN  \n",
       "338                 NaN  \n",
       "339                 NaN  \n",
       "348                 NaN  \n",
       "349                 NaN  \n",
       "351                 NaN  \n",
       "352                 NaN  \n",
       "363                 NaN  \n",
       "364                 NaN  \n",
       "365                 NaN  \n",
       "380                 NaN  \n",
       "381                 NaN  \n",
       "431                 NaN  \n",
       "443                 NaN  \n",
       "446                 NaN  \n",
       "447                 NaN  \n",
       "449                 NaN  \n",
       "455                 NaN  \n",
       "456                 NaN  "
      ]
     },
     "execution_count": 29,
     "metadata": {},
     "output_type": "execute_result"
    }
   ],
   "source": [
    "print(\"No public transport to destination from the following schools:\")\n",
    "schools_of_interest[schools_of_interest.isna().any(axis=1)]"
   ]
  },
  {
   "cell_type": "code",
   "execution_count": 3,
   "id": "8c73c52b-fe13-4b43-8ff2-3e229ac428d0",
   "metadata": {},
   "outputs": [
    {
     "name": "stdout",
     "output_type": "stream",
     "text": [
      "(459, 14)\n",
      "(416, 14)\n"
     ]
    }
   ],
   "source": [
    "print(schools_of_interest.shape)\n",
    "schools_of_interest = schools_of_interest.dropna()\n",
    "print(schools_of_interest.shape)"
   ]
  },
  {
   "cell_type": "code",
   "execution_count": 31,
   "id": "2fd8a869-9632-4076-983d-65cbfa537834",
   "metadata": {
    "tags": []
   },
   "outputs": [
    {
     "data": {
      "text/html": [
       "<div>\n",
       "<style scoped>\n",
       "    .dataframe tbody tr th:only-of-type {\n",
       "        vertical-align: middle;\n",
       "    }\n",
       "\n",
       "    .dataframe tbody tr th {\n",
       "        vertical-align: top;\n",
       "    }\n",
       "\n",
       "    .dataframe thead th {\n",
       "        text-align: right;\n",
       "    }\n",
       "</style>\n",
       "<table border=\"1\" class=\"dataframe\">\n",
       "  <thead>\n",
       "    <tr style=\"text-align: right;\">\n",
       "      <th></th>\n",
       "      <th>Schulnummer</th>\n",
       "      <th>Schultyp</th>\n",
       "      <th>Name</th>\n",
       "      <th>Strasse</th>\n",
       "      <th>PLZ</th>\n",
       "      <th>Ort</th>\n",
       "      <th>Homepage</th>\n",
       "      <th>Link</th>\n",
       "      <th>latitude</th>\n",
       "      <th>longitude</th>\n",
       "      <th>marker-symbol</th>\n",
       "      <th>marker-color</th>\n",
       "      <th>travel_duration_min</th>\n",
       "      <th>travel_distance_km</th>\n",
       "    </tr>\n",
       "  </thead>\n",
       "  <tbody>\n",
       "    <tr>\n",
       "      <th>0</th>\n",
       "      <td>13</td>\n",
       "      <td>Gymnasium</td>\n",
       "      <td>Kronberg-Gymnasium Aschaffenburg</td>\n",
       "      <td>Fasaneriestr. 33</td>\n",
       "      <td>63739</td>\n",
       "      <td>Aschaffenburg</td>\n",
       "      <td>kronberg-gymnasium.de</td>\n",
       "      <td>/schule/0013.html</td>\n",
       "      <td>49.978355</td>\n",
       "      <td>9.163006</td>\n",
       "      <td>star</td>\n",
       "      <td>#FF0000</td>\n",
       "      <td>229.200000</td>\n",
       "      <td>385.023</td>\n",
       "    </tr>\n",
       "    <tr>\n",
       "      <th>1</th>\n",
       "      <td>15</td>\n",
       "      <td>Gymnasium</td>\n",
       "      <td>Karl-Theodor-von-Dalberg-Gymnasium Aschaffenbu...</td>\n",
       "      <td>Grünewaldstr. 18</td>\n",
       "      <td>63739</td>\n",
       "      <td>Aschaffenburg</td>\n",
       "      <td>www.dalberg-gymnasium.de/</td>\n",
       "      <td>/schule/0015.html</td>\n",
       "      <td>49.974711</td>\n",
       "      <td>9.160044</td>\n",
       "      <td>star</td>\n",
       "      <td>#FF0000</td>\n",
       "      <td>230.916667</td>\n",
       "      <td>384.690</td>\n",
       "    </tr>\n",
       "    <tr>\n",
       "      <th>2</th>\n",
       "      <td>16</td>\n",
       "      <td>Gymnasium</td>\n",
       "      <td>Maria-Ward-Schule Mädchengymnasium der Maria-W...</td>\n",
       "      <td>Brentanoplatz 8</td>\n",
       "      <td>63739</td>\n",
       "      <td>Aschaffenburg</td>\n",
       "      <td>mws-ab.de</td>\n",
       "      <td>/schule/0016.html</td>\n",
       "      <td>49.970230</td>\n",
       "      <td>9.153378</td>\n",
       "      <td>star</td>\n",
       "      <td>#FF0000</td>\n",
       "      <td>226.966667</td>\n",
       "      <td>384.927</td>\n",
       "    </tr>\n",
       "    <tr>\n",
       "      <th>3</th>\n",
       "      <td>14</td>\n",
       "      <td>Gymnasium</td>\n",
       "      <td>Friedrich-Dessauer-Gymnasium Aschaffenburg</td>\n",
       "      <td>Stadtbadstr. 4</td>\n",
       "      <td>63741</td>\n",
       "      <td>Aschaffenburg</td>\n",
       "      <td>https://www.fdg-online.de</td>\n",
       "      <td>/schule/0014.html</td>\n",
       "      <td>49.973891</td>\n",
       "      <td>9.132169</td>\n",
       "      <td>star</td>\n",
       "      <td>#FF0000</td>\n",
       "      <td>232.483333</td>\n",
       "      <td>385.696</td>\n",
       "    </tr>\n",
       "    <tr>\n",
       "      <th>4</th>\n",
       "      <td>3</td>\n",
       "      <td>Gymnasium</td>\n",
       "      <td>Spessart-Gymnasium Alzenau</td>\n",
       "      <td>Brentanostr. 55</td>\n",
       "      <td>63755</td>\n",
       "      <td>Alzenau</td>\n",
       "      <td>www.spessart-gymnasium.de</td>\n",
       "      <td>/schule/0003.html</td>\n",
       "      <td>50.091880</td>\n",
       "      <td>9.069813</td>\n",
       "      <td>star</td>\n",
       "      <td>#FF0000</td>\n",
       "      <td>261.883333</td>\n",
       "      <td>404.062</td>\n",
       "    </tr>\n",
       "    <tr>\n",
       "      <th>...</th>\n",
       "      <td>...</td>\n",
       "      <td>...</td>\n",
       "      <td>...</td>\n",
       "      <td>...</td>\n",
       "      <td>...</td>\n",
       "      <td>...</td>\n",
       "      <td>...</td>\n",
       "      <td>...</td>\n",
       "      <td>...</td>\n",
       "      <td>...</td>\n",
       "      <td>...</td>\n",
       "      <td>...</td>\n",
       "      <td>...</td>\n",
       "      <td>...</td>\n",
       "    </tr>\n",
       "    <tr>\n",
       "      <th>452</th>\n",
       "      <td>1034</td>\n",
       "      <td>Freie Waldorfschule</td>\n",
       "      <td>Freie Waldorfschule Erlangen</td>\n",
       "      <td>Rudolf-Steiner-Str. 2</td>\n",
       "      <td>91058</td>\n",
       "      <td>Erlangen</td>\n",
       "      <td>www.waldorfschule-erlangen.de</td>\n",
       "      <td>/schule/1034.html</td>\n",
       "      <td>49.560505</td>\n",
       "      <td>11.007372</td>\n",
       "      <td>star</td>\n",
       "      <td>#FF0000</td>\n",
       "      <td>137.516667</td>\n",
       "      <td>233.653</td>\n",
       "    </tr>\n",
       "    <tr>\n",
       "      <th>453</th>\n",
       "      <td>1009</td>\n",
       "      <td>Freie Waldorfschule</td>\n",
       "      <td>Freie Waldorfschule Regensburg des Trägerverei...</td>\n",
       "      <td>Unterislinger Weg 32</td>\n",
       "      <td>93053</td>\n",
       "      <td>Regensburg</td>\n",
       "      <td>www.waldorfschule-regensburg.de</td>\n",
       "      <td>/schule/1009.html</td>\n",
       "      <td>48.990288</td>\n",
       "      <td>12.111778</td>\n",
       "      <td>star</td>\n",
       "      <td>#FF0000</td>\n",
       "      <td>126.333333</td>\n",
       "      <td>146.495</td>\n",
       "    </tr>\n",
       "    <tr>\n",
       "      <th>454</th>\n",
       "      <td>1041</td>\n",
       "      <td>Freie Waldorfschule</td>\n",
       "      <td>Priv. Waldorfschule Hof</td>\n",
       "      <td>Kolpingshöhe 3</td>\n",
       "      <td>95032</td>\n",
       "      <td>Hof</td>\n",
       "      <td>www.waldorfschule-hof.de</td>\n",
       "      <td>/schule/1041.html</td>\n",
       "      <td>50.295264</td>\n",
       "      <td>11.917269</td>\n",
       "      <td>star</td>\n",
       "      <td>#FF0000</td>\n",
       "      <td>245.916667</td>\n",
       "      <td>392.322</td>\n",
       "    </tr>\n",
       "    <tr>\n",
       "      <th>457</th>\n",
       "      <td>1018</td>\n",
       "      <td>Freie Waldorfschule</td>\n",
       "      <td>Freie Waldorfschule Würzburg Schule nach der P...</td>\n",
       "      <td>Oberer Neubergweg 14</td>\n",
       "      <td>97074</td>\n",
       "      <td>Würzburg</td>\n",
       "      <td>www.waldorfschule-wuerzburg.de</td>\n",
       "      <td>/schule/1018.html</td>\n",
       "      <td>49.775292</td>\n",
       "      <td>9.951761</td>\n",
       "      <td>star</td>\n",
       "      <td>#FF0000</td>\n",
       "      <td>194.600000</td>\n",
       "      <td>309.417</td>\n",
       "    </tr>\n",
       "    <tr>\n",
       "      <th>458</th>\n",
       "      <td>1045</td>\n",
       "      <td>Freie Waldorfschule</td>\n",
       "      <td>Freie Waldorfschule in den Mainauen Haßfurt de...</td>\n",
       "      <td>Am Ziegelbrunn 10</td>\n",
       "      <td>97437</td>\n",
       "      <td>Haßfurt</td>\n",
       "      <td>www.waldorfschule-hassfurt.de</td>\n",
       "      <td>/schule/1045.html</td>\n",
       "      <td>50.030300</td>\n",
       "      <td>10.514490</td>\n",
       "      <td>star</td>\n",
       "      <td>#FF0000</td>\n",
       "      <td>159.300000</td>\n",
       "      <td>297.544</td>\n",
       "    </tr>\n",
       "  </tbody>\n",
       "</table>\n",
       "<p>416 rows × 14 columns</p>\n",
       "</div>"
      ],
      "text/plain": [
       "     Schulnummer             Schultyp  \\\n",
       "0             13            Gymnasium   \n",
       "1             15            Gymnasium   \n",
       "2             16            Gymnasium   \n",
       "3             14            Gymnasium   \n",
       "4              3            Gymnasium   \n",
       "..           ...                  ...   \n",
       "452         1034  Freie Waldorfschule   \n",
       "453         1009  Freie Waldorfschule   \n",
       "454         1041  Freie Waldorfschule   \n",
       "457         1018  Freie Waldorfschule   \n",
       "458         1045  Freie Waldorfschule   \n",
       "\n",
       "                                                  Name                Strasse  \\\n",
       "0                  Kronberg-Gymnasium Aschaffenburg          Fasaneriestr. 33   \n",
       "1    Karl-Theodor-von-Dalberg-Gymnasium Aschaffenbu...       Grünewaldstr. 18   \n",
       "2    Maria-Ward-Schule Mädchengymnasium der Maria-W...        Brentanoplatz 8   \n",
       "3         Friedrich-Dessauer-Gymnasium Aschaffenburg           Stadtbadstr. 4   \n",
       "4                        Spessart-Gymnasium Alzenau           Brentanostr. 55   \n",
       "..                                                 ...                    ...   \n",
       "452                    Freie Waldorfschule Erlangen     Rudolf-Steiner-Str. 2   \n",
       "453  Freie Waldorfschule Regensburg des Trägerverei...   Unterislinger Weg 32   \n",
       "454                         Priv. Waldorfschule Hof            Kolpingshöhe 3   \n",
       "457  Freie Waldorfschule Würzburg Schule nach der P...   Oberer Neubergweg 14   \n",
       "458  Freie Waldorfschule in den Mainauen Haßfurt de...      Am Ziegelbrunn 10   \n",
       "\n",
       "       PLZ            Ort                         Homepage               Link  \\\n",
       "0    63739  Aschaffenburg            kronberg-gymnasium.de  /schule/0013.html   \n",
       "1    63739  Aschaffenburg        www.dalberg-gymnasium.de/  /schule/0015.html   \n",
       "2    63739  Aschaffenburg                        mws-ab.de  /schule/0016.html   \n",
       "3    63741  Aschaffenburg        https://www.fdg-online.de  /schule/0014.html   \n",
       "4    63755        Alzenau        www.spessart-gymnasium.de  /schule/0003.html   \n",
       "..     ...            ...                              ...                ...   \n",
       "452  91058       Erlangen    www.waldorfschule-erlangen.de  /schule/1034.html   \n",
       "453  93053     Regensburg  www.waldorfschule-regensburg.de  /schule/1009.html   \n",
       "454  95032            Hof         www.waldorfschule-hof.de  /schule/1041.html   \n",
       "457  97074       Würzburg   www.waldorfschule-wuerzburg.de  /schule/1018.html   \n",
       "458  97437        Haßfurt    www.waldorfschule-hassfurt.de  /schule/1045.html   \n",
       "\n",
       "      latitude  longitude marker-symbol marker-color  travel_duration_min  \\\n",
       "0    49.978355   9.163006          star      #FF0000           229.200000   \n",
       "1    49.974711   9.160044          star      #FF0000           230.916667   \n",
       "2    49.970230   9.153378          star      #FF0000           226.966667   \n",
       "3    49.973891   9.132169          star      #FF0000           232.483333   \n",
       "4    50.091880   9.069813          star      #FF0000           261.883333   \n",
       "..         ...        ...           ...          ...                  ...   \n",
       "452  49.560505  11.007372          star      #FF0000           137.516667   \n",
       "453  48.990288  12.111778          star      #FF0000           126.333333   \n",
       "454  50.295264  11.917269          star      #FF0000           245.916667   \n",
       "457  49.775292   9.951761          star      #FF0000           194.600000   \n",
       "458  50.030300  10.514490          star      #FF0000           159.300000   \n",
       "\n",
       "     travel_distance_km  \n",
       "0               385.023  \n",
       "1               384.690  \n",
       "2               384.927  \n",
       "3               385.696  \n",
       "4               404.062  \n",
       "..                  ...  \n",
       "452             233.653  \n",
       "453             146.495  \n",
       "454             392.322  \n",
       "457             309.417  \n",
       "458             297.544  \n",
       "\n",
       "[416 rows x 14 columns]"
      ]
     },
     "execution_count": 31,
     "metadata": {},
     "output_type": "execute_result"
    }
   ],
   "source": [
    "schools_of_interest"
   ]
  },
  {
   "cell_type": "code",
   "execution_count": 8,
   "id": "db53dccc-138b-4072-a1fe-02fc105796dd",
   "metadata": {},
   "outputs": [
    {
     "data": {
      "text/html": [
       "<div>\n",
       "<style scoped>\n",
       "    .dataframe tbody tr th:only-of-type {\n",
       "        vertical-align: middle;\n",
       "    }\n",
       "\n",
       "    .dataframe tbody tr th {\n",
       "        vertical-align: top;\n",
       "    }\n",
       "\n",
       "    .dataframe thead th {\n",
       "        text-align: right;\n",
       "    }\n",
       "</style>\n",
       "<table border=\"1\" class=\"dataframe\">\n",
       "  <thead>\n",
       "    <tr style=\"text-align: right;\">\n",
       "      <th></th>\n",
       "      <th>Schulnummer</th>\n",
       "      <th>Schultyp</th>\n",
       "      <th>Name</th>\n",
       "      <th>Strasse</th>\n",
       "      <th>PLZ</th>\n",
       "      <th>Ort</th>\n",
       "      <th>Homepage</th>\n",
       "      <th>Link</th>\n",
       "      <th>latitude</th>\n",
       "      <th>longitude</th>\n",
       "      <th>marker-symbol</th>\n",
       "      <th>marker-color</th>\n",
       "      <th>travel_duration_min</th>\n",
       "      <th>travel_distance_km</th>\n",
       "    </tr>\n",
       "  </thead>\n",
       "  <tbody>\n",
       "    <tr>\n",
       "      <th>73</th>\n",
       "      <td>120</td>\n",
       "      <td>Gymnasium</td>\n",
       "      <td>Rainer-Maria-Rilke-Gymnasium Icking</td>\n",
       "      <td>Ulrichstr. 1-7</td>\n",
       "      <td>82057</td>\n",
       "      <td>Icking</td>\n",
       "      <td>www.gym-icking.de</td>\n",
       "      <td>/schule/0120.html</td>\n",
       "      <td>47.956970</td>\n",
       "      <td>11.433730</td>\n",
       "      <td>star</td>\n",
       "      <td>#FF0000</td>\n",
       "      <td>61.533333</td>\n",
       "      <td>31.478</td>\n",
       "    </tr>\n",
       "    <tr>\n",
       "      <th>74</th>\n",
       "      <td>957</td>\n",
       "      <td>Gymnasium</td>\n",
       "      <td>Privates Gymnasium Eggenberg der St. Anna Coll...</td>\n",
       "      <td>Zeller Weg 27</td>\n",
       "      <td>82057</td>\n",
       "      <td>Icking</td>\n",
       "      <td>www.st-anna.eu</td>\n",
       "      <td>/schule/0957.html</td>\n",
       "      <td>47.974027</td>\n",
       "      <td>11.441587</td>\n",
       "      <td>star</td>\n",
       "      <td>#FF0000</td>\n",
       "      <td>68.500000</td>\n",
       "      <td>29.221</td>\n",
       "    </tr>\n",
       "    <tr>\n",
       "      <th>75</th>\n",
       "      <td>313</td>\n",
       "      <td>Gymnasium</td>\n",
       "      <td>Gymnasium der Benediktiner Schäftlarn</td>\n",
       "      <td>Kloster Schäftlarn 2</td>\n",
       "      <td>82067</td>\n",
       "      <td>Kloster Schäftlarn</td>\n",
       "      <td>www.abtei-schaeftlarn.de</td>\n",
       "      <td>/schule/0313.html</td>\n",
       "      <td>47.978626</td>\n",
       "      <td>11.467239</td>\n",
       "      <td>star</td>\n",
       "      <td>#FF0000</td>\n",
       "      <td>69.166667</td>\n",
       "      <td>28.727</td>\n",
       "    </tr>\n",
       "    <tr>\n",
       "      <th>89</th>\n",
       "      <td>132</td>\n",
       "      <td>Gymnasium</td>\n",
       "      <td>Landschulheim Kempfenhausen des Zweckverbandes...</td>\n",
       "      <td>Münchner Str. 49 - 63</td>\n",
       "      <td>82335</td>\n",
       "      <td>Berg</td>\n",
       "      <td>www.landschulheim-kempfenhausen.de</td>\n",
       "      <td>/schule/0132.html</td>\n",
       "      <td>47.992960</td>\n",
       "      <td>11.360220</td>\n",
       "      <td>star</td>\n",
       "      <td>#FF0000</td>\n",
       "      <td>66.700000</td>\n",
       "      <td>35.075</td>\n",
       "    </tr>\n",
       "    <tr>\n",
       "      <th>90</th>\n",
       "      <td>980</td>\n",
       "      <td>Gymnasium</td>\n",
       "      <td>Montessori-Schule Gut Biberkor Gymnasium Berg-...</td>\n",
       "      <td>Biberkorstr. 19 - 21</td>\n",
       "      <td>82335</td>\n",
       "      <td>Berg</td>\n",
       "      <td>www.montessori-biberkor.de</td>\n",
       "      <td>/schule/0980.html</td>\n",
       "      <td>47.943470</td>\n",
       "      <td>11.379750</td>\n",
       "      <td>star</td>\n",
       "      <td>#FF0000</td>\n",
       "      <td>75.633333</td>\n",
       "      <td>41.507</td>\n",
       "    </tr>\n",
       "    <tr>\n",
       "      <th>...</th>\n",
       "      <td>...</td>\n",
       "      <td>...</td>\n",
       "      <td>...</td>\n",
       "      <td>...</td>\n",
       "      <td>...</td>\n",
       "      <td>...</td>\n",
       "      <td>...</td>\n",
       "      <td>...</td>\n",
       "      <td>...</td>\n",
       "      <td>...</td>\n",
       "      <td>...</td>\n",
       "      <td>...</td>\n",
       "      <td>...</td>\n",
       "      <td>...</td>\n",
       "    </tr>\n",
       "    <tr>\n",
       "      <th>441</th>\n",
       "      <td>1019</td>\n",
       "      <td>Freie Waldorfschule</td>\n",
       "      <td>Freie Waldorfschule Chiemgau in Prien a.Chiems...</td>\n",
       "      <td>Bernauer Str. 34</td>\n",
       "      <td>83209</td>\n",
       "      <td>Prien a.Chiemsee</td>\n",
       "      <td>www.waldorfschule-chiemgau.de</td>\n",
       "      <td>/schule/1019.html</td>\n",
       "      <td>47.850953</td>\n",
       "      <td>12.344155</td>\n",
       "      <td>star</td>\n",
       "      <td>#FF0000</td>\n",
       "      <td>75.900000</td>\n",
       "      <td>86.377</td>\n",
       "    </tr>\n",
       "    <tr>\n",
       "      <th>442</th>\n",
       "      <td>1050</td>\n",
       "      <td>Freie Waldorfschule</td>\n",
       "      <td>Waldorfschule Landshut (Grund- und weiterführe...</td>\n",
       "      <td>Papiererstr. 25A</td>\n",
       "      <td>84034</td>\n",
       "      <td>Landshut</td>\n",
       "      <td>www.waldorfschule-landshut.de/</td>\n",
       "      <td>/schule/1050.html</td>\n",
       "      <td>48.538770</td>\n",
       "      <td>12.144490</td>\n",
       "      <td>star</td>\n",
       "      <td>#FF0000</td>\n",
       "      <td>79.833333</td>\n",
       "      <td>81.357</td>\n",
       "    </tr>\n",
       "    <tr>\n",
       "      <th>444</th>\n",
       "      <td>1046</td>\n",
       "      <td>Freie Waldorfschule</td>\n",
       "      <td>Freie Schule Glonntal in Baiern</td>\n",
       "      <td>Glonntalstr. 13</td>\n",
       "      <td>85625</td>\n",
       "      <td>Baiern</td>\n",
       "      <td>www.freie-schule-glonntal.de</td>\n",
       "      <td>/schule/1046.html</td>\n",
       "      <td>47.957824</td>\n",
       "      <td>11.895044</td>\n",
       "      <td>star</td>\n",
       "      <td>#FF0000</td>\n",
       "      <td>84.133333</td>\n",
       "      <td>46.399</td>\n",
       "    </tr>\n",
       "    <tr>\n",
       "      <th>448</th>\n",
       "      <td>1035</td>\n",
       "      <td>Freie Waldorfschule</td>\n",
       "      <td>Freie Waldorfschule Landsberg</td>\n",
       "      <td>Münchener Str. 72</td>\n",
       "      <td>86899</td>\n",
       "      <td>Landsberg am Lech</td>\n",
       "      <td>www.waldorf-landsberg.de</td>\n",
       "      <td>/schule/1035.html</td>\n",
       "      <td>48.051977</td>\n",
       "      <td>10.896691</td>\n",
       "      <td>star</td>\n",
       "      <td>#FF0000</td>\n",
       "      <td>92.650000</td>\n",
       "      <td>67.212</td>\n",
       "    </tr>\n",
       "    <tr>\n",
       "      <th>450</th>\n",
       "      <td>1008</td>\n",
       "      <td>Freie Waldorfschule</td>\n",
       "      <td>Rudolf-Steiner-Schule Nürnberg</td>\n",
       "      <td>Steinplattenweg 25</td>\n",
       "      <td>90491</td>\n",
       "      <td>Nürnberg</td>\n",
       "      <td>www.waldorfschule-nuernberg.de</td>\n",
       "      <td>/schule/1008.html</td>\n",
       "      <td>49.467577</td>\n",
       "      <td>11.117028</td>\n",
       "      <td>star</td>\n",
       "      <td>#FF0000</td>\n",
       "      <td>106.133333</td>\n",
       "      <td>206.404</td>\n",
       "    </tr>\n",
       "  </tbody>\n",
       "</table>\n",
       "<p>118 rows × 14 columns</p>\n",
       "</div>"
      ],
      "text/plain": [
       "     Schulnummer             Schultyp  \\\n",
       "73           120            Gymnasium   \n",
       "74           957            Gymnasium   \n",
       "75           313            Gymnasium   \n",
       "89           132            Gymnasium   \n",
       "90           980            Gymnasium   \n",
       "..           ...                  ...   \n",
       "441         1019  Freie Waldorfschule   \n",
       "442         1050  Freie Waldorfschule   \n",
       "444         1046  Freie Waldorfschule   \n",
       "448         1035  Freie Waldorfschule   \n",
       "450         1008  Freie Waldorfschule   \n",
       "\n",
       "                                                  Name                Strasse  \\\n",
       "73              Rainer-Maria-Rilke-Gymnasium Icking            Ulrichstr. 1-7   \n",
       "74   Privates Gymnasium Eggenberg der St. Anna Coll...          Zeller Weg 27   \n",
       "75             Gymnasium der Benediktiner Schäftlarn     Kloster Schäftlarn 2   \n",
       "89   Landschulheim Kempfenhausen des Zweckverbandes...  Münchner Str. 49 - 63   \n",
       "90   Montessori-Schule Gut Biberkor Gymnasium Berg-...   Biberkorstr. 19 - 21   \n",
       "..                                                 ...                    ...   \n",
       "441  Freie Waldorfschule Chiemgau in Prien a.Chiems...       Bernauer Str. 34   \n",
       "442  Waldorfschule Landshut (Grund- und weiterführe...       Papiererstr. 25A   \n",
       "444                  Freie Schule Glonntal in Baiern          Glonntalstr. 13   \n",
       "448                   Freie Waldorfschule Landsberg         Münchener Str. 72   \n",
       "450                  Rudolf-Steiner-Schule Nürnberg        Steinplattenweg 25   \n",
       "\n",
       "       PLZ                 Ort                            Homepage  \\\n",
       "73   82057              Icking                   www.gym-icking.de   \n",
       "74   82057              Icking                      www.st-anna.eu   \n",
       "75   82067  Kloster Schäftlarn            www.abtei-schaeftlarn.de   \n",
       "89   82335                Berg  www.landschulheim-kempfenhausen.de   \n",
       "90   82335                Berg          www.montessori-biberkor.de   \n",
       "..     ...                 ...                                 ...   \n",
       "441  83209    Prien a.Chiemsee       www.waldorfschule-chiemgau.de   \n",
       "442  84034            Landshut      www.waldorfschule-landshut.de/   \n",
       "444  85625              Baiern        www.freie-schule-glonntal.de   \n",
       "448  86899   Landsberg am Lech            www.waldorf-landsberg.de   \n",
       "450  90491            Nürnberg      www.waldorfschule-nuernberg.de   \n",
       "\n",
       "                  Link   latitude  longitude marker-symbol marker-color  \\\n",
       "73   /schule/0120.html  47.956970  11.433730          star      #FF0000   \n",
       "74   /schule/0957.html  47.974027  11.441587          star      #FF0000   \n",
       "75   /schule/0313.html  47.978626  11.467239          star      #FF0000   \n",
       "89   /schule/0132.html  47.992960  11.360220          star      #FF0000   \n",
       "90   /schule/0980.html  47.943470  11.379750          star      #FF0000   \n",
       "..                 ...        ...        ...           ...          ...   \n",
       "441  /schule/1019.html  47.850953  12.344155          star      #FF0000   \n",
       "442  /schule/1050.html  48.538770  12.144490          star      #FF0000   \n",
       "444  /schule/1046.html  47.957824  11.895044          star      #FF0000   \n",
       "448  /schule/1035.html  48.051977  10.896691          star      #FF0000   \n",
       "450  /schule/1008.html  49.467577  11.117028          star      #FF0000   \n",
       "\n",
       "     travel_duration_min  travel_distance_km  \n",
       "73             61.533333              31.478  \n",
       "74             68.500000              29.221  \n",
       "75             69.166667              28.727  \n",
       "89             66.700000              35.075  \n",
       "90             75.633333              41.507  \n",
       "..                   ...                 ...  \n",
       "441            75.900000              86.377  \n",
       "442            79.833333              81.357  \n",
       "444            84.133333              46.399  \n",
       "448            92.650000              67.212  \n",
       "450           106.133333             206.404  \n",
       "\n",
       "[118 rows x 14 columns]"
      ]
     },
     "execution_count": 8,
     "metadata": {},
     "output_type": "execute_result"
    }
   ],
   "source": [
    "travel_min = 60\n",
    "travel_max = 120\n",
    "schools_travel = schools_of_interest.loc[((schools_of_interest['travel_duration_min'] >= travel_min) & (schools_of_interest['travel_duration_min'] <= travel_max))]\n",
    "schools_travel"
   ]
  },
  {
   "cell_type": "code",
   "execution_count": 10,
   "id": "ae567de6-2aa5-49b1-927b-4695e8c2d3a0",
   "metadata": {},
   "outputs": [
    {
     "data": {
      "application/geo+json": {
       "features": [
        {
         "geometry": {
          "coordinates": [
           11.43373,
           47.95697
          ],
          "type": "Point"
         },
         "properties": {
          "Name": "Rainer-Maria-Rilke-Gymnasium Icking   ",
          "travel_duration_min": 61.53333333333333
         },
         "type": "Feature"
        },
        {
         "geometry": {
          "coordinates": [
           11.4415874,
           47.9740273
          ],
          "type": "Point"
         },
         "properties": {
          "Name": "Privates Gymnasium Eggenberg der St. Anna Colleg gemeinnützigen GmbH Icking ",
          "travel_duration_min": 68.5
         },
         "type": "Feature"
        },
        {
         "geometry": {
          "coordinates": [
           11.4672394,
           47.9786263
          ],
          "type": "Point"
         },
         "properties": {
          "Name": "Gymnasium der Benediktiner Schäftlarn  ",
          "travel_duration_min": 69.16666666666667
         },
         "type": "Feature"
        },
        {
         "geometry": {
          "coordinates": [
           11.36022,
           47.99296
          ],
          "type": "Point"
         },
         "properties": {
          "Name": "Landschulheim Kempfenhausen des Zweckverbandes Bayerische Landschulheime - Gymnasium - ",
          "travel_duration_min": 66.7
         },
         "type": "Feature"
        },
        {
         "geometry": {
          "coordinates": [
           11.37975,
           47.94347
          ],
          "type": "Point"
         },
         "properties": {
          "Name": "Montessori-Schule Gut Biberkor Gymnasium Berg-Höhenrain  ",
          "travel_duration_min": 75.63333333333334
         },
         "type": "Feature"
        },
        {
         "geometry": {
          "coordinates": [
           11.142678,
           47.8356659
          ],
          "type": "Point"
         },
         "properties": {
          "Name": "Gymnasium Weilheim i.OB   ",
          "travel_duration_min": 71.95
         },
         "type": "Feature"
        },
        {
         "geometry": {
          "coordinates": [
           11.1481579,
           47.8514975
          ],
          "type": "Point"
         },
         "properties": {
          "Name": "Privates Gymnasium des Private Oberlandschulen e.V. Weilheim ",
          "travel_duration_min": 70.88333333333334
         },
         "type": "Feature"
        },
        {
         "geometry": {
          "coordinates": [
           11.3737104,
           47.753683
          ],
          "type": "Point"
         },
         "properties": {
          "Name": "Gymnasium Penzberg   ",
          "travel_duration_min": 80.55
         },
         "type": "Feature"
        },
        {
         "geometry": {
          "coordinates": [
           11.2069757,
           47.6808332
          ],
          "type": "Point"
         },
         "properties": {
          "Name": "Staffelsee-Gymnasium Murnau   ",
          "travel_duration_min": 84.16666666666667
         },
         "type": "Feature"
        },
        {
         "geometry": {
          "coordinates": [
           11.1019921,
           47.4933451
          ],
          "type": "Point"
         },
         "properties": {
          "Name": "Werdenfels-Gymnasium Garmisch-Partenkirchen  ",
          "travel_duration_min": 100.73333333333333
         },
         "type": "Feature"
        },
        {
         "geometry": {
          "coordinates": [
           11.1033123,
           47.49637810000001
          ],
          "type": "Point"
         },
         "properties": {
          "Name": "Erzbischöfliches St.-Irmengard-Gymnasium Garmisch-Partenkirchen ",
          "travel_duration_min": 106.35
         },
         "type": "Feature"
        },
        {
         "geometry": {
          "coordinates": [
           11.4456426,
           47.8999297
          ],
          "type": "Point"
         },
         "properties": {
          "Name": "Spätberufenengymnasium der Erzbischöflichen Stiftung St. Matth Wolfratshausen-Waldram ",
          "travel_duration_min": 77.91666666666667
         },
         "type": "Feature"
        },
        {
         "geometry": {
          "coordinates": [
           11.4727245,
           47.86801730000001
          ],
          "type": "Point"
         },
         "properties": {
          "Name": "Gymnasium Geretsried   ",
          "travel_duration_min": 84.73333333333333
         },
         "type": "Feature"
        },
        {
         "geometry": {
          "coordinates": [
           12.1254075,
           47.8614699
          ],
          "type": "Point"
         },
         "properties": {
          "Name": "Karolinen-Gymnasium Rosenheim   ",
          "travel_duration_min": 65.15
         },
         "type": "Feature"
        },
        {
         "geometry": {
          "coordinates": [
           11.9980793,
           47.8663523
          ],
          "type": "Point"
         },
         "properties": {
          "Name": "Gymnasium Bad Aibling   ",
          "travel_duration_min": 72.38333333333334
         },
         "type": "Feature"
        },
        {
         "geometry": {
          "coordinates": [
           11.913666,
           47.8855258
          ],
          "type": "Point"
         },
         "properties": {
          "Name": "Gymnasium Bruckmühl   ",
          "travel_duration_min": 70.31666666666666
         },
         "type": "Feature"
        },
        {
         "geometry": {
          "coordinates": [
           12.103898,
           47.781984
          ],
          "type": "Point"
         },
         "properties": {
          "Name": "Inntal-Gymnasium Raubling   ",
          "travel_duration_min": 73.93333333333334
         },
         "type": "Feature"
        },
        {
         "geometry": {
          "coordinates": [
           12.348673,
           47.856804
          ],
          "type": "Point"
         },
         "properties": {
          "Name": "Ludwig-Thoma-Gymnasium Prien   ",
          "travel_duration_min": 74.11666666666666
         },
         "type": "Feature"
        },
        {
         "geometry": {
          "coordinates": [
           12.6461919,
           47.8716652
          ],
          "type": "Point"
         },
         "properties": {
          "Name": "Chiemgau-Gymnasium Traunstein   ",
          "travel_duration_min": 105.55
         },
         "type": "Feature"
        },
        {
         "geometry": {
          "coordinates": [
           12.6373922,
           47.8702352
          ],
          "type": "Point"
         },
         "properties": {
          "Name": "Annette-Kolb-Gymnasium Traunstein   ",
          "travel_duration_min": 96.86666666666666
         },
         "type": "Feature"
        },
        {
         "geometry": {
          "coordinates": [
           11.5649874,
           47.7644574
          ],
          "type": "Point"
         },
         "properties": {
          "Name": "Gabriel-von-Seidl-Gymnasium Bad Tölz  ",
          "travel_duration_min": 87.05
         },
         "type": "Feature"
        },
        {
         "geometry": {
          "coordinates": [
           11.587212,
           47.6722543
          ],
          "type": "Point"
         },
         "properties": {
          "Name": "Erzbischöfliches St.-Ursula-Gymnasium Schloss Hohenburg Lenggries ",
          "travel_duration_min": 103.35
         },
         "type": "Feature"
        },
        {
         "geometry": {
          "coordinates": [
           11.62544,
           47.7673
          ],
          "type": "Point"
         },
         "properties": {
          "Name": "Max-Rill-Gymnasium Schloss Reichersbeuern des Max-Rill-Gymnasium Schloss Reichersbeuern e.V.",
          "travel_duration_min": 85.3
         },
         "type": "Feature"
        },
        {
         "geometry": {
          "coordinates": [
           11.75722,
           47.70809
          ],
          "type": "Point"
         },
         "properties": {
          "Name": "Gymnasium Tegernsee   ",
          "travel_duration_min": 91.66666666666667
         },
         "type": "Feature"
        },
        {
         "geometry": {
          "coordinates": [
           11.8294238,
           47.7840412
          ],
          "type": "Point"
         },
         "properties": {
          "Name": "Gymnasium Miesbach   ",
          "travel_duration_min": 73.13333333333334
         },
         "type": "Feature"
        },
        {
         "geometry": {
          "coordinates": [
           12.1589887,
           48.5365543
          ],
          "type": "Point"
         },
         "properties": {
          "Name": "Hans-Carossa-Gymnasium Landshut   ",
          "travel_duration_min": 110.58333333333333
         },
         "type": "Feature"
        },
        {
         "geometry": {
          "coordinates": [
           12.1247,
           48.54207
          ],
          "type": "Point"
         },
         "properties": {
          "Name": "Hans-Leinberger-Gymnasium Landshut   ",
          "travel_duration_min": 79.08333333333333
         },
         "type": "Feature"
        },
        {
         "geometry": {
          "coordinates": [
           12.1484828,
           48.5422661
          ],
          "type": "Point"
         },
         "properties": {
          "Name": "Gymnasium der Schulstiftung Seligenthal in Landshut  ",
          "travel_duration_min": 77.85
         },
         "type": "Feature"
        },
        {
         "geometry": {
          "coordinates": [
           12.2371677,
           48.7728743
          ],
          "type": "Point"
         },
         "properties": {
          "Name": "Burkhart-Gymnasium Mallersdorf-Pfaffenberg  ",
          "travel_duration_min": 113.88333333333334
         },
         "type": "Feature"
        },
        {
         "geometry": {
          "coordinates": [
           12.50288,
           48.6296486
          ],
          "type": "Point"
         },
         "properties": {
          "Name": "Gymnasium Dingolfing   ",
          "travel_duration_min": 116.26666666666667
         },
         "type": "Feature"
        },
        {
         "geometry": {
          "coordinates": [
           12.36299,
           48.45703
          ],
          "type": "Point"
         },
         "properties": {
          "Name": "Maximilian-von-Montgelas-Gymnasium Vilsbiburg  ",
          "travel_duration_min": 119.06666666666666
         },
         "type": "Feature"
        },
        {
         "geometry": {
          "coordinates": [
           12.14758,
           48.27959
          ],
          "type": "Point"
         },
         "properties": {
          "Name": "Gymnasium Dorfen   ",
          "travel_duration_min": 78.76666666666667
         },
         "type": "Feature"
        },
        {
         "geometry": {
          "coordinates": [
           12.5262445,
           48.2471518
          ],
          "type": "Point"
         },
         "properties": {
          "Name": "Ruperti-Gymnasium Mühldorf a.Inn   ",
          "travel_duration_min": 95.91666666666667
         },
         "type": "Feature"
        },
        {
         "geometry": {
          "coordinates": [
           12.4112892,
           48.2039143
          ],
          "type": "Point"
         },
         "properties": {
          "Name": "Gymnasium Waldkraiburg   ",
          "travel_duration_min": 106.7
         },
         "type": "Feature"
        },
        {
         "geometry": {
          "coordinates": [
           12.6795187,
           48.2276097
          ],
          "type": "Point"
         },
         "properties": {
          "Name": "Maria-Ward-Gymnasium Altötting der Maria-Ward-Schulstiftung Passau  ",
          "travel_duration_min": 111.81666666666666
         },
         "type": "Feature"
        },
        {
         "geometry": {
          "coordinates": [
           11.421218,
           48.7669956
          ],
          "type": "Point"
         },
         "properties": {
          "Name": "Reuchlin-Gymnasium Ingolstadt   ",
          "travel_duration_min": 68.43333333333334
         },
         "type": "Feature"
        },
        {
         "geometry": {
          "coordinates": [
           11.4254832,
           48.75949670000001
          ],
          "type": "Point"
         },
         "properties": {
          "Name": "Christoph-Scheiner-Gymnasium Ingolstadt  ",
          "travel_duration_min": 67.18333333333334
         },
         "type": "Feature"
        },
        {
         "geometry": {
          "coordinates": [
           11.4175229,
           48.7655564
          ],
          "type": "Point"
         },
         "properties": {
          "Name": "Katharinen-Gymnasium Ingolstadt   ",
          "travel_duration_min": 70.88333333333334
         },
         "type": "Feature"
        },
        {
         "geometry": {
          "coordinates": [
           11.4214101,
           48.7650877
          ],
          "type": "Point"
         },
         "properties": {
          "Name": "Gnadenthal-Gymnasium Ingolstadt der Diözese Eichstätt  ",
          "travel_duration_min": 68.3
         },
         "type": "Feature"
        },
        {
         "geometry": {
          "coordinates": [
           11.3896705,
           48.7693962
          ],
          "type": "Point"
         },
         "properties": {
          "Name": "Montessori-Gymnasium Ingolstadt des Pädagogischen Zentrums Förderkreis + Haus Miteinander gGmb ",
          "travel_duration_min": 91.86666666666666
         },
         "type": "Feature"
        },
        {
         "geometry": {
          "coordinates": [
           11.4228848,
           48.7441068
          ],
          "type": "Point"
         },
         "properties": {
          "Name": "Apian-Gymnasium Ingolstadt   ",
          "travel_duration_min": 62.333333333333336
         },
         "type": "Feature"
        },
        {
         "geometry": {
          "coordinates": [
           11.3987127,
           48.77817169999999
          ],
          "type": "Point"
         },
         "properties": {
          "Name": "SIS Swiss International School Ingolstadt - Gymnasium in Träger- schaft der SIS Swiss International School gemeinnützige GmbH",
          "travel_duration_min": 83.58333333333333
         },
         "type": "Feature"
        },
        {
         "geometry": {
          "coordinates": [
           11.1948756,
           48.887516
          ],
          "type": "Point"
         },
         "properties": {
          "Name": "Willibald-Gymnasium Eichstätt   ",
          "travel_duration_min": 119.6
         },
         "type": "Feature"
        },
        {
         "geometry": {
          "coordinates": [
           11.3613868,
           48.798433
          ],
          "type": "Point"
         },
         "properties": {
          "Name": "Gymnasium Gaimersheim   ",
          "travel_duration_min": 114.3
         },
         "type": "Feature"
        },
        {
         "geometry": {
          "coordinates": [
           11.4990545,
           48.5258079
          ],
          "type": "Point"
         },
         "properties": {
          "Name": "Schyren-Gymnasium Pfaffenhofen a.d.Ilm  ",
          "travel_duration_min": 64.48333333333333
         },
         "type": "Feature"
        },
        {
         "geometry": {
          "coordinates": [
           11.9354211,
           48.4751971
          ],
          "type": "Point"
         },
         "properties": {
          "Name": "Karl-Ritter-von-Frisch-Gymnasium Moosburg  ",
          "travel_duration_min": 62.55
         },
         "type": "Feature"
        },
        {
         "geometry": {
          "coordinates": [
           11.9009026,
           48.2979019
          ],
          "type": "Point"
         },
         "properties": {
          "Name": "Anne-Frank-Gymnasium Erding   ",
          "travel_duration_min": 65.18333333333334
         },
         "type": "Feature"
        },
        {
         "geometry": {
          "coordinates": [
           11.8900873,
           48.2974594
          ],
          "type": "Point"
         },
         "properties": {
          "Name": "Korbinian-Aigner-Gymnasium Erding   ",
          "travel_duration_min": 71.55
         },
         "type": "Feature"
        },
        {
         "geometry": {
          "coordinates": [
           11.960809,
           48.0435037
          ],
          "type": "Point"
         },
         "properties": {
          "Name": "Max-Mannheimer-Gymnasium Grafing  ",
          "travel_duration_min": 61.61666666666667
         },
         "type": "Feature"
        },
        {
         "geometry": {
          "coordinates": [
           10.8989801,
           48.37637910000001
          ],
          "type": "Point"
         },
         "properties": {
          "Name": "Gymnasium bei St.Stephan Augsburg   ",
          "travel_duration_min": 65.35
         },
         "type": "Feature"
        },
        {
         "geometry": {
          "coordinates": [
           10.8882591,
           48.3725485
          ],
          "type": "Point"
         },
         "properties": {
          "Name": "Peutinger-Gymnasium Augsburg   ",
          "travel_duration_min": 60.28333333333333
         },
         "type": "Feature"
        },
        {
         "geometry": {
          "coordinates": [
           10.896828,
           48.3749881
          ],
          "type": "Point"
         },
         "properties": {
          "Name": "Maria-Ward-Gymnasium Augsburg d. Schulwerks d. Diözese Augsburg  ",
          "travel_duration_min": 62.06666666666667
         },
         "type": "Feature"
        },
        {
         "geometry": {
          "coordinates": [
           10.8872963,
           48.3549477
          ],
          "type": "Point"
         },
         "properties": {
          "Name": "Gymnasium bei St.Anna Augsburg   ",
          "travel_duration_min": 65.43333333333334
         },
         "type": "Feature"
        },
        {
         "geometry": {
          "coordinates": [
           10.950322,
           48.3536085
          ],
          "type": "Point"
         },
         "properties": {
          "Name": "Rudolf-Diesel-Gymnasium Augsburg   ",
          "travel_duration_min": 65.73333333333333
         },
         "type": "Feature"
        },
        {
         "geometry": {
          "coordinates": [
           10.87422,
           48.3454772
          ],
          "type": "Point"
         },
         "properties": {
          "Name": "Gymnasium Maria Stern Augsburg des Schulwerks der Diözese Augsburg  ",
          "travel_duration_min": 102.68333333333334
         },
         "type": "Feature"
        },
        {
         "geometry": {
          "coordinates": [
           10.9895105,
           48.3616544
          ],
          "type": "Point"
         },
         "properties": {
          "Name": "Staatliches Gymnasium Friedberg  ",
          "travel_duration_min": 76.81666666666666
         },
         "type": "Feature"
        },
        {
         "geometry": {
          "coordinates": [
           10.8361224,
           48.397158
          ],
          "type": "Point"
         },
         "properties": {
          "Name": "Justus-von-Liebig-Gymnasium Neusäß   ",
          "travel_duration_min": 68.98333333333333
         },
         "type": "Feature"
        },
        {
         "geometry": {
          "coordinates": [
           10.875124,
           48.4180594
          ],
          "type": "Point"
         },
         "properties": {
          "Name": "Paul-Klee-Gymnasium Gersthofen   ",
          "travel_duration_min": 100.03333333333333
         },
         "type": "Feature"
        },
        {
         "geometry": {
          "coordinates": [
           10.9759889,
           48.2641409
          ],
          "type": "Point"
         },
         "properties": {
          "Name": "Staatl. Gymnasium Mering   ",
          "travel_duration_min": 62
         },
         "type": "Feature"
        },
        {
         "geometry": {
          "coordinates": [
           10.7601848,
           48.3657937
          ],
          "type": "Point"
         },
         "properties": {
          "Name": "Schmuttertal-Gymnasium Diedorf   ",
          "travel_duration_min": 109.95
         },
         "type": "Feature"
        },
        {
         "geometry": {
          "coordinates": [
           11.2717117,
           48.55810460000001
          ],
          "type": "Point"
         },
         "properties": {
          "Name": "Gymnasium Schrobenhausen   ",
          "travel_duration_min": 103.25
         },
         "type": "Feature"
        },
        {
         "geometry": {
          "coordinates": [
           11.1452453,
           48.4592874
          ],
          "type": "Point"
         },
         "properties": {
          "Name": "Deutschherren-Gymnasium Aichach   ",
          "travel_duration_min": 104.81666666666666
         },
         "type": "Feature"
        },
        {
         "geometry": {
          "coordinates": [
           10.7765588,
           48.7270948
          ],
          "type": "Point"
         },
         "properties": {
          "Name": "Gymnasium Donauwörth   ",
          "travel_duration_min": 105.6
         },
         "type": "Feature"
        },
        {
         "geometry": {
          "coordinates": [
           10.7258683,
           48.028275
          ],
          "type": "Point"
         },
         "properties": {
          "Name": "Gymnasium Buchloe   ",
          "travel_duration_min": 73.51666666666667
         },
         "type": "Feature"
        },
        {
         "geometry": {
          "coordinates": [
           10.7680251,
           48.1843115
          ],
          "type": "Point"
         },
         "properties": {
          "Name": "Leonhard-Wagner-Gymnasium Schwabmünchen  ",
          "travel_duration_min": 82.13333333333334
         },
         "type": "Feature"
        },
        {
         "geometry": {
          "coordinates": [
           10.6392416,
           48.0504206
          ],
          "type": "Point"
         },
         "properties": {
          "Name": "Joseph-Bernhart-Gymnasium Türkheim   ",
          "travel_duration_min": 106.8
         },
         "type": "Feature"
        },
        {
         "geometry": {
          "coordinates": [
           10.8620265,
           48.0518795
          ],
          "type": "Point"
         },
         "properties": {
          "Name": "Dominikus-Zimmermann-Gymnasium Landsberg am Lech  ",
          "travel_duration_min": 75.4
         },
         "type": "Feature"
        },
        {
         "geometry": {
          "coordinates": [
           10.8737321,
           48.0521338
          ],
          "type": "Point"
         },
         "properties": {
          "Name": "Ignaz-Kögler-Gymnasium Landsberg am Lech  ",
          "travel_duration_min": 71.6
         },
         "type": "Feature"
        },
        {
         "geometry": {
          "coordinates": [
           11.1032012,
           47.9633321
          ],
          "type": "Point"
         },
         "properties": {
          "Name": "Ammersee-Gymnasium Dießen   ",
          "travel_duration_min": 94.2
         },
         "type": "Feature"
        },
        {
         "geometry": {
          "coordinates": [
           11.0973653,
           48.0550125
          ],
          "type": "Point"
         },
         "properties": {
          "Name": "Ernst-Reisinger-Schule Schondorf staatl. anerk. Gymnasium mit neusprachl., wirtschafts- und sozialwissenschaftl. Zweig",
          "travel_duration_min": 85.5
         },
         "type": "Feature"
        },
        {
         "geometry": {
          "coordinates": [
           11.0973653,
           48.0550125
          ],
          "type": "Point"
         },
         "properties": {
          "Name": "Julius-Lohmann-Gymnasium Schondorf Staatl. genehmigt (wirtschafts- u. sozialwiss. Ausbildungsrichtung)",
          "travel_duration_min": 85.5
         },
         "type": "Feature"
        },
        {
         "geometry": {
          "coordinates": [
           11.0432218,
           48.0953261
          ],
          "type": "Point"
         },
         "properties": {
          "Name": "Rhabanus-Maurus-Gymnasium Sankt Ottilien des Schulwerks der Diözese Augsburg ",
          "travel_duration_min": 67.05
         },
         "type": "Feature"
        },
        {
         "geometry": {
          "coordinates": [
           10.8932341,
           47.8087761
          ],
          "type": "Point"
         },
         "properties": {
          "Name": "Welfen-Gymnasium Schongau   ",
          "travel_duration_min": 107.2
         },
         "type": "Feature"
        },
        {
         "geometry": {
          "coordinates": [
           10.3067352,
           47.7152556
          ],
          "type": "Point"
         },
         "properties": {
          "Name": "Allgäu-Gymnasium Kempten   ",
          "travel_duration_min": 118.06666666666666
         },
         "type": "Feature"
        },
        {
         "geometry": {
          "coordinates": [
           10.62555,
           47.88346000000001
          ],
          "type": "Point"
         },
         "properties": {
          "Name": "Jakob-Brucker-Gymnasium Kaufbeuren   ",
          "travel_duration_min": 93.53333333333333
         },
         "type": "Feature"
        },
        {
         "geometry": {
          "coordinates": [
           10.6113108,
           47.88177839999999
          ],
          "type": "Point"
         },
         "properties": {
          "Name": "Marien-Gymnasium Kaufbeuren d. Schulwerks d. Diözese Augsburg  ",
          "travel_duration_min": 102.3
         },
         "type": "Feature"
        },
        {
         "geometry": {
          "coordinates": [
           10.6105168,
           47.7725253
          ],
          "type": "Point"
         },
         "properties": {
          "Name": "Gymnasium Marktoberdorf   ",
          "travel_duration_min": 112.3
         },
         "type": "Feature"
        },
        {
         "geometry": {
          "coordinates": [
           10.4900217,
           48.0377468
          ],
          "type": "Point"
         },
         "properties": {
          "Name": "Maristenkolleg Mindelheim - Gymnasium - des Schulwerks der Diözese Augsburg ",
          "travel_duration_min": 106.85
         },
         "type": "Feature"
        },
        {
         "geometry": {
          "coordinates": [
           10.007509,
           48.3989431
          ],
          "type": "Point"
         },
         "properties": {
          "Name": "Lessing-Gymnasium Neu-Ulm   ",
          "travel_duration_min": 118.75
         },
         "type": "Feature"
        },
        {
         "geometry": {
          "coordinates": [
           10.27637,
           48.4565
          ],
          "type": "Point"
         },
         "properties": {
          "Name": "Maria-Ward-Gymnasium Günzburg d. Schulwerks d. Diözese Augsburg  ",
          "travel_duration_min": 82.5
         },
         "type": "Feature"
        },
        {
         "geometry": {
          "coordinates": [
           10.4457771,
           48.4097565
          ],
          "type": "Point"
         },
         "properties": {
          "Name": "Mindeltal-Gymnasium Jettingen-Scheppach der Vision Privatschulen gGmbH ",
          "travel_duration_min": 113.58333333333333
         },
         "type": "Feature"
        },
        {
         "geometry": {
          "coordinates": [
           11.08339,
           49.45659
          ],
          "type": "Point"
         },
         "properties": {
          "Name": "Willstätter-Gymnasium Nürnberg   ",
          "travel_duration_min": 96.96666666666667
         },
         "type": "Feature"
        },
        {
         "geometry": {
          "coordinates": [
           11.0810344,
           49.457634
          ],
          "type": "Point"
         },
         "properties": {
          "Name": "Städtisches Johannes-Scharrer- Gymnasium Nürnberg  ",
          "travel_duration_min": 99.16666666666667
         },
         "type": "Feature"
        },
        {
         "geometry": {
          "coordinates": [
           11.0852374,
           49.4626154
          ],
          "type": "Point"
         },
         "properties": {
          "Name": "Hans-Sachs-Gymnasium Nürnberg   ",
          "travel_duration_min": 94.06666666666666
         },
         "type": "Feature"
        },
        {
         "geometry": {
          "coordinates": [
           11.0845915,
           49.4601849
          ],
          "type": "Point"
         },
         "properties": {
          "Name": "Städtisches Labenwolf-Gymnasium Nürnberg  ",
          "travel_duration_min": 97.26666666666667
         },
         "type": "Feature"
        },
        {
         "geometry": {
          "coordinates": [
           11.0670903,
           49.46513419999999
          ],
          "type": "Point"
         },
         "properties": {
          "Name": "Städtische Peter-Vischer-Schule Nürnberg -Gymnasium-  ",
          "travel_duration_min": 100.68333333333334
         },
         "type": "Feature"
        },
        {
         "geometry": {
          "coordinates": [
           11.0171353,
           49.4703111
          ],
          "type": "Point"
         },
         "properties": {
          "Name": "Jenaplan-Gymnasium Nürnberg der Jenaplan-Gymnasium Nürnberg gemeinnützige eG ",
          "travel_duration_min": 114.83333333333333
         },
         "type": "Feature"
        },
        {
         "geometry": {
          "coordinates": [
           11.051194,
           49.4553694
          ],
          "type": "Point"
         },
         "properties": {
          "Name": "Dürer-Gymnasium Nürnberg   ",
          "travel_duration_min": 98.78333333333333
         },
         "type": "Feature"
        },
        {
         "geometry": {
          "coordinates": [
           11.0637136,
           49.4547928
          ],
          "type": "Point"
         },
         "properties": {
          "Name": "Wilhelm-Löhe-Schule Nürnberg Evang. kooperative Gesamtschule -Gymnasium- ",
          "travel_duration_min": 103.21666666666667
         },
         "type": "Feature"
        },
        {
         "geometry": {
          "coordinates": [
           11.0673162,
           49.4313041
          ],
          "type": "Point"
         },
         "properties": {
          "Name": "Pirckheimer-Gymnasium Nürnberg   ",
          "travel_duration_min": 106.88333333333334
         },
         "type": "Feature"
        },
        {
         "geometry": {
          "coordinates": [
           11.0684061,
           49.4323844
          ],
          "type": "Point"
         },
         "properties": {
          "Name": "Städtisches Sigena-Gymnasium Nürnberg  ",
          "travel_duration_min": 109.28333333333333
         },
         "type": "Feature"
        },
        {
         "geometry": {
          "coordinates": [
           11.0445815,
           49.4122433
          ],
          "type": "Point"
         },
         "properties": {
          "Name": "Sigmund-Schuckert-Gymnasium Nürnberg  ",
          "travel_duration_min": 106.9
         },
         "type": "Feature"
        },
        {
         "geometry": {
          "coordinates": [
           11.0853526,
           49.4438354
          ],
          "type": "Point"
         },
         "properties": {
          "Name": "Priv. wirtschafts- und sozialwiss. SABEL Gymnasium Nürnberg der Sabel Schulen Nürnberg gGmbH, staatlich genehmigt",
          "travel_duration_min": 90
         },
         "type": "Feature"
        },
        {
         "geometry": {
          "coordinates": [
           11.1254976,
           49.4146156
          ],
          "type": "Point"
         },
         "properties": {
          "Name": "Martin-Behaim-Gymnasium Nürnberg   ",
          "travel_duration_min": 115.03333333333333
         },
         "type": "Feature"
        },
        {
         "geometry": {
          "coordinates": [
           11.1254382,
           49.41779589999999
          ],
          "type": "Point"
         },
         "properties": {
          "Name": "Städtische Bertolt-Brecht-Schule Nürnberg -Gymnasium-  ",
          "travel_duration_min": 117.15
         },
         "type": "Feature"
        },
        {
         "geometry": {
          "coordinates": [
           11.1073073,
           49.4387267
          ],
          "type": "Point"
         },
         "properties": {
          "Name": "Neues Gymnasium Nürnberg   ",
          "travel_duration_min": 105.03333333333333
         },
         "type": "Feature"
        },
        {
         "geometry": {
          "coordinates": [
           11.0941417,
           49.458054
          ],
          "type": "Point"
         },
         "properties": {
          "Name": "Melanchthon-Gymnasium Nürnberg   ",
          "travel_duration_min": 96.75
         },
         "type": "Feature"
        },
        {
         "geometry": {
          "coordinates": [
           11.0900317,
           49.4528431
          ],
          "type": "Point"
         },
         "properties": {
          "Name": "Maria-Ward-Gymnasium Nürnberg der Erzdiözese Bamberg  ",
          "travel_duration_min": 93.18333333333334
         },
         "type": "Feature"
        },
        {
         "geometry": {
          "coordinates": [
           11.25181,
           49.48104000000001
          ],
          "type": "Point"
         },
         "properties": {
          "Name": "Geschwister-Scholl-Gymnasium Röthenbach a.d.Pegnitz  ",
          "travel_duration_min": 119.05
         },
         "type": "Feature"
        },
        {
         "geometry": {
          "coordinates": [
           10.9915648,
           49.47614480000001
          ],
          "type": "Point"
         },
         "properties": {
          "Name": "Heinrich-Schliemann-Gymnasium Fürth  ",
          "travel_duration_min": 109.46666666666667
         },
         "type": "Feature"
        },
        {
         "geometry": {
          "coordinates": [
           11.0020066,
           49.471388
          ],
          "type": "Point"
         },
         "properties": {
          "Name": "Helene-Lange-Gymnasium Fürth   ",
          "travel_duration_min": 108.31666666666666
         },
         "type": "Feature"
        },
        {
         "geometry": {
          "coordinates": [
           10.994751,
           49.4637766
          ],
          "type": "Point"
         },
         "properties": {
          "Name": "Hardenberg-Gymnasium Fürth   ",
          "travel_duration_min": 116.48333333333333
         },
         "type": "Feature"
        },
        {
         "geometry": {
          "coordinates": [
           11.0098148,
           49.5947538
          ],
          "type": "Point"
         },
         "properties": {
          "Name": "Christian-Ernst-Gymnasium Erlangen   ",
          "travel_duration_min": 113.03333333333333
         },
         "type": "Feature"
        },
        {
         "geometry": {
          "coordinates": [
           11.0170836,
           49.5988913
          ],
          "type": "Point"
         },
         "properties": {
          "Name": "Städtisches Marie-Therese- Gymnasium Erlangen  ",
          "travel_duration_min": 119.9
         },
         "type": "Feature"
        },
        {
         "geometry": {
          "coordinates": [
           11.0195957,
           49.3265384
          ],
          "type": "Point"
         },
         "properties": {
          "Name": "Adam-Kraft-Gymnasium Schwabach   ",
          "travel_duration_min": 115.25
         },
         "type": "Feature"
        },
        {
         "geometry": {
          "coordinates": [
           11.0233467,
           49.3185165
          ],
          "type": "Point"
         },
         "properties": {
          "Name": "Wolfram-von-Eschenbach-Gymnasium Schwabach  ",
          "travel_duration_min": 115.73333333333333
         },
         "type": "Feature"
        },
        {
         "geometry": {
          "coordinates": [
           11.0939704,
           49.2361401
          ],
          "type": "Point"
         },
         "properties": {
          "Name": "Gymnasium Roth   ",
          "travel_duration_min": 119.68333333333334
         },
         "type": "Feature"
        },
        {
         "geometry": {
          "coordinates": [
           11.2700631,
           49.5169676
          ],
          "type": "Point"
         },
         "properties": {
          "Name": "Christoph-Jacob-Treu-Gymnasium Lauf a.d.Pegnitz  ",
          "travel_duration_min": 118.86666666666666
         },
         "type": "Feature"
        },
        {
         "geometry": {
          "coordinates": [
           10.5784737,
           49.2994308
          ],
          "type": "Point"
         },
         "properties": {
          "Name": "Platen-Gymnasium Ansbach   ",
          "travel_duration_min": 116.4
         },
         "type": "Feature"
        },
        {
         "geometry": {
          "coordinates": [
           12.6846507,
           48.6783334
          ],
          "type": "Point"
         },
         "properties": {
          "Name": "Gymnasium Landau a.d.Isar   ",
          "travel_duration_min": 114.01666666666667
         },
         "type": "Feature"
        },
        {
         "geometry": {
          "coordinates": [
           11.1412196,
           47.7770259
          ],
          "type": "Point"
         },
         "properties": {
          "Name": "Freie Waldorfschule Weilheim (Grund- und weiterführende Schule) der Freien Waldorfschule Weilheim gemeinnützige eG, Huglfing",
          "travel_duration_min": 66.08333333333333
         },
         "type": "Feature"
        },
        {
         "geometry": {
          "coordinates": [
           11.4638178,
           47.8875213
          ],
          "type": "Point"
         },
         "properties": {
          "Name": "Freie Waldorfschule Isartal in Geretsried der Freie Waldorfschule Isartal in Geretsried gemeinnützige e.G.",
          "travel_duration_min": 85.65
         },
         "type": "Feature"
        },
        {
         "geometry": {
          "coordinates": [
           12.112287,
           47.8363271
          ],
          "type": "Point"
         },
         "properties": {
          "Name": "Freie Waldorfschule Rosenheim   ",
          "travel_duration_min": 73
         },
         "type": "Feature"
        },
        {
         "geometry": {
          "coordinates": [
           12.344155,
           47.8509527
          ],
          "type": "Point"
         },
         "properties": {
          "Name": "Freie Waldorfschule Chiemgau in Prien a.Chiemsee  ",
          "travel_duration_min": 75.9
         },
         "type": "Feature"
        },
        {
         "geometry": {
          "coordinates": [
           12.1444897,
           48.5387697
          ],
          "type": "Point"
         },
         "properties": {
          "Name": "Waldorfschule Landshut (Grund- und weiterführende Schule) der Schulgenossenschaft Landshut e.G.",
          "travel_duration_min": 79.83333333333333
         },
         "type": "Feature"
        },
        {
         "geometry": {
          "coordinates": [
           11.8950441,
           47.9578235
          ],
          "type": "Point"
         },
         "properties": {
          "Name": "Freie Schule Glonntal in Baiern  ",
          "travel_duration_min": 84.13333333333334
         },
         "type": "Feature"
        },
        {
         "geometry": {
          "coordinates": [
           10.896691,
           48.0519768
          ],
          "type": "Point"
         },
         "properties": {
          "Name": "Freie Waldorfschule Landsberg   ",
          "travel_duration_min": 92.65
         },
         "type": "Feature"
        },
        {
         "geometry": {
          "coordinates": [
           11.1170282,
           49.46757729999999
          ],
          "type": "Point"
         },
         "properties": {
          "Name": "Rudolf-Steiner-Schule Nürnberg   ",
          "travel_duration_min": 106.13333333333334
         },
         "type": "Feature"
        }
       ],
       "type": "FeatureCollection"
      },
      "text/plain": [
       "<IPython.display.GeoJSON object>"
      ]
     },
     "metadata": {
      "application/geo+json": {
       "expanded": false,
       "root": "root"
      }
     },
     "output_type": "display_data"
    }
   ],
   "source": [
    "geo_json = to_geojson(df=df_1, lat='latitude', lon='longitude', properties=['Name', 'travel_duration_min'])\n",
    "GeoJSON(geo_json)"
   ]
  }
 ],
 "metadata": {
  "kernelspec": {
   "display_name": "default:Python",
   "language": "python",
   "name": "conda-env-default-py"
  },
  "language_info": {
   "codemirror_mode": {
    "name": "ipython",
    "version": 3
   },
   "file_extension": ".py",
   "mimetype": "text/x-python",
   "name": "python",
   "nbconvert_exporter": "python",
   "pygments_lexer": "ipython3",
   "version": "3.9.13"
  }
 },
 "nbformat": 4,
 "nbformat_minor": 5
}
